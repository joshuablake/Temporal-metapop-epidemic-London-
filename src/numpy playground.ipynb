{
 "cells": [
  {
   "cell_type": "code",
   "execution_count": 2,
   "metadata": {},
   "outputs": [],
   "source": [
    "import numpy as np"
   ]
  },
  {
   "cell_type": "markdown",
   "metadata": {},
   "source": [
    "# Matrix utils"
   ]
  },
  {
   "cell_type": "code",
   "execution_count": 7,
   "metadata": {},
   "outputs": [],
   "source": [
    "def matrix_row_sum(M):\n",
    "    assert len(M.shape) == 2\n",
    "    return M.sum(axis=1)"
   ]
  },
  {
   "cell_type": "markdown",
   "metadata": {},
   "source": [
    "# Set diagonals so that row sums to 1"
   ]
  },
  {
   "cell_type": "code",
   "execution_count": 44,
   "metadata": {},
   "outputs": [
    {
     "name": "stdout",
     "output_type": "stream",
     "text": [
      "Start\n",
      "[[0.1 0.2 0.4]\n",
      " [0.3 0.4 0.2]\n",
      " [0.1 0.1 0.1]]\n",
      "End\n",
      "[[0.4 0.2 0.4]\n",
      " [0.3 0.5 0.2]\n",
      " [0.1 0.1 0.8]]\n"
     ]
    }
   ],
   "source": [
    "# inputs\n",
    "M = np.array([[0.1, 0.2, 0.4], [0.3, 0.4, 0.2], [0.1, 0.1, 0.1]])\n",
    "M_start = M.copy()\n",
    "# compute\n",
    "diags = np.diag_indices_from(M)\n",
    "M[diags] = np.ones(M.shape[0]) - matrix_row_sum(M) + np.diag(M)\n",
    "\n",
    "# check row sums\n",
    "assert np.allclose(matrix_row_sum(M), 1)\n",
    "# check non-diagonal elements the same\n",
    "assert np.allclose(M_start - np.diagflat(np.diag(M_start)),\n",
    "                   M       - np.diagflat(np.diag(M)))\n",
    "# output\n",
    "print('Start')\n",
    "print(M_start)\n",
    "print('End')\n",
    "print(M)"
   ]
  },
  {
   "cell_type": "markdown",
   "metadata": {},
   "source": [
    "# Errors"
   ]
  },
  {
   "cell_type": "code",
   "execution_count": 4,
   "metadata": {},
   "outputs": [
    {
     "data": {
      "text/plain": [
       "{'divide': 'warn', 'invalid': 'warn', 'over': 'warn', 'under': 'ignore'}"
      ]
     },
     "execution_count": 4,
     "metadata": {},
     "output_type": "execute_result"
    }
   ],
   "source": [
    "np.seterr(all='raise', under='ignore')"
   ]
  },
  {
   "cell_type": "code",
   "execution_count": 5,
   "metadata": {},
   "outputs": [
    {
     "data": {
      "text/plain": [
       "{'divide': 'raise', 'invalid': 'raise', 'over': 'raise', 'under': 'ignore'}"
      ]
     },
     "execution_count": 5,
     "metadata": {},
     "output_type": "execute_result"
    }
   ],
   "source": [
    "np.geterr()"
   ]
  },
  {
   "cell_type": "code",
   "execution_count": 15,
   "metadata": {},
   "outputs": [
    {
     "data": {
      "text/plain": [
       "0.05040000000000001"
      ]
     },
     "execution_count": 15,
     "metadata": {},
     "output_type": "execute_result"
    }
   ],
   "source": [
    "100e-6 * 24 * 7 * 3"
   ]
  }
 ],
 "metadata": {
  "kernelspec": {
   "display_name": "proj_data",
   "language": "python",
   "name": "proj_data"
  },
  "language_info": {
   "codemirror_mode": {
    "name": "ipython",
    "version": 3
   },
   "file_extension": ".py",
   "mimetype": "text/x-python",
   "name": "python",
   "nbconvert_exporter": "python",
   "pygments_lexer": "ipython3",
   "version": "3.4.3"
  }
 },
 "nbformat": 4,
 "nbformat_minor": 2
}
