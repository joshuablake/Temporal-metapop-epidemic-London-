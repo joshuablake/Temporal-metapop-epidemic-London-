{
 "cells": [
  {
   "cell_type": "code",
   "execution_count": 1,
   "metadata": {},
   "outputs": [],
   "source": [
    "import pandas as pd\n",
    "from os import path\n",
    "import matplotlib.pyplot as plt\n",
    "import numpy as np\n",
    "%matplotlib inline\n",
    "DATA_DIR = path.join('..', 'data')"
   ]
  },
  {
   "cell_type": "code",
   "execution_count": 2,
   "metadata": {},
   "outputs": [],
   "source": [
    "a = np.load('test.npy')"
   ]
  },
  {
   "cell_type": "code",
   "execution_count": 3,
   "metadata": {},
   "outputs": [
    {
     "data": {
      "text/html": [
       "<div>\n",
       "<style scoped>\n",
       "    .dataframe tbody tr th:only-of-type {\n",
       "        vertical-align: middle;\n",
       "    }\n",
       "\n",
       "    .dataframe tbody tr th {\n",
       "        vertical-align: top;\n",
       "    }\n",
       "\n",
       "    .dataframe thead th {\n",
       "        text-align: right;\n",
       "    }\n",
       "</style>\n",
       "<table border=\"1\" class=\"dataframe\">\n",
       "  <thead>\n",
       "    <tr style=\"text-align: right;\">\n",
       "      <th></th>\n",
       "      <th></th>\n",
       "      <th></th>\n",
       "      <th></th>\n",
       "      <th>0</th>\n",
       "      <th>1</th>\n",
       "      <th>2</th>\n",
       "      <th>3</th>\n",
       "      <th>4</th>\n",
       "      <th>5</th>\n",
       "      <th>6</th>\n",
       "      <th>7</th>\n",
       "      <th>8</th>\n",
       "      <th>9</th>\n",
       "      <th>...</th>\n",
       "      <th>5316</th>\n",
       "      <th>5317</th>\n",
       "      <th>5318</th>\n",
       "      <th>5319</th>\n",
       "      <th>5320</th>\n",
       "      <th>5321</th>\n",
       "      <th>5322</th>\n",
       "      <th>5323</th>\n",
       "      <th>5324</th>\n",
       "      <th>5325</th>\n",
       "    </tr>\n",
       "    <tr>\n",
       "      <th>Init_station</th>\n",
       "      <th>Init_time</th>\n",
       "      <th>Init_count</th>\n",
       "      <th>Count_type</th>\n",
       "      <th></th>\n",
       "      <th></th>\n",
       "      <th></th>\n",
       "      <th></th>\n",
       "      <th></th>\n",
       "      <th></th>\n",
       "      <th></th>\n",
       "      <th></th>\n",
       "      <th></th>\n",
       "      <th></th>\n",
       "      <th></th>\n",
       "      <th></th>\n",
       "      <th></th>\n",
       "      <th></th>\n",
       "      <th></th>\n",
       "      <th></th>\n",
       "      <th></th>\n",
       "      <th></th>\n",
       "      <th></th>\n",
       "      <th></th>\n",
       "      <th></th>\n",
       "    </tr>\n",
       "  </thead>\n",
       "  <tbody>\n",
       "    <tr>\n",
       "      <th rowspan=\"5\" valign=\"top\">0.0</th>\n",
       "      <th rowspan=\"4\" valign=\"top\">3.0</th>\n",
       "      <th rowspan=\"4\" valign=\"top\">1.0</th>\n",
       "      <th>S</th>\n",
       "      <td>7947054.0</td>\n",
       "      <td>7.947054e+06</td>\n",
       "      <td>7.947054e+06</td>\n",
       "      <td>7.947054e+06</td>\n",
       "      <td>7.947054e+06</td>\n",
       "      <td>7.947054e+06</td>\n",
       "      <td>7.947054e+06</td>\n",
       "      <td>7.947054e+06</td>\n",
       "      <td>7.947054e+06</td>\n",
       "      <td>7.947054e+06</td>\n",
       "      <td>...</td>\n",
       "      <td>3.355473e+06</td>\n",
       "      <td>3.355473e+06</td>\n",
       "      <td>3.355473e+06</td>\n",
       "      <td>3.355473e+06</td>\n",
       "      <td>3.355473e+06</td>\n",
       "      <td>3.355473e+06</td>\n",
       "      <td>3.355473e+06</td>\n",
       "      <td>3.355473e+06</td>\n",
       "      <td>3.355473e+06</td>\n",
       "      <td>3.355473e+06</td>\n",
       "    </tr>\n",
       "    <tr>\n",
       "      <th>I</th>\n",
       "      <td>1.0</td>\n",
       "      <td>1.006943e+00</td>\n",
       "      <td>1.013934e+00</td>\n",
       "      <td>1.020973e+00</td>\n",
       "      <td>1.028062e+00</td>\n",
       "      <td>1.035199e+00</td>\n",
       "      <td>1.042386e+00</td>\n",
       "      <td>1.049623e+00</td>\n",
       "      <td>1.056910e+00</td>\n",
       "      <td>1.064248e+00</td>\n",
       "      <td>...</td>\n",
       "      <td>5.017454e-01</td>\n",
       "      <td>5.017454e-01</td>\n",
       "      <td>5.017454e-01</td>\n",
       "      <td>5.017454e-01</td>\n",
       "      <td>5.017454e-01</td>\n",
       "      <td>5.017454e-01</td>\n",
       "      <td>5.017454e-01</td>\n",
       "      <td>5.017454e-01</td>\n",
       "      <td>5.017454e-01</td>\n",
       "      <td>5.017454e-01</td>\n",
       "    </tr>\n",
       "    <tr>\n",
       "      <th>R</th>\n",
       "      <td>0.0</td>\n",
       "      <td>1.388889e-02</td>\n",
       "      <td>2.787421e-02</td>\n",
       "      <td>4.195662e-02</td>\n",
       "      <td>5.613680e-02</td>\n",
       "      <td>7.041544e-02</td>\n",
       "      <td>8.479320e-02</td>\n",
       "      <td>9.927079e-02</td>\n",
       "      <td>1.138489e-01</td>\n",
       "      <td>1.285282e-01</td>\n",
       "      <td>...</td>\n",
       "      <td>4.591581e+06</td>\n",
       "      <td>4.591581e+06</td>\n",
       "      <td>4.591581e+06</td>\n",
       "      <td>4.591581e+06</td>\n",
       "      <td>4.591581e+06</td>\n",
       "      <td>4.591581e+06</td>\n",
       "      <td>4.591581e+06</td>\n",
       "      <td>4.591581e+06</td>\n",
       "      <td>4.591581e+06</td>\n",
       "      <td>4.591581e+06</td>\n",
       "    </tr>\n",
       "    <tr>\n",
       "      <th>N</th>\n",
       "      <td>7947055.0</td>\n",
       "      <td>7.947055e+06</td>\n",
       "      <td>7.947055e+06</td>\n",
       "      <td>7.947055e+06</td>\n",
       "      <td>7.947055e+06</td>\n",
       "      <td>7.947055e+06</td>\n",
       "      <td>7.947055e+06</td>\n",
       "      <td>7.947055e+06</td>\n",
       "      <td>7.947055e+06</td>\n",
       "      <td>7.947055e+06</td>\n",
       "      <td>...</td>\n",
       "      <td>7.947055e+06</td>\n",
       "      <td>7.947055e+06</td>\n",
       "      <td>7.947055e+06</td>\n",
       "      <td>7.947055e+06</td>\n",
       "      <td>7.947055e+06</td>\n",
       "      <td>7.947055e+06</td>\n",
       "      <td>7.947055e+06</td>\n",
       "      <td>7.947055e+06</td>\n",
       "      <td>7.947055e+06</td>\n",
       "      <td>7.947055e+06</td>\n",
       "    </tr>\n",
       "    <tr>\n",
       "      <th>99.0</th>\n",
       "      <th>1.0</th>\n",
       "      <th>S</th>\n",
       "      <td>7947054.0</td>\n",
       "      <td>7.947054e+06</td>\n",
       "      <td>7.947054e+06</td>\n",
       "      <td>7.947054e+06</td>\n",
       "      <td>7.947054e+06</td>\n",
       "      <td>7.947054e+06</td>\n",
       "      <td>7.947054e+06</td>\n",
       "      <td>7.947054e+06</td>\n",
       "      <td>7.947054e+06</td>\n",
       "      <td>7.947054e+06</td>\n",
       "      <td>...</td>\n",
       "      <td>3.355683e+06</td>\n",
       "      <td>3.355683e+06</td>\n",
       "      <td>3.355683e+06</td>\n",
       "      <td>3.355683e+06</td>\n",
       "      <td>3.355683e+06</td>\n",
       "      <td>3.355683e+06</td>\n",
       "      <td>3.355683e+06</td>\n",
       "      <td>3.355683e+06</td>\n",
       "      <td>3.355683e+06</td>\n",
       "      <td>3.355683e+06</td>\n",
       "    </tr>\n",
       "  </tbody>\n",
       "</table>\n",
       "<p>5 rows × 5326 columns</p>\n",
       "</div>"
      ],
      "text/plain": [
       "                                                   0             1     \\\n",
       "Init_station Init_time Init_count Count_type                            \n",
       "0.0          3.0       1.0        S           7947054.0  7.947054e+06   \n",
       "                                  I                 1.0  1.006943e+00   \n",
       "                                  R                 0.0  1.388889e-02   \n",
       "                                  N           7947055.0  7.947055e+06   \n",
       "             99.0      1.0        S           7947054.0  7.947054e+06   \n",
       "\n",
       "                                                      2             3     \\\n",
       "Init_station Init_time Init_count Count_type                               \n",
       "0.0          3.0       1.0        S           7.947054e+06  7.947054e+06   \n",
       "                                  I           1.013934e+00  1.020973e+00   \n",
       "                                  R           2.787421e-02  4.195662e-02   \n",
       "                                  N           7.947055e+06  7.947055e+06   \n",
       "             99.0      1.0        S           7.947054e+06  7.947054e+06   \n",
       "\n",
       "                                                      4             5     \\\n",
       "Init_station Init_time Init_count Count_type                               \n",
       "0.0          3.0       1.0        S           7.947054e+06  7.947054e+06   \n",
       "                                  I           1.028062e+00  1.035199e+00   \n",
       "                                  R           5.613680e-02  7.041544e-02   \n",
       "                                  N           7.947055e+06  7.947055e+06   \n",
       "             99.0      1.0        S           7.947054e+06  7.947054e+06   \n",
       "\n",
       "                                                      6             7     \\\n",
       "Init_station Init_time Init_count Count_type                               \n",
       "0.0          3.0       1.0        S           7.947054e+06  7.947054e+06   \n",
       "                                  I           1.042386e+00  1.049623e+00   \n",
       "                                  R           8.479320e-02  9.927079e-02   \n",
       "                                  N           7.947055e+06  7.947055e+06   \n",
       "             99.0      1.0        S           7.947054e+06  7.947054e+06   \n",
       "\n",
       "                                                      8             9     \\\n",
       "Init_station Init_time Init_count Count_type                               \n",
       "0.0          3.0       1.0        S           7.947054e+06  7.947054e+06   \n",
       "                                  I           1.056910e+00  1.064248e+00   \n",
       "                                  R           1.138489e-01  1.285282e-01   \n",
       "                                  N           7.947055e+06  7.947055e+06   \n",
       "             99.0      1.0        S           7.947054e+06  7.947054e+06   \n",
       "\n",
       "                                                  ...               5316  \\\n",
       "Init_station Init_time Init_count Count_type      ...                      \n",
       "0.0          3.0       1.0        S               ...       3.355473e+06   \n",
       "                                  I               ...       5.017454e-01   \n",
       "                                  R               ...       4.591581e+06   \n",
       "                                  N               ...       7.947055e+06   \n",
       "             99.0      1.0        S               ...       3.355683e+06   \n",
       "\n",
       "                                                      5317          5318  \\\n",
       "Init_station Init_time Init_count Count_type                               \n",
       "0.0          3.0       1.0        S           3.355473e+06  3.355473e+06   \n",
       "                                  I           5.017454e-01  5.017454e-01   \n",
       "                                  R           4.591581e+06  4.591581e+06   \n",
       "                                  N           7.947055e+06  7.947055e+06   \n",
       "             99.0      1.0        S           3.355683e+06  3.355683e+06   \n",
       "\n",
       "                                                      5319          5320  \\\n",
       "Init_station Init_time Init_count Count_type                               \n",
       "0.0          3.0       1.0        S           3.355473e+06  3.355473e+06   \n",
       "                                  I           5.017454e-01  5.017454e-01   \n",
       "                                  R           4.591581e+06  4.591581e+06   \n",
       "                                  N           7.947055e+06  7.947055e+06   \n",
       "             99.0      1.0        S           3.355683e+06  3.355683e+06   \n",
       "\n",
       "                                                      5321          5322  \\\n",
       "Init_station Init_time Init_count Count_type                               \n",
       "0.0          3.0       1.0        S           3.355473e+06  3.355473e+06   \n",
       "                                  I           5.017454e-01  5.017454e-01   \n",
       "                                  R           4.591581e+06  4.591581e+06   \n",
       "                                  N           7.947055e+06  7.947055e+06   \n",
       "             99.0      1.0        S           3.355683e+06  3.355683e+06   \n",
       "\n",
       "                                                      5323          5324  \\\n",
       "Init_station Init_time Init_count Count_type                               \n",
       "0.0          3.0       1.0        S           3.355473e+06  3.355473e+06   \n",
       "                                  I           5.017454e-01  5.017454e-01   \n",
       "                                  R           4.591581e+06  4.591581e+06   \n",
       "                                  N           7.947055e+06  7.947055e+06   \n",
       "             99.0      1.0        S           3.355683e+06  3.355683e+06   \n",
       "\n",
       "                                                      5325  \n",
       "Init_station Init_time Init_count Count_type                \n",
       "0.0          3.0       1.0        S           3.355473e+06  \n",
       "                                  I           5.017454e-01  \n",
       "                                  R           4.591581e+06  \n",
       "                                  N           7.947055e+06  \n",
       "             99.0      1.0        S           3.355683e+06  \n",
       "\n",
       "[5 rows x 5326 columns]"
      ]
     },
     "execution_count": 3,
     "metadata": {},
     "output_type": "execute_result"
    }
   ],
   "source": [
    "results = pd.DataFrame(a)\n",
    "results.columns = ['Init_station','Init_time','Init_count','Count_type'] + list(range(5326))\n",
    "results.replace({'Count_type': {0.0: 'S', 1.0: 'I', 2.0: 'R', 3.0: 'N'}}, inplace=True)\n",
    "results.set_index(list(results.columns[:4]), inplace=True)\n",
    "results.head()"
   ]
  },
  {
   "cell_type": "code",
   "execution_count": 4,
   "metadata": {},
   "outputs": [
    {
     "data": {
      "text/plain": [
       "<matplotlib.axes._subplots.AxesSubplot at 0x7ff0a4b3b240>"
      ]
     },
     "execution_count": 4,
     "metadata": {},
     "output_type": "execute_result"
    },
    {
     "data": {
      "image/png": "[encoded data removed]",
      "text/plain": [
       "<Figure size 432x288 with 1 Axes>"
      ]
     },
     "metadata": {
      "needs_background": "light"
     },
     "output_type": "display_data"
    }
   ],
   "source": [
    "results.xs((0,3,1), level=('Init_station','Init_time','Init_count')).T.drop(columns='S').plot()"
   ]
  },
  {
   "cell_type": "code",
   "execution_count": 5,
   "metadata": {},
   "outputs": [],
   "source": [
    "filtered=results.xs((1, 'I'), level=('Init_count', 'Count_type')).fillna(0)\n",
    "filtered_R=results.xs((1, 'R'), level=('Init_count', 'Count_type')).fillna(0)"
   ]
  },
  {
   "cell_type": "code",
   "execution_count": 6,
   "metadata": {},
   "outputs": [
    {
     "data": {
      "text/plain": [
       "Init_station  Init_time\n",
       "0.0           3.0          4.591581e+06\n",
       "              99.0         4.591371e+06\n",
       "              123.0        4.591391e+06\n",
       "1.0           3.0          4.588649e+06\n",
       "              99.0         4.588568e+06\n",
       "dtype: float64"
      ]
     },
     "execution_count": 6,
     "metadata": {},
     "output_type": "execute_result"
    }
   ],
   "source": [
    "filtered_R.T.max().head()"
   ]
  },
  {
   "cell_type": "code",
   "execution_count": 7,
   "metadata": {},
   "outputs": [
    {
     "data": {
      "text/plain": [
       "Init_station  Init_time\n",
       "0.0           3.0          451889.241483\n",
       "              99.0         451451.569448\n",
       "              123.0        451509.188653\n",
       "1.0           3.0          447837.229968\n",
       "              99.0         447733.660271\n",
       "dtype: float64"
      ]
     },
     "execution_count": 7,
     "metadata": {},
     "output_type": "execute_result"
    }
   ],
   "source": [
    "filtered.T.max().head()"
   ]
  },
  {
   "cell_type": "code",
   "execution_count": 8,
   "metadata": {},
   "outputs": [],
   "source": [
    "peaks = pd.concat([filtered.T.idxmax(), filtered.T.max(), filtered_R.T.max()], axis=1)\n",
    "peaks.columns = ['Time', 'Value', 'Total']\n",
    "peaks['Time'] = peaks['Time'] / 24"
   ]
  },
  {
   "cell_type": "code",
   "execution_count": 9,
   "metadata": {},
   "outputs": [
    {
     "data": {
      "text/plain": [
       "<matplotlib.axes._subplots.AxesSubplot at 0x7ff0a2529908>"
      ]
     },
     "execution_count": 9,
     "metadata": {},
     "output_type": "execute_result"
    },
    {
     "data": {
      "image/png": "[encoded data removed]",
      "text/plain": [
       "<Figure size 432x288 with 1 Axes>"
      ]
     },
     "metadata": {
      "needs_background": "light"
     },
     "output_type": "display_data"
    }
   ],
   "source": [
    "filtered.T.plot(legend=None, color='#870909', logy=True)"
   ]
  },
  {
   "cell_type": "code",
   "execution_count": 10,
   "metadata": {},
   "outputs": [
    {
     "data": {
      "text/plain": [
       "<matplotlib.axes._subplots.AxesSubplot at 0x7ff0a23e2438>"
      ]
     },
     "execution_count": 10,
     "metadata": {},
     "output_type": "execute_result"
    },
    {
     "data": {
      "image/png": "[encoded data removed]",
      "text/plain": [
       "<Figure size 432x288 with 1 Axes>"
      ]
     },
     "metadata": {
      "needs_background": "light"
     },
     "output_type": "display_data"
    }
   ],
   "source": [
    "peaks.plot.scatter('Time', 'Value', logy=True)"
   ]
  },
  {
   "cell_type": "code",
   "execution_count": 11,
   "metadata": {},
   "outputs": [
    {
     "ename": "ValueError",
     "evalue": "scatter requires x column to be numeric",
     "output_type": "error",
     "traceback": [
      "\u001b[0;31m---------------------------------------------------------------------------\u001b[0m",
      "\u001b[0;31mValueError\u001b[0m                                Traceback (most recent call last)",
      "\u001b[0;32m<ipython-input-11-39f5ea050876>\u001b[0m in \u001b[0;36m<module>\u001b[0;34m()\u001b[0m\n\u001b[0;32m----> 1\u001b[0;31m \u001b[0mpeaks\u001b[0m\u001b[0;34m[\u001b[0m\u001b[0mpeaks\u001b[0m\u001b[0;34m[\u001b[0m\u001b[0;34m'Total'\u001b[0m\u001b[0;34m]\u001b[0m \u001b[0;34m<\u001b[0m \u001b[0;36m3e6\u001b[0m\u001b[0;34m]\u001b[0m\u001b[0;34m.\u001b[0m\u001b[0mplot\u001b[0m\u001b[0;34m.\u001b[0m\u001b[0mscatter\u001b[0m\u001b[0;34m(\u001b[0m\u001b[0;34m'Time'\u001b[0m\u001b[0;34m,\u001b[0m \u001b[0;34m'Total'\u001b[0m\u001b[0;34m)\u001b[0m\u001b[0;34m\u001b[0m\u001b[0m\n\u001b[0m",
      "\u001b[0;32m/mnt/c/Users/Josh/Google Drive_old/Uni/Part III/project/data/env/lib/python3.4/site-packages/pandas/plotting/_core.py\u001b[0m in \u001b[0;36mscatter\u001b[0;34m(self, x, y, s, c, **kwds)\u001b[0m\n\u001b[1;32m   2853\u001b[0m         \u001b[0maxes\u001b[0m \u001b[0;34m:\u001b[0m \u001b[0mmatplotlib\u001b[0m\u001b[0;34m.\u001b[0m\u001b[0mAxesSubplot\u001b[0m \u001b[0;32mor\u001b[0m \u001b[0mnp\u001b[0m\u001b[0;34m.\u001b[0m\u001b[0marray\u001b[0m \u001b[0mof\u001b[0m \u001b[0mthem\u001b[0m\u001b[0;34m\u001b[0m\u001b[0m\n\u001b[1;32m   2854\u001b[0m         \"\"\"\n\u001b[0;32m-> 2855\u001b[0;31m         \u001b[0;32mreturn\u001b[0m \u001b[0mself\u001b[0m\u001b[0;34m(\u001b[0m\u001b[0mkind\u001b[0m\u001b[0;34m=\u001b[0m\u001b[0;34m'scatter'\u001b[0m\u001b[0;34m,\u001b[0m \u001b[0mx\u001b[0m\u001b[0;34m=\u001b[0m\u001b[0mx\u001b[0m\u001b[0;34m,\u001b[0m \u001b[0my\u001b[0m\u001b[0;34m=\u001b[0m\u001b[0my\u001b[0m\u001b[0;34m,\u001b[0m \u001b[0mc\u001b[0m\u001b[0;34m=\u001b[0m\u001b[0mc\u001b[0m\u001b[0;34m,\u001b[0m \u001b[0ms\u001b[0m\u001b[0;34m=\u001b[0m\u001b[0ms\u001b[0m\u001b[0;34m,\u001b[0m \u001b[0;34m**\u001b[0m\u001b[0mkwds\u001b[0m\u001b[0;34m)\u001b[0m\u001b[0;34m\u001b[0m\u001b[0m\n\u001b[0m\u001b[1;32m   2856\u001b[0m \u001b[0;34m\u001b[0m\u001b[0m\n\u001b[1;32m   2857\u001b[0m     def hexbin(self, x, y, C=None, reduce_C_function=None, gridsize=None,\n",
      "\u001b[0;32m/mnt/c/Users/Josh/Google Drive_old/Uni/Part III/project/data/env/lib/python3.4/site-packages/pandas/plotting/_core.py\u001b[0m in \u001b[0;36m__call__\u001b[0;34m(self, x, y, kind, ax, subplots, sharex, sharey, layout, figsize, use_index, title, grid, legend, style, logx, logy, loglog, xticks, yticks, xlim, ylim, rot, fontsize, colormap, table, yerr, xerr, secondary_y, sort_columns, **kwds)\u001b[0m\n\u001b[1;32m   2675\u001b[0m                           \u001b[0mfontsize\u001b[0m\u001b[0;34m=\u001b[0m\u001b[0mfontsize\u001b[0m\u001b[0;34m,\u001b[0m \u001b[0mcolormap\u001b[0m\u001b[0;34m=\u001b[0m\u001b[0mcolormap\u001b[0m\u001b[0;34m,\u001b[0m \u001b[0mtable\u001b[0m\u001b[0;34m=\u001b[0m\u001b[0mtable\u001b[0m\u001b[0;34m,\u001b[0m\u001b[0;34m\u001b[0m\u001b[0m\n\u001b[1;32m   2676\u001b[0m                           \u001b[0myerr\u001b[0m\u001b[0;34m=\u001b[0m\u001b[0myerr\u001b[0m\u001b[0;34m,\u001b[0m \u001b[0mxerr\u001b[0m\u001b[0;34m=\u001b[0m\u001b[0mxerr\u001b[0m\u001b[0;34m,\u001b[0m \u001b[0msecondary_y\u001b[0m\u001b[0;34m=\u001b[0m\u001b[0msecondary_y\u001b[0m\u001b[0;34m,\u001b[0m\u001b[0;34m\u001b[0m\u001b[0m\n\u001b[0;32m-> 2677\u001b[0;31m                           sort_columns=sort_columns, **kwds)\n\u001b[0m\u001b[1;32m   2678\u001b[0m     \u001b[0m__call__\u001b[0m\u001b[0;34m.\u001b[0m\u001b[0m__doc__\u001b[0m \u001b[0;34m=\u001b[0m \u001b[0mplot_frame\u001b[0m\u001b[0;34m.\u001b[0m\u001b[0m__doc__\u001b[0m\u001b[0;34m\u001b[0m\u001b[0m\n\u001b[1;32m   2679\u001b[0m \u001b[0;34m\u001b[0m\u001b[0m\n",
      "\u001b[0;32m/mnt/c/Users/Josh/Google Drive_old/Uni/Part III/project/data/env/lib/python3.4/site-packages/pandas/plotting/_core.py\u001b[0m in \u001b[0;36mplot_frame\u001b[0;34m(data, x, y, kind, ax, subplots, sharex, sharey, layout, figsize, use_index, title, grid, legend, style, logx, logy, loglog, xticks, yticks, xlim, ylim, rot, fontsize, colormap, table, yerr, xerr, secondary_y, sort_columns, **kwds)\u001b[0m\n\u001b[1;32m   1900\u001b[0m                  \u001b[0myerr\u001b[0m\u001b[0;34m=\u001b[0m\u001b[0myerr\u001b[0m\u001b[0;34m,\u001b[0m \u001b[0mxerr\u001b[0m\u001b[0;34m=\u001b[0m\u001b[0mxerr\u001b[0m\u001b[0;34m,\u001b[0m\u001b[0;34m\u001b[0m\u001b[0m\n\u001b[1;32m   1901\u001b[0m                  \u001b[0msecondary_y\u001b[0m\u001b[0;34m=\u001b[0m\u001b[0msecondary_y\u001b[0m\u001b[0;34m,\u001b[0m \u001b[0msort_columns\u001b[0m\u001b[0;34m=\u001b[0m\u001b[0msort_columns\u001b[0m\u001b[0;34m,\u001b[0m\u001b[0;34m\u001b[0m\u001b[0m\n\u001b[0;32m-> 1902\u001b[0;31m                  **kwds)\n\u001b[0m\u001b[1;32m   1903\u001b[0m \u001b[0;34m\u001b[0m\u001b[0m\n\u001b[1;32m   1904\u001b[0m \u001b[0;34m\u001b[0m\u001b[0m\n",
      "\u001b[0;32m/mnt/c/Users/Josh/Google Drive_old/Uni/Part III/project/data/env/lib/python3.4/site-packages/pandas/plotting/_core.py\u001b[0m in \u001b[0;36m_plot\u001b[0;34m(data, x, y, subplots, ax, kind, **kwds)\u001b[0m\n\u001b[1;32m   1685\u001b[0m         \u001b[0;32mif\u001b[0m \u001b[0misinstance\u001b[0m\u001b[0;34m(\u001b[0m\u001b[0mdata\u001b[0m\u001b[0;34m,\u001b[0m \u001b[0mDataFrame\u001b[0m\u001b[0;34m)\u001b[0m\u001b[0;34m:\u001b[0m\u001b[0;34m\u001b[0m\u001b[0m\n\u001b[1;32m   1686\u001b[0m             plot_obj = klass(data, x=x, y=y, subplots=subplots, ax=ax,\n\u001b[0;32m-> 1687\u001b[0;31m                              kind=kind, **kwds)\n\u001b[0m\u001b[1;32m   1688\u001b[0m         \u001b[0;32melse\u001b[0m\u001b[0;34m:\u001b[0m\u001b[0;34m\u001b[0m\u001b[0m\n\u001b[1;32m   1689\u001b[0m             raise ValueError(\"plot kind %r can only be used for data frames\"\n",
      "\u001b[0;32m/mnt/c/Users/Josh/Google Drive_old/Uni/Part III/project/data/env/lib/python3.4/site-packages/pandas/plotting/_core.py\u001b[0m in \u001b[0;36m__init__\u001b[0;34m(self, data, x, y, s, c, **kwargs)\u001b[0m\n\u001b[1;32m    835\u001b[0m             \u001b[0;31m# the handling of this argument later\u001b[0m\u001b[0;34m\u001b[0m\u001b[0;34m\u001b[0m\u001b[0m\n\u001b[1;32m    836\u001b[0m             \u001b[0ms\u001b[0m \u001b[0;34m=\u001b[0m \u001b[0;36m20\u001b[0m\u001b[0;34m\u001b[0m\u001b[0m\n\u001b[0;32m--> 837\u001b[0;31m         \u001b[0msuper\u001b[0m\u001b[0;34m(\u001b[0m\u001b[0mScatterPlot\u001b[0m\u001b[0;34m,\u001b[0m \u001b[0mself\u001b[0m\u001b[0;34m)\u001b[0m\u001b[0;34m.\u001b[0m\u001b[0m__init__\u001b[0m\u001b[0;34m(\u001b[0m\u001b[0mdata\u001b[0m\u001b[0;34m,\u001b[0m \u001b[0mx\u001b[0m\u001b[0;34m,\u001b[0m \u001b[0my\u001b[0m\u001b[0;34m,\u001b[0m \u001b[0ms\u001b[0m\u001b[0;34m=\u001b[0m\u001b[0ms\u001b[0m\u001b[0;34m,\u001b[0m \u001b[0;34m**\u001b[0m\u001b[0mkwargs\u001b[0m\u001b[0;34m)\u001b[0m\u001b[0;34m\u001b[0m\u001b[0m\n\u001b[0m\u001b[1;32m    838\u001b[0m         \u001b[0;32mif\u001b[0m \u001b[0mis_integer\u001b[0m\u001b[0;34m(\u001b[0m\u001b[0mc\u001b[0m\u001b[0;34m)\u001b[0m \u001b[0;32mand\u001b[0m \u001b[0;32mnot\u001b[0m \u001b[0mself\u001b[0m\u001b[0;34m.\u001b[0m\u001b[0mdata\u001b[0m\u001b[0;34m.\u001b[0m\u001b[0mcolumns\u001b[0m\u001b[0;34m.\u001b[0m\u001b[0mholds_integer\u001b[0m\u001b[0;34m(\u001b[0m\u001b[0;34m)\u001b[0m\u001b[0;34m:\u001b[0m\u001b[0;34m\u001b[0m\u001b[0m\n\u001b[1;32m    839\u001b[0m             \u001b[0mc\u001b[0m \u001b[0;34m=\u001b[0m \u001b[0mself\u001b[0m\u001b[0;34m.\u001b[0m\u001b[0mdata\u001b[0m\u001b[0;34m.\u001b[0m\u001b[0mcolumns\u001b[0m\u001b[0;34m[\u001b[0m\u001b[0mc\u001b[0m\u001b[0;34m]\u001b[0m\u001b[0;34m\u001b[0m\u001b[0m\n",
      "\u001b[0;32m/mnt/c/Users/Josh/Google Drive_old/Uni/Part III/project/data/env/lib/python3.4/site-packages/pandas/plotting/_core.py\u001b[0m in \u001b[0;36m__init__\u001b[0;34m(self, data, x, y, **kwargs)\u001b[0m\n\u001b[1;32m    810\u001b[0m             \u001b[0my\u001b[0m \u001b[0;34m=\u001b[0m \u001b[0mself\u001b[0m\u001b[0;34m.\u001b[0m\u001b[0mdata\u001b[0m\u001b[0;34m.\u001b[0m\u001b[0mcolumns\u001b[0m\u001b[0;34m[\u001b[0m\u001b[0my\u001b[0m\u001b[0;34m]\u001b[0m\u001b[0;34m\u001b[0m\u001b[0m\n\u001b[1;32m    811\u001b[0m         \u001b[0;32mif\u001b[0m \u001b[0mlen\u001b[0m\u001b[0;34m(\u001b[0m\u001b[0mself\u001b[0m\u001b[0;34m.\u001b[0m\u001b[0mdata\u001b[0m\u001b[0;34m[\u001b[0m\u001b[0mx\u001b[0m\u001b[0;34m]\u001b[0m\u001b[0;34m.\u001b[0m\u001b[0m_get_numeric_data\u001b[0m\u001b[0;34m(\u001b[0m\u001b[0;34m)\u001b[0m\u001b[0;34m)\u001b[0m \u001b[0;34m==\u001b[0m \u001b[0;36m0\u001b[0m\u001b[0;34m:\u001b[0m\u001b[0;34m\u001b[0m\u001b[0m\n\u001b[0;32m--> 812\u001b[0;31m             \u001b[0;32mraise\u001b[0m \u001b[0mValueError\u001b[0m\u001b[0;34m(\u001b[0m\u001b[0mself\u001b[0m\u001b[0;34m.\u001b[0m\u001b[0m_kind\u001b[0m \u001b[0;34m+\u001b[0m \u001b[0;34m' requires x column to be numeric'\u001b[0m\u001b[0;34m)\u001b[0m\u001b[0;34m\u001b[0m\u001b[0m\n\u001b[0m\u001b[1;32m    813\u001b[0m         \u001b[0;32mif\u001b[0m \u001b[0mlen\u001b[0m\u001b[0;34m(\u001b[0m\u001b[0mself\u001b[0m\u001b[0;34m.\u001b[0m\u001b[0mdata\u001b[0m\u001b[0;34m[\u001b[0m\u001b[0my\u001b[0m\u001b[0;34m]\u001b[0m\u001b[0;34m.\u001b[0m\u001b[0m_get_numeric_data\u001b[0m\u001b[0;34m(\u001b[0m\u001b[0;34m)\u001b[0m\u001b[0;34m)\u001b[0m \u001b[0;34m==\u001b[0m \u001b[0;36m0\u001b[0m\u001b[0;34m:\u001b[0m\u001b[0;34m\u001b[0m\u001b[0m\n\u001b[1;32m    814\u001b[0m             \u001b[0;32mraise\u001b[0m \u001b[0mValueError\u001b[0m\u001b[0;34m(\u001b[0m\u001b[0mself\u001b[0m\u001b[0;34m.\u001b[0m\u001b[0m_kind\u001b[0m \u001b[0;34m+\u001b[0m \u001b[0;34m' requires y column to be numeric'\u001b[0m\u001b[0;34m)\u001b[0m\u001b[0;34m\u001b[0m\u001b[0m\n",
      "\u001b[0;31mValueError\u001b[0m: scatter requires x column to be numeric"
     ]
    }
   ],
   "source": [
    "peaks[peaks['Total'] < 3e6].plot.scatter('Time', 'Total')"
   ]
  },
  {
   "cell_type": "code",
   "execution_count": null,
   "metadata": {},
   "outputs": [],
   "source": [
    "peaks[peaks['Time'] < 40].describe()"
   ]
  },
  {
   "cell_type": "code",
   "execution_count": null,
   "metadata": {},
   "outputs": [],
   "source": [
    "group_1 = peaks[peaks['Time'] < 40]\n",
    "set(group_1.index.get_level_values('Init_station'))"
   ]
  },
  {
   "cell_type": "code",
   "execution_count": null,
   "metadata": {},
   "outputs": [],
   "source": [
    "peaks[(peaks['Time'] > 40) & (peaks['Time'] < 68)].describe()"
   ]
  },
  {
   "cell_type": "code",
   "execution_count": null,
   "metadata": {},
   "outputs": [],
   "source": [
    "peaks[(peaks['Time'] > 40) & (peaks['Time'] < 68)].sample(1)"
   ]
  },
  {
   "cell_type": "code",
   "execution_count": null,
   "metadata": {},
   "outputs": [],
   "source": [
    "g2_counts=peaks[(peaks['Time'] > 40) & (peaks['Time'] < 68)].reset_index().groupby('Init_station').count()\n",
    "g2_counts[g2_counts['Total'] != 5]"
   ]
  },
  {
   "cell_type": "code",
   "execution_count": null,
   "metadata": {},
   "outputs": [],
   "source": [
    "peaks[(peaks['Time'] > 68) & (peaks['Time'] < 90)].describe()"
   ]
  },
  {
   "cell_type": "code",
   "execution_count": null,
   "metadata": {},
   "outputs": [],
   "source": [
    "peaks[(peaks['Time'] > 68) & (peaks['Time'] < 90)].reset_index().groupby('Init_station').count()"
   ]
  },
  {
   "cell_type": "code",
   "execution_count": null,
   "metadata": {},
   "outputs": [],
   "source": [
    "peaks[peaks['Time'] > 90]"
   ]
  },
  {
   "cell_type": "code",
   "execution_count": null,
   "metadata": {},
   "outputs": [],
   "source": [
    "results.xs((82,60,1), level=('Init_station','Init_time','Init_count')).drop(columns=range(5000,7000))"
   ]
  },
  {
   "cell_type": "code",
   "execution_count": null,
   "metadata": {},
   "outputs": [],
   "source": [
    "I_series = results.xs('I', level='Count_type').fillna(0)\n",
    "all_peaks = pd.concat([I_series.T.idxmax(), I_series.T.max(), I_series.T.max()], axis=1)\n",
    "all_peaks.columns = ['Time', 'Value', 'Total']\n",
    "all_peaks['Time'] = all_peaks['Time'] / 24\n",
    "all_peaks.plot.scatter('Time', 'Value', logy=True)"
   ]
  },
  {
   "cell_type": "markdown",
   "metadata": {},
   "source": [
    "# Minor epidemic group"
   ]
  },
  {
   "cell_type": "code",
   "execution_count": null,
   "metadata": {},
   "outputs": [],
   "source": [
    "group_1 = all_peaks[all_peaks['Value'] < 100]\n",
    "set(group_1.index.get_level_values('Init_station'))"
   ]
  },
  {
   "cell_type": "code",
   "execution_count": null,
   "metadata": {},
   "outputs": [],
   "source": [
    "move_data = pd.read_csv(path.join(DATA_DIR, 'journey_count.csv'))\n",
    "move_data.head()"
   ]
  },
  {
   "cell_type": "code",
   "execution_count": null,
   "metadata": {},
   "outputs": [],
   "source": [
    "STATION_LOOKUP = {\n",
    "    i: name for i, name in enumerate(move_data['Start station'].unique())\n",
    "}"
   ]
  },
  {
   "cell_type": "code",
   "execution_count": null,
   "metadata": {},
   "outputs": [],
   "source": [
    "station_names=set(STATION_LOOKUP[i] for i in group_1.index.get_level_values('Init_station'))\n",
    "station_names"
   ]
  },
  {
   "cell_type": "markdown",
   "metadata": {},
   "source": [
    "## Hypothesis: initial pop related to peak"
   ]
  },
  {
   "cell_type": "code",
   "execution_count": null,
   "metadata": {},
   "outputs": [],
   "source": [
    "from simulate import get_pop_data\n",
    "pop_data = get_pop_data()[0]\n",
    "pop_data.set_index('Station', inplace=True)\n",
    "pop_data.head()"
   ]
  },
  {
   "cell_type": "code",
   "execution_count": null,
   "metadata": {},
   "outputs": [],
   "source": [
    "pop_data.loc['Aldgate']['Station population']"
   ]
  },
  {
   "cell_type": "code",
   "execution_count": null,
   "metadata": {},
   "outputs": [],
   "source": [
    "all_peaks['Station_name'] = [STATION_LOOKUP[s] for s in all_peaks.reset_index()['Init_station']]\n",
    "all_peaks['Station_pop'] = all_peaks['Station_name'].apply(lambda s: pop_data.loc[s]['Station population'])\n",
    "all_peaks.head()"
   ]
  },
  {
   "cell_type": "code",
   "execution_count": null,
   "metadata": {},
   "outputs": [],
   "source": [
    "all_peaks[all_peaks['Value'] < 3e5].plot.scatter('Station_pop', 'Value')"
   ]
  }
 ],
 "metadata": {
  "kernelspec": {
   "display_name": "proj_data",
   "language": "python",
   "name": "proj_data"
  },
  "language_info": {
   "codemirror_mode": {
    "name": "ipython",
    "version": 3
   },
   "file_extension": ".py",
   "mimetype": "text/x-python",
   "name": "python",
   "nbconvert_exporter": "python",
   "pygments_lexer": "ipython3",
   "version": "3.4.3"
  }
 },
 "nbformat": 4,
 "nbformat_minor": 2
}
