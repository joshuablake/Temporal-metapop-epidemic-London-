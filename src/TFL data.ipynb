{
 "cells": [
  {
   "cell_type": "markdown",
   "metadata": {},
   "source": [
    "[TFL's documentation](https://tfl.gov.uk/info-for/open-data-users/our-open-data?intcmp=3671)"
   ]
  },
  {
   "cell_type": "markdown",
   "metadata": {},
   "source": [
    "# Import"
   ]
  },
  {
   "cell_type": "code",
   "execution_count": 1,
   "metadata": {},
   "outputs": [],
   "source": [
    "import pandas\n",
    "import matplotlib\n",
    "import matplotlib.pyplot as plt\n",
    "import scipy\n",
    "import seaborn as sns\n",
    "%matplotlib inline"
   ]
  },
  {
   "cell_type": "code",
   "execution_count": 2,
   "metadata": {},
   "outputs": [],
   "source": [
    "plt.rcParams['savefig.dpi'] = 300\n",
    "plt.rcParams['pgf.rcfonts'] = False\n",
    "plt.rcParams['pgf.texsystem'] = 'pdflatex'"
   ]
  },
  {
   "cell_type": "code",
   "execution_count": 3,
   "metadata": {},
   "outputs": [
    {
     "data": {
      "text/html": [
       "<div>\n",
       "<style scoped>\n",
       "    .dataframe tbody tr th:only-of-type {\n",
       "        vertical-align: middle;\n",
       "    }\n",
       "\n",
       "    .dataframe tbody tr th {\n",
       "        vertical-align: top;\n",
       "    }\n",
       "\n",
       "    .dataframe thead th {\n",
       "        text-align: right;\n",
       "    }\n",
       "</style>\n",
       "<table border=\"1\" class=\"dataframe\">\n",
       "  <thead>\n",
       "    <tr style=\"text-align: right;\">\n",
       "      <th></th>\n",
       "      <th>downo</th>\n",
       "      <th>daytype</th>\n",
       "      <th>SubSystem</th>\n",
       "      <th>StartStn</th>\n",
       "      <th>EndStation</th>\n",
       "      <th>EntTime</th>\n",
       "      <th>EntTimeHHMM</th>\n",
       "      <th>ExTime</th>\n",
       "      <th>EXTimeHHMM</th>\n",
       "      <th>ZVPPT</th>\n",
       "      <th>JNYTYP</th>\n",
       "      <th>DailyCapping</th>\n",
       "      <th>FFare</th>\n",
       "      <th>DFare</th>\n",
       "      <th>RouteID</th>\n",
       "      <th>FinalProduct</th>\n",
       "    </tr>\n",
       "  </thead>\n",
       "  <tbody>\n",
       "    <tr>\n",
       "      <th>0</th>\n",
       "      <td>3</td>\n",
       "      <td>Tue</td>\n",
       "      <td>LUL</td>\n",
       "      <td>Unstarted</td>\n",
       "      <td>Kings Cross M</td>\n",
       "      <td>0</td>\n",
       "      <td>00:00</td>\n",
       "      <td>633</td>\n",
       "      <td>10:33</td>\n",
       "      <td>Z0104</td>\n",
       "      <td>TKT</td>\n",
       "      <td>N</td>\n",
       "      <td>0</td>\n",
       "      <td>0</td>\n",
       "      <td>XX</td>\n",
       "      <td>LUL Travelcard-7 Day</td>\n",
       "    </tr>\n",
       "    <tr>\n",
       "      <th>1</th>\n",
       "      <td>4</td>\n",
       "      <td>Wed</td>\n",
       "      <td>LUL</td>\n",
       "      <td>Unstarted</td>\n",
       "      <td>Sudbury Hill</td>\n",
       "      <td>0</td>\n",
       "      <td>00:00</td>\n",
       "      <td>447</td>\n",
       "      <td>07:27</td>\n",
       "      <td>Z0110</td>\n",
       "      <td>TKT</td>\n",
       "      <td>N</td>\n",
       "      <td>0</td>\n",
       "      <td>0</td>\n",
       "      <td>XX</td>\n",
       "      <td>Freedom Pass (Elderly)</td>\n",
       "    </tr>\n",
       "    <tr>\n",
       "      <th>2</th>\n",
       "      <td>3</td>\n",
       "      <td>Tue</td>\n",
       "      <td>NR</td>\n",
       "      <td>Unstarted</td>\n",
       "      <td>Richmond</td>\n",
       "      <td>0</td>\n",
       "      <td>00:00</td>\n",
       "      <td>966</td>\n",
       "      <td>16:06</td>\n",
       "      <td>Z0304</td>\n",
       "      <td>TKT</td>\n",
       "      <td>N</td>\n",
       "      <td>0</td>\n",
       "      <td>0</td>\n",
       "      <td>XX</td>\n",
       "      <td>LUL Travelcard-7 Day</td>\n",
       "    </tr>\n",
       "    <tr>\n",
       "      <th>3</th>\n",
       "      <td>4</td>\n",
       "      <td>Wed</td>\n",
       "      <td>NR</td>\n",
       "      <td>Unstarted</td>\n",
       "      <td>Romford</td>\n",
       "      <td>0</td>\n",
       "      <td>00:00</td>\n",
       "      <td>657</td>\n",
       "      <td>10:57</td>\n",
       "      <td>Z0110</td>\n",
       "      <td>TKT</td>\n",
       "      <td>N</td>\n",
       "      <td>0</td>\n",
       "      <td>0</td>\n",
       "      <td>XX</td>\n",
       "      <td>Freedom Pass (Elderly)</td>\n",
       "    </tr>\n",
       "    <tr>\n",
       "      <th>4</th>\n",
       "      <td>6</td>\n",
       "      <td>Fri</td>\n",
       "      <td>NR</td>\n",
       "      <td>Unstarted</td>\n",
       "      <td>Norwood Junction SR</td>\n",
       "      <td>0</td>\n",
       "      <td>00:00</td>\n",
       "      <td>450</td>\n",
       "      <td>07:30</td>\n",
       "      <td>Z0104</td>\n",
       "      <td>TKT</td>\n",
       "      <td>N</td>\n",
       "      <td>0</td>\n",
       "      <td>0</td>\n",
       "      <td>XX</td>\n",
       "      <td>LUL Travelcard-7 Day</td>\n",
       "    </tr>\n",
       "  </tbody>\n",
       "</table>\n",
       "</div>"
      ],
      "text/plain": [
       "   downo daytype SubSystem   StartStn           EndStation  EntTime  \\\n",
       "0      3     Tue       LUL  Unstarted        Kings Cross M        0   \n",
       "1      4     Wed       LUL  Unstarted         Sudbury Hill        0   \n",
       "2      3     Tue        NR  Unstarted             Richmond        0   \n",
       "3      4     Wed        NR  Unstarted              Romford        0   \n",
       "4      6     Fri        NR  Unstarted  Norwood Junction SR        0   \n",
       "\n",
       "  EntTimeHHMM  ExTime EXTimeHHMM  ZVPPT JNYTYP DailyCapping  FFare  DFare  \\\n",
       "0       00:00     633      10:33  Z0104    TKT            N      0      0   \n",
       "1       00:00     447      07:27  Z0110    TKT            N      0      0   \n",
       "2       00:00     966      16:06  Z0304    TKT            N      0      0   \n",
       "3       00:00     657      10:57  Z0110    TKT            N      0      0   \n",
       "4       00:00     450      07:30  Z0104    TKT            N      0      0   \n",
       "\n",
       "  RouteID            FinalProduct  \n",
       "0      XX    LUL Travelcard-7 Day  \n",
       "1      XX  Freedom Pass (Elderly)  \n",
       "2      XX    LUL Travelcard-7 Day  \n",
       "3      XX  Freedom Pass (Elderly)  \n",
       "4      XX    LUL Travelcard-7 Day  "
      ]
     },
     "execution_count": 3,
     "metadata": {},
     "output_type": "execute_result"
    }
   ],
   "source": [
    "raw = pandas.read_csv('../data/tfl_raw.csv')\n",
    "raw.head()"
   ]
  },
  {
   "cell_type": "markdown",
   "metadata": {},
   "source": [
    "# Combine stations"
   ]
  },
  {
   "cell_type": "markdown",
   "metadata": {},
   "source": [
    "See Locations notebook for details."
   ]
  },
  {
   "cell_type": "code",
   "execution_count": 4,
   "metadata": {},
   "outputs": [],
   "source": [
    "combine = (\n",
    "    ('Balham', 'Balham NR', 'Balham SCL'),\n",
    "    ('Canary Wharf', 'Canary Wharf DLR', 'Canary Wharf E2'),\n",
    "    ('Euston', 'Euston NR'),\n",
    "    ('Fenchurch St NR', 'FENCHURCH ST NR'),\n",
    "    (\"Kings Cross St Pancras\", 'Kings Cross', 'Kings Cross M', 'Kings Cross T', 'St Pancras International'),\n",
    "    ('Liverpool Street', 'Liverpool St WAGN TOC Gates', 'Liverpool St NR'),\n",
    "    ('Marylebone', 'Marylebone NR'),\n",
    "    ('Paddington', 'Paddington FGW'),\n",
    "    ('Shepherds Bush', \"Shepherd's Bush NR\", \"Shepherd's Bush Und\"),\n",
    "    ('Shepherds Bush Market', \"Shepherd's Bush Mkt\"),\n",
    "    ('Tottenham Court Road', 'Tottenham Court Rd'),\n",
    "    ('West Hampstead', \"West Hampst'd NL\", \"West Hampst'd Tlink\"),\n",
    "    ('Victoria', 'Victoria TOCs'),\n",
    "    ('Waterloo', 'Waterloo JLE'),\n",
    "    ('Blackhorse Lane TRAM', 'BLCKHRS LNE TRAM'),\n",
    "    ('Caledonian Road & Barnsbury', \"Caledonian Rd&B'sby\"),\n",
    "    ('New Addington TRAM', 'NEW ADDNGTH TRAM'),\n",
    "    ('Beckenham Road TRAM', 'BECKENHM RD TRAM'),\n",
    "    ('Harringay Green Lanes', 'Harringay Green Las'),\n",
    "    ('Sudbury & Harrow Rd', 'Sudbury&Harrow Rd'),\n",
    "    ('Walthamstow Queens Road', 'Walthamstow Qns R'),\n",
    "    ('Belgrave Walk TRAM', 'BELGRAVE WK TRAM'),\n",
    "    ('Addington Village TRAM', 'ADDNGTN VIL TRAM'),\n",
    "    ('Wimbledon', 'WIMBLEDON TRAM'),\n",
    ")\n",
    "substitutions = {}\n",
    "for i in combine:\n",
    "    for name in i[1:]:\n",
    "        substitutions[name] = i[0]"
   ]
  },
  {
   "cell_type": "markdown",
   "metadata": {},
   "source": [
    "Apply substitutions to the data"
   ]
  },
  {
   "cell_type": "code",
   "execution_count": 5,
   "metadata": {},
   "outputs": [],
   "source": [
    "raw['StartStn'] = raw['StartStn'].str.strip()\n",
    "raw['EndStation'] = raw['EndStation'].str.strip()\n",
    "raw['StartStn'].replace(substitutions, inplace=True)\n",
    "raw['EndStation'].replace(substitutions, inplace=True)"
   ]
  },
  {
   "cell_type": "markdown",
   "metadata": {},
   "source": [
    "# Validity"
   ]
  },
  {
   "cell_type": "code",
   "execution_count": 6,
   "metadata": {},
   "outputs": [
    {
     "name": "stderr",
     "output_type": "stream",
     "text": [
      "/mnt/c/Users/Josh/Google Drive_old/Uni/Part III/project/data/env/lib/python3.4/site-packages/ipykernel_launcher.py:1: UserWarning: Boolean Series key will be reindexed to match DataFrame index.\n",
      "  \"\"\"Entry point for launching an IPython kernel.\n"
     ]
    }
   ],
   "source": [
    "complete_journeys = raw[raw['SubSystem'] != 'LTB'][raw['SubSystem'] != 'TRAM'][raw['SubSystem'] != 'LUL/TRAM'][raw['StartStn'] != 'Unstarted'][raw['EndStation'] != 'Unfinished'][raw['EndStation'] != 'Not Applicable']"
   ]
  },
  {
   "cell_type": "code",
   "execution_count": 7,
   "metadata": {},
   "outputs": [
    {
     "name": "stderr",
     "output_type": "stream",
     "text": [
      "/mnt/c/Users/Josh/Google Drive_old/Uni/Part III/project/data/env/lib/python3.4/site-packages/ipykernel_launcher.py:1: UserWarning: Boolean Series key will be reindexed to match DataFrame index.\n",
      "  \"\"\"Entry point for launching an IPython kernel.\n"
     ]
    },
    {
     "data": {
      "text/plain": [
       "downo           1\n",
       "daytype         1\n",
       "SubSystem       1\n",
       "StartStn        1\n",
       "EndStation      1\n",
       "EntTime         1\n",
       "EntTimeHHMM     1\n",
       "ExTime          1\n",
       "EXTimeHHMM      1\n",
       "ZVPPT           1\n",
       "JNYTYP          1\n",
       "DailyCapping    1\n",
       "FFare           1\n",
       "DFare           1\n",
       "RouteID         1\n",
       "FinalProduct    1\n",
       "dtype: int64"
      ]
     },
     "execution_count": 7,
     "metadata": {},
     "output_type": "execute_result"
    }
   ],
   "source": [
    "raw[raw['SubSystem'] != 'LTB'][raw['SubSystem'] != 'TRAM'][raw['SubSystem'] != 'LUL/TRAM'][raw['EndStation'] == 'Not Applicable'].count()"
   ]
  },
  {
   "cell_type": "code",
   "execution_count": 8,
   "metadata": {},
   "outputs": [],
   "source": [
    "all_stations = complete_journeys['StartStn'].append(complete_journeys['EndStation']).unique()"
   ]
  },
  {
   "cell_type": "markdown",
   "metadata": {},
   "source": [
    "# By hour"
   ]
  },
  {
   "cell_type": "code",
   "execution_count": 9,
   "metadata": {},
   "outputs": [],
   "source": [
    "complete_journeys['EntTimeHHMM']=complete_journeys['EntTimeHHMM'].str.slice(0,2)"
   ]
  },
  {
   "cell_type": "markdown",
   "metadata": {},
   "source": [
    "## By start and end"
   ]
  },
  {
   "cell_type": "code",
   "execution_count": 10,
   "metadata": {
    "scrolled": false
   },
   "outputs": [
    {
     "data": {
      "text/html": [
       "<div>\n",
       "<style scoped>\n",
       "    .dataframe tbody tr th:only-of-type {\n",
       "        vertical-align: middle;\n",
       "    }\n",
       "\n",
       "    .dataframe tbody tr th {\n",
       "        vertical-align: top;\n",
       "    }\n",
       "\n",
       "    .dataframe thead th {\n",
       "        text-align: right;\n",
       "    }\n",
       "</style>\n",
       "<table border=\"1\" class=\"dataframe\">\n",
       "  <thead>\n",
       "    <tr style=\"text-align: right;\">\n",
       "      <th></th>\n",
       "      <th>Start station</th>\n",
       "      <th>End station</th>\n",
       "      <th>Day</th>\n",
       "      <th>Entry hour</th>\n",
       "      <th>Journey count</th>\n",
       "    </tr>\n",
       "  </thead>\n",
       "  <tbody>\n",
       "    <tr>\n",
       "      <th>0</th>\n",
       "      <td>Acton Central</td>\n",
       "      <td>Acton Central</td>\n",
       "      <td>Sat</td>\n",
       "      <td>18</td>\n",
       "      <td>1</td>\n",
       "    </tr>\n",
       "    <tr>\n",
       "      <th>1</th>\n",
       "      <td>Acton Central</td>\n",
       "      <td>Acton Central</td>\n",
       "      <td>Sun</td>\n",
       "      <td>07</td>\n",
       "      <td>1</td>\n",
       "    </tr>\n",
       "    <tr>\n",
       "      <th>2</th>\n",
       "      <td>Acton Central</td>\n",
       "      <td>Acton Central</td>\n",
       "      <td>Thu</td>\n",
       "      <td>13</td>\n",
       "      <td>1</td>\n",
       "    </tr>\n",
       "    <tr>\n",
       "      <th>3</th>\n",
       "      <td>Acton Central</td>\n",
       "      <td>Acton Central</td>\n",
       "      <td>Wed</td>\n",
       "      <td>17</td>\n",
       "      <td>1</td>\n",
       "    </tr>\n",
       "    <tr>\n",
       "      <th>4</th>\n",
       "      <td>Acton Central</td>\n",
       "      <td>Baker Street</td>\n",
       "      <td>Mon</td>\n",
       "      <td>07</td>\n",
       "      <td>1</td>\n",
       "    </tr>\n",
       "    <tr>\n",
       "      <th>5</th>\n",
       "      <td>Acton Central</td>\n",
       "      <td>Baker Street</td>\n",
       "      <td>Thu</td>\n",
       "      <td>08</td>\n",
       "      <td>1</td>\n",
       "    </tr>\n",
       "    <tr>\n",
       "      <th>6</th>\n",
       "      <td>Acton Central</td>\n",
       "      <td>Baker Street</td>\n",
       "      <td>Tue</td>\n",
       "      <td>08</td>\n",
       "      <td>1</td>\n",
       "    </tr>\n",
       "  </tbody>\n",
       "</table>\n",
       "</div>"
      ],
      "text/plain": [
       "   Start station    End station  Day Entry hour  Journey count\n",
       "0  Acton Central  Acton Central  Sat         18              1\n",
       "1  Acton Central  Acton Central  Sun         07              1\n",
       "2  Acton Central  Acton Central  Thu         13              1\n",
       "3  Acton Central  Acton Central  Wed         17              1\n",
       "4  Acton Central   Baker Street  Mon         07              1\n",
       "5  Acton Central   Baker Street  Thu         08              1\n",
       "6  Acton Central   Baker Street  Tue         08              1"
      ]
     },
     "execution_count": 10,
     "metadata": {},
     "output_type": "execute_result"
    }
   ],
   "source": [
    "start_end_by_hour = complete_journeys.groupby(('StartStn', 'EndStation','daytype', 'EntTimeHHMM')).size()\n",
    "start_end_by_hour = start_end_by_hour.reset_index()\n",
    "start_end_by_hour.columns = ['Start station', 'End station', 'Day', 'Entry hour', 'Journey count']\n",
    "start_end_by_hour.head(7)"
   ]
  },
  {
   "cell_type": "markdown",
   "metadata": {},
   "source": [
    "### Checking"
   ]
  },
  {
   "cell_type": "markdown",
   "metadata": {},
   "source": [
    "Should both be 765324"
   ]
  },
  {
   "cell_type": "code",
   "execution_count": 11,
   "metadata": {},
   "outputs": [
    {
     "data": {
      "text/plain": [
       "764605"
      ]
     },
     "execution_count": 11,
     "metadata": {},
     "output_type": "execute_result"
    }
   ],
   "source": [
    "start_end_by_hour['Journey count'].sum()"
   ]
  },
  {
   "cell_type": "code",
   "execution_count": 12,
   "metadata": {},
   "outputs": [
    {
     "data": {
      "text/plain": [
       "764605"
      ]
     },
     "execution_count": 12,
     "metadata": {},
     "output_type": "execute_result"
    }
   ],
   "source": [
    "complete_journeys.shape[0]"
   ]
  },
  {
   "cell_type": "markdown",
   "metadata": {},
   "source": [
    "### Output"
   ]
  },
  {
   "cell_type": "code",
   "execution_count": 13,
   "metadata": {},
   "outputs": [],
   "source": [
    "# start_end_by_hour.to_csv('../data/journey_count.csv', index=False)"
   ]
  },
  {
   "cell_type": "markdown",
   "metadata": {},
   "source": [
    "# By days"
   ]
  },
  {
   "cell_type": "code",
   "execution_count": 32,
   "metadata": {},
   "outputs": [],
   "source": [
    "by_day_time = complete_journeys.groupby(('EntTimeHHMM', 'downo')).size()\n",
    "by_day_time = by_day_time.reset_index()\n",
    "by_day_time.columns = ['time', 'day', 'journeys']\n",
    "by_day_time['time'] = pandas.to_numeric(by_day_time['time'])\n",
    "by_day_time['day'] -= 1"
   ]
  },
  {
   "cell_type": "code",
   "execution_count": 28,
   "metadata": {},
   "outputs": [
    {
     "data": {
      "text/plain": [
       "downo  daytype\n",
       "1      Sun         42255\n",
       "2      Mon        124155\n",
       "3      Tue        130024\n",
       "4      Wed        132751\n",
       "5      Thu        133555\n",
       "6      Fri        131141\n",
       "7      Sat         70724\n",
       "dtype: int64"
      ]
     },
     "execution_count": 28,
     "metadata": {},
     "output_type": "execute_result"
    }
   ],
   "source": [
    "complete_journeys.groupby(('downo', 'daytype')).size()"
   ]
  },
  {
   "cell_type": "code",
   "execution_count": 35,
   "metadata": {
    "scrolled": false
   },
   "outputs": [
    {
     "data": {
      "image/png": "[encoded data removed]",
      "text/plain": [
       "<Figure size 432x288 with 1 Axes>"
      ]
     },
     "metadata": {
      "needs_background": "light"
     },
     "output_type": "display_data"
    }
   ],
   "source": [
    "ax = plt.subplot(xlabel='Time of day', ylabel='Number of journeys',)\n",
    "for i, day in enumerate(['Mon', 'Tue', 'Wed', 'Thu', 'Fri', 'Sat', 'Sun']):\n",
    "    daynum = (i + 1) % 7\n",
    "    dat = by_day_time[by_day_time['day']==daynum]\n",
    "    dat.plot(x='time', y='journeys', ax=ax, label=day)\n",
    "\n",
    "ax.set_xlabel('Time of day')\n",
    "ax.set_xticklabels(['{:0>2}:00'.format(int(x)) for x in ax.get_xticks()]);\n",
    "plt.gcf().set_size_inches((6,4))\n",
    "# plt.savefig('../../diss/journeyTime.pgf')"
   ]
  },
  {
   "cell_type": "markdown",
   "metadata": {},
   "source": [
    "# Start and end locations"
   ]
  },
  {
   "cell_type": "code",
   "execution_count": 16,
   "metadata": {},
   "outputs": [],
   "source": [
    "all_station_index = pandas.MultiIndex.from_product(\n",
    "    (all_stations, all_stations),\n",
    "    names=('StartStn', 'EndStation')\n",
    ")\n",
    "by_start_end = pandas.Series(\n",
    "    data=complete_journeys.groupby(('StartStn', 'EndStation')).size(),\n",
    "    index=all_station_index\n",
    ").unstack().fillna(0)"
   ]
  },
  {
   "cell_type": "code",
   "execution_count": 17,
   "metadata": {},
   "outputs": [],
   "source": [
    "borough_table = pandas.read_csv('../data/station_borough.csv').set_index('Station')\n",
    "lookup = dict(borough_table['Local authority'])"
   ]
  },
  {
   "cell_type": "markdown",
   "metadata": {},
   "source": [
    "# Graph visulisation"
   ]
  },
  {
   "cell_type": "code",
   "execution_count": 18,
   "metadata": {},
   "outputs": [],
   "source": [
    "import numpy as np\n",
    "from sklearn.manifold import MDS\n",
    "def form_coords_df(move_df):\n",
    "    dissim = (1 - move_df)\n",
    "    np.fill_diagonal(dissim.values, 0)\n",
    "    dissim += dissim.T\n",
    "    dissim /= 2\n",
    "    sim = 1 - dissim\n",
    "    mds = MDS(metric=False, dissimilarity='precomputed')\n",
    "    coords = mds.fit_transform(dissim.values)\n",
    "    coords_df = pandas.DataFrame(\n",
    "        data=coords,\n",
    "        index=all_stations,\n",
    "        columns=('x', 'y')\n",
    "    ).merge(borough_table, left_index=True, right_index=True)\n",
    "    coords_df['connectivity'] = sim.sum()\n",
    "    return coords_df, sim"
   ]
  },
  {
   "cell_type": "code",
   "execution_count": 19,
   "metadata": {},
   "outputs": [],
   "source": [
    "from matplotlib.collections import LineCollection\n",
    "# from: https://stackoverflow.com/questions/53699012/performant-cartesian-product-cross-join-with-pandas\n",
    "def cartesian_product_basic(left, right):\n",
    "    return (\n",
    "       left.assign(key=1).merge(right.assign(key=1), on='key')\n",
    "        .drop('key', 1)\n",
    "    )\n",
    "def self_join(df):\n",
    "    return cartesian_product_basic(df, df)\n",
    "\n",
    "def create_lines(df, sim):\n",
    "    excess_columns = frozenset(df.columns) - frozenset(('Station', 'x', 'y'))\n",
    "    lines = self_join(df.reset_index().drop(columns=excess_columns))\n",
    "    lines.columns = ['From', 'x1', 'y1', 'To', 'x2', 'y2']\n",
    "    # lines.set_index(['From', 'To'], inplace=True)\n",
    "    lines = lines.merge(\n",
    "        sim.reset_index().melt(id_vars=['StartStn']),\n",
    "        left_on = ['From', 'To'], right_on=['StartStn', 'EndStation']\n",
    "    )\n",
    "    lines = lines[lines['value'] > 0.0]\n",
    "    return lines, ([\n",
    "        ((row.x1, row.y1), (row.x2, row.y2)) for row in\n",
    "            lines.itertuples()\n",
    "    ])"
   ]
  },
  {
   "cell_type": "code",
   "execution_count": 20,
   "metadata": {},
   "outputs": [],
   "source": [
    "def draw_graph(df, sim, limit=None, **kwargs):\n",
    "    if limit is not None:\n",
    "        df = df.sort_values('connectivity', ascending=False).head(limit)\n",
    "    line_df, coords = create_lines(df, sim)\n",
    "    plot_lines = LineCollection(\n",
    "        coords,\n",
    "        linewidths=(line_df['value'].values) * 2,\n",
    "        cmap='Dark2', rasterized=True\n",
    "    )\n",
    "    ax = sns.scatterplot(data=df, x='x', y='y',\n",
    "                         size='connectivity', **kwargs)\n",
    "    ax.add_collection(plot_lines)\n",
    "    return ax"
   ]
  },
  {
   "cell_type": "code",
   "execution_count": 21,
   "metadata": {},
   "outputs": [
    {
     "data": {
      "image/png": "[encoded data removed]",
      "text/plain": [
       "<Figure size 432x288 with 1 Axes>"
      ]
     },
     "metadata": {
      "needs_background": "light"
     },
     "output_type": "display_data"
    }
   ],
   "source": [
    "from simulate import get_pop_data\n",
    "def data_to_draw(data_df):\n",
    "    pop_data = get_pop_data()[0].set_index('Station')\n",
    "    normalised_move = data_df.divide(pop_data['Population'], axis='index')\n",
    "\n",
    "    coords_df, sim = form_coords_df(normalised_move)\n",
    "\n",
    "    fig, ax = plt.subplots()\n",
    "    fig.subplots_adjust(0, 0)\n",
    "    ax = draw_graph(coords_df, sim, 200, hue='Local authority',\n",
    "                            legend=False, rasterized=True, ax=ax)\n",
    "    GAP = 0.01\n",
    "    for row in coords_df.sort_values('connectivity', ascending=False)\\\n",
    "                .head(10).itertuples():\n",
    "        if row.x < 0:\n",
    "            ha = 'right'\n",
    "            x = row.x - GAP\n",
    "        else:\n",
    "            ha = 'left'\n",
    "            x = row.x + GAP\n",
    "        y = row.y + GAP * row.y / abs(row.y)\n",
    "        ax.text(s=row.Index, x=x, y=y, ha=ha, fontsize=7)\n",
    "        ax.axis('off')\n",
    "data_to_draw(by_start_end)\n",
    "# plt.savefig('../../diss/connectivityGraph.pgf', dpi=400)"
   ]
  }
 ],
 "metadata": {
  "kernelspec": {
   "display_name": "proj_data",
   "language": "python",
   "name": "proj_data"
  },
  "language_info": {
   "codemirror_mode": {
    "name": "ipython",
    "version": 3
   },
   "file_extension": ".py",
   "mimetype": "text/x-python",
   "name": "python",
   "nbconvert_exporter": "python",
   "pygments_lexer": "ipython3",
   "version": "3.4.3"
  }
 },
 "nbformat": 4,
 "nbformat_minor": 2
}
