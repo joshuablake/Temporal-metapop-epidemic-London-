{
 "cells": [
  {
   "cell_type": "markdown",
   "metadata": {},
   "source": [
    "# Setup"
   ]
  },
  {
   "cell_type": "code",
   "execution_count": 1,
   "metadata": {},
   "outputs": [
    {
     "data": {
      "text/plain": [
       "{'divide': 'warn', 'invalid': 'warn', 'over': 'warn', 'under': 'ignore'}"
      ]
     },
     "execution_count": 1,
     "metadata": {},
     "output_type": "execute_result"
    }
   ],
   "source": [
    "import pandas as pd\n",
    "import numpy as np\n",
    "import random\n",
    "from os import path\n",
    "DATA_DIR = path.join('..', 'data')\n",
    "NP_TYPE = np.double\n",
    "np.seterr(all='raise')"
   ]
  },
  {
   "cell_type": "markdown",
   "metadata": {},
   "source": [
    "# Initial state"
   ]
  },
  {
   "cell_type": "code",
   "execution_count": 2,
   "metadata": {},
   "outputs": [],
   "source": [
    "def check_state(S, I, R, N):\n",
    "    assert (N == S + I + R).all() # Checks both value and shapes\n",
    "    assert (S >= 0).all()\n",
    "    assert (R >= 0).all()\n",
    "    assert (I >= 0).all()\n",
    "    assert np.isclose(N.sum(), POP_SIZE)"
   ]
  },
  {
   "cell_type": "code",
   "execution_count": 3,
   "metadata": {},
   "outputs": [
    {
     "data": {
      "text/plain": [
       "7947055"
      ]
     },
     "execution_count": 3,
     "metadata": {},
     "output_type": "execute_result"
    }
   ],
   "source": [
    "boroughs = pd.read_csv(path.join(DATA_DIR, 'borough_pop.csv'))\n",
    "stations = pd.read_csv(path.join(DATA_DIR, 'station_borough.csv'))\n",
    "POP_SIZE = boroughs['Population'].sum()\n",
    "POP_SIZE"
   ]
  },
  {
   "cell_type": "code",
   "execution_count": 4,
   "metadata": {},
   "outputs": [
    {
     "data": {
      "text/html": [
       "<div>\n",
       "<style scoped>\n",
       "    .dataframe tbody tr th:only-of-type {\n",
       "        vertical-align: middle;\n",
       "    }\n",
       "\n",
       "    .dataframe tbody tr th {\n",
       "        vertical-align: top;\n",
       "    }\n",
       "\n",
       "    .dataframe thead th {\n",
       "        text-align: right;\n",
       "    }\n",
       "</style>\n",
       "<table border=\"1\" class=\"dataframe\">\n",
       "  <thead>\n",
       "    <tr style=\"text-align: right;\">\n",
       "      <th></th>\n",
       "      <th>Local authority</th>\n",
       "      <th>Population</th>\n",
       "      <th>Station count</th>\n",
       "      <th>Station population</th>\n",
       "    </tr>\n",
       "  </thead>\n",
       "  <tbody>\n",
       "    <tr>\n",
       "      <th>0</th>\n",
       "      <td>Havering</td>\n",
       "      <td>234127</td>\n",
       "      <td>6</td>\n",
       "      <td>39021.166667</td>\n",
       "    </tr>\n",
       "    <tr>\n",
       "      <th>1</th>\n",
       "      <td>Wandsworth</td>\n",
       "      <td>299347</td>\n",
       "      <td>8</td>\n",
       "      <td>37418.375000</td>\n",
       "    </tr>\n",
       "    <tr>\n",
       "      <th>2</th>\n",
       "      <td>Harrow</td>\n",
       "      <td>233495</td>\n",
       "      <td>12</td>\n",
       "      <td>19457.916667</td>\n",
       "    </tr>\n",
       "    <tr>\n",
       "      <th>3</th>\n",
       "      <td>Croydon</td>\n",
       "      <td>352763</td>\n",
       "      <td>7</td>\n",
       "      <td>50394.714286</td>\n",
       "    </tr>\n",
       "    <tr>\n",
       "      <th>4</th>\n",
       "      <td>Lewisham</td>\n",
       "      <td>270418</td>\n",
       "      <td>8</td>\n",
       "      <td>33802.250000</td>\n",
       "    </tr>\n",
       "  </tbody>\n",
       "</table>\n",
       "</div>"
      ],
      "text/plain": [
       "  Local authority  Population  Station count  Station population\n",
       "0        Havering      234127              6        39021.166667\n",
       "1      Wandsworth      299347              8        37418.375000\n",
       "2          Harrow      233495             12        19457.916667\n",
       "3         Croydon      352763              7        50394.714286\n",
       "4        Lewisham      270418              8        33802.250000"
      ]
     },
     "execution_count": 4,
     "metadata": {},
     "output_type": "execute_result"
    }
   ],
   "source": [
    "borough_count = stations['Local authority'].value_counts().to_frame()\n",
    "borough_count.columns = ['Station count']\n",
    "boroughs_pop_count = boroughs.merge(borough_count, left_on='Local authority',\n",
    "                                    right_index=True, validate='one_to_one')\n",
    "boroughs_pop_count['Station population'] = boroughs_pop_count['Population'] / boroughs_pop_count['Station count']\n",
    "boroughs_pop_count.head()"
   ]
  },
  {
   "cell_type": "code",
   "execution_count": 5,
   "metadata": {},
   "outputs": [],
   "source": [
    "stations_pop = stations.merge(boroughs_pop_count).sort_values('Station')\n",
    "N = stations_pop['Station population'].values"
   ]
  },
  {
   "cell_type": "code",
   "execution_count": 6,
   "metadata": {},
   "outputs": [],
   "source": [
    "def random_array(total_sum, array_size):\n",
    "    ret = np.zeros(array_size, NP_TYPE)\n",
    "    for _ in range(total_sum):\n",
    "        ret[random.randrange(0, array_size)] += 1\n",
    "    return ret\n",
    "        \n",
    "INITIAL_INFECTED = 100\n",
    "I = random_array(INITIAL_INFECTED, len(N))\n",
    "S = N - I\n",
    "R = np.zeros(len(N), NP_TYPE)\n",
    "state = (S, I, R, N)\n",
    "check_state(*state)"
   ]
  },
  {
   "cell_type": "markdown",
   "metadata": {},
   "source": [
    "# Transition matrices"
   ]
  },
  {
   "cell_type": "markdown",
   "metadata": {},
   "source": [
    "## Load data"
   ]
  },
  {
   "cell_type": "code",
   "execution_count": 7,
   "metadata": {},
   "outputs": [],
   "source": [
    "DAY_LOOKUP = {\n",
    "    'Mon': 0,\n",
    "    'Tue': 1,\n",
    "    'Wed': 2,\n",
    "    'Thu': 3,\n",
    "    'Fri': 4,\n",
    "    'Sat': 5,\n",
    "    'Sun': 6,\n",
    "}"
   ]
  },
  {
   "cell_type": "code",
   "execution_count": 8,
   "metadata": {},
   "outputs": [
    {
     "data": {
      "text/html": [
       "<div>\n",
       "<style scoped>\n",
       "    .dataframe tbody tr th:only-of-type {\n",
       "        vertical-align: middle;\n",
       "    }\n",
       "\n",
       "    .dataframe tbody tr th {\n",
       "        vertical-align: top;\n",
       "    }\n",
       "\n",
       "    .dataframe thead th {\n",
       "        text-align: right;\n",
       "    }\n",
       "</style>\n",
       "<table border=\"1\" class=\"dataframe\">\n",
       "  <thead>\n",
       "    <tr style=\"text-align: right;\">\n",
       "      <th></th>\n",
       "      <th>Start</th>\n",
       "      <th>End</th>\n",
       "      <th>Day</th>\n",
       "      <th>Hour</th>\n",
       "      <th>Journeys</th>\n",
       "    </tr>\n",
       "  </thead>\n",
       "  <tbody>\n",
       "    <tr>\n",
       "      <th>0</th>\n",
       "      <td>Acton Central</td>\n",
       "      <td>Acton Central</td>\n",
       "      <td>5</td>\n",
       "      <td>18</td>\n",
       "      <td>1</td>\n",
       "    </tr>\n",
       "    <tr>\n",
       "      <th>1</th>\n",
       "      <td>Acton Central</td>\n",
       "      <td>Acton Central</td>\n",
       "      <td>6</td>\n",
       "      <td>7</td>\n",
       "      <td>1</td>\n",
       "    </tr>\n",
       "    <tr>\n",
       "      <th>2</th>\n",
       "      <td>Acton Central</td>\n",
       "      <td>Acton Central</td>\n",
       "      <td>3</td>\n",
       "      <td>13</td>\n",
       "      <td>1</td>\n",
       "    </tr>\n",
       "    <tr>\n",
       "      <th>3</th>\n",
       "      <td>Acton Central</td>\n",
       "      <td>Acton Central</td>\n",
       "      <td>2</td>\n",
       "      <td>17</td>\n",
       "      <td>1</td>\n",
       "    </tr>\n",
       "    <tr>\n",
       "      <th>4</th>\n",
       "      <td>Acton Central</td>\n",
       "      <td>Baker Street</td>\n",
       "      <td>0</td>\n",
       "      <td>7</td>\n",
       "      <td>1</td>\n",
       "    </tr>\n",
       "  </tbody>\n",
       "</table>\n",
       "</div>"
      ],
      "text/plain": [
       "           Start            End  Day  Hour  Journeys\n",
       "0  Acton Central  Acton Central    5    18         1\n",
       "1  Acton Central  Acton Central    6     7         1\n",
       "2  Acton Central  Acton Central    3    13         1\n",
       "3  Acton Central  Acton Central    2    17         1\n",
       "4  Acton Central   Baker Street    0     7         1"
      ]
     },
     "execution_count": 8,
     "metadata": {},
     "output_type": "execute_result"
    }
   ],
   "source": [
    "move_data = pd.read_csv(path.join(DATA_DIR, 'journey_count.csv'))\n",
    "move_data['Day'].replace(DAY_LOOKUP, inplace=True)\n",
    "move_data.columns = ['Start', 'End', 'Day', 'Hour', 'Journeys']\n",
    "move_data.loc[move_data['Hour'] > 23, 'Day'] += 1\n",
    "move_data.loc[move_data['Hour'] > 23, 'Hour'] -= 24\n",
    "move_data.head()"
   ]
  },
  {
   "cell_type": "code",
   "execution_count": 9,
   "metadata": {},
   "outputs": [],
   "source": [
    "STATION_LOOKUP = {\n",
    "    name: i for i, name in enumerate(move_data['Start'].unique())\n",
    "}"
   ]
  },
  {
   "cell_type": "markdown",
   "metadata": {},
   "source": [
    "## Create matrices"
   ]
  },
  {
   "cell_type": "code",
   "execution_count": 10,
   "metadata": {},
   "outputs": [],
   "source": [
    "def calc_hour(day, hour):\n",
    "    return day * 24 + hour\n",
    "\n",
    "max_day = move_data['Day'].max()\n",
    "max_day_max_hour = move_data[move_data['Day'] == max_day]['Hour'].max()\n",
    "hourly_F = [\n",
    "    np.zeros((len(STATION_LOOKUP), len(STATION_LOOKUP)))\n",
    "    for _ in range(calc_hour(max_day, max_day_max_hour) + 1)\n",
    "]\n",
    "\n",
    "STATION_POP = {\n",
    "    row['Station']: row['Station population'] for _, row in stations_pop.iterrows()\n",
    "}\n",
    "\n",
    "for row in move_data.itertuples():\n",
    "    start = STATION_LOOKUP[row.Start]\n",
    "    end = STATION_LOOKUP[row.End]\n",
    "    hourly_F[calc_hour(row.Day, row.Hour)][start][end] = row.Journeys / STATION_POP[row.Start]"
   ]
  },
  {
   "cell_type": "code",
   "execution_count": 11,
   "metadata": {},
   "outputs": [],
   "source": [
    "def check_F(F):\n",
    "    assert F.shape == (len(N), len(N))\n",
    "    assert (F.sum(axis=1) < 1).all()\n",
    "for F in hourly_F:\n",
    "    check_F(F)"
   ]
  },
  {
   "cell_type": "markdown",
   "metadata": {},
   "source": [
    "# Constants"
   ]
  },
  {
   "cell_type": "code",
   "execution_count": 12,
   "metadata": {},
   "outputs": [],
   "source": [
    "BETA = NP_TYPE(0.5 / 24)\n",
    "GAMMA = NP_TYPE((1/3) / 24)\n",
    "assert np.isclose(BETA / GAMMA, 1.5)"
   ]
  },
  {
   "cell_type": "markdown",
   "metadata": {},
   "source": [
    "# Main"
   ]
  },
  {
   "cell_type": "code",
   "execution_count": 13,
   "metadata": {},
   "outputs": [],
   "source": [
    "def update_state(F, S, I, R, N):\n",
    "    S_I_interaction = BETA * S * I * 1/N\n",
    "    Fdash = F.sum(axis=1)\n",
    "    Snew = -S_I_interaction + F.T.dot(S) - Fdash * S + S\n",
    "    Inew = S_I_interaction + F.T.dot(I) - Fdash * I + (1-GAMMA) * I\n",
    "    Rnew = GAMMA * I + F.T.dot(R) - Fdash * R + R\n",
    "    Nnew = Snew + Inew + Rnew\n",
    "    return (Snew, Inew, Rnew, Nnew)"
   ]
  },
  {
   "cell_type": "code",
   "execution_count": 14,
   "metadata": {
    "scrolled": false
   },
   "outputs": [],
   "source": [
    "def run_simulation(timesteps):\n",
    "    state = (S, I, R, N)\n",
    "    for t in range(timesteps):\n",
    "        F = hourly_F[t % len(hourly_F)]\n",
    "        new_state = update_state(F, *state)\n",
    "        check_state(*new_state)\n",
    "        state = new_state\n",
    "run_simulation(1000)"
   ]
  },
  {
   "cell_type": "code",
   "execution_count": 15,
   "metadata": {},
   "outputs": [],
   "source": [
    "F = hourly_F[29]\n",
    "S_I_interaction = BETA * S * I * 1/N\n",
    "Fdash = F.sum(axis=1)"
   ]
  },
  {
   "cell_type": "code",
   "execution_count": 17,
   "metadata": {},
   "outputs": [
    {
     "name": "stdout",
     "output_type": "stream",
     "text": [
      "58.8 µs ± 14.8 µs per loop (mean ± std. dev. of 7 runs, 10000 loops each)\n"
     ]
    }
   ],
   "source": [
    "%timeit F.dot(S)"
   ]
  },
  {
   "cell_type": "code",
   "execution_count": 21,
   "metadata": {},
   "outputs": [],
   "source": [
    "a = np.array([[1,2],[3,4]])\n",
    "b = np.array([[5,6],[7,8]])"
   ]
  },
  {
   "cell_type": "code",
   "execution_count": 22,
   "metadata": {},
   "outputs": [
    {
     "data": {
      "text/plain": [
       "array([[1, 2, 5, 6, 1, 2, 5, 6],\n",
       "       [3, 4, 7, 8, 3, 4, 7, 8]])"
      ]
     },
     "execution_count": 22,
     "metadata": {},
     "output_type": "execute_result"
    }
   ],
   "source": [
    "np.concatenate((a, b, a, b),axis=1)"
   ]
  },
  {
   "cell_type": "code",
   "execution_count": 23,
   "metadata": {},
   "outputs": [
    {
     "data": {
      "text/plain": [
       "array([[1., 2., 0., 0.],\n",
       "       [3., 4., 0., 0.],\n",
       "       [0., 0., 5., 6.],\n",
       "       [0., 0., 7., 8.]])"
      ]
     },
     "execution_count": 23,
     "metadata": {},
     "output_type": "execute_result"
    }
   ],
   "source": [
    "def matrix_concatenate(a, b):\n",
    "    assert a.shape == b.shape\n",
    "    assert len(a.shape) == 2\n",
    "    assert a.shape[0] == a.shape[1]\n",
    "    a2 = np.concatenate((a, np.zeros(a.shape)), axis=1)\n",
    "    b2 = np.concatenate((np.zeros(a.shape), b), axis=1)\n",
    "    return np.concatenate((a2, b2), axis=0)\n",
    "\n",
    "matrix_concatenate(a, b)"
   ]
  },
  {
   "cell_type": "code",
   "execution_count": 24,
   "metadata": {},
   "outputs": [],
   "source": [
    "Snew = F.dot(S)\n",
    "Inew = F.dot(I)\n",
    "SInew1 = np.concatenate((Snew, Inew))\n",
    "\n",
    "Fbig = matrix_concatenate(F, F)\n",
    "SInew2 = Fbig.dot(np.concatenate((S, I)))\n",
    "\n",
    "assert (SInew1 == SInew2).all()"
   ]
  },
  {
   "cell_type": "code",
   "execution_count": 25,
   "metadata": {},
   "outputs": [
    {
     "name": "stdout",
     "output_type": "stream",
     "text": [
      "640 µs ± 154 µs per loop (mean ± std. dev. of 7 runs, 1000 loops each)\n"
     ]
    }
   ],
   "source": [
    "%timeit Fbig.dot(np.concatenate((S, I)))"
   ]
  },
  {
   "cell_type": "code",
   "execution_count": 26,
   "metadata": {},
   "outputs": [
    {
     "name": "stdout",
     "output_type": "stream",
     "text": [
      "93.5 µs ± 12.2 µs per loop (mean ± std. dev. of 7 runs, 1000 loops each)\n"
     ]
    }
   ],
   "source": [
    "%timeit F.dot(S); F.dot(I)"
   ]
  }
 ],
 "metadata": {
  "kernelspec": {
   "display_name": "proj_data",
   "language": "python",
   "name": "proj_data"
  },
  "language_info": {
   "codemirror_mode": {
    "name": "ipython",
    "version": 3
   },
   "file_extension": ".py",
   "mimetype": "text/x-python",
   "name": "python",
   "nbconvert_exporter": "python",
   "pygments_lexer": "ipython3",
   "version": "3.4.3"
  }
 },
 "nbformat": 4,
 "nbformat_minor": 2
}
