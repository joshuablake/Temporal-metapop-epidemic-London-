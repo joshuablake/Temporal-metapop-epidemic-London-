{
 "cells": [
  {
   "cell_type": "markdown",
   "metadata": {},
   "source": [
    "# Setup"
   ]
  },
  {
   "cell_type": "code",
   "execution_count": 1,
   "metadata": {},
   "outputs": [
    {
     "data": {
      "text/plain": [
       "{'divide': 'warn', 'invalid': 'warn', 'over': 'warn', 'under': 'ignore'}"
      ]
     },
     "execution_count": 1,
     "metadata": {},
     "output_type": "execute_result"
    }
   ],
   "source": [
    "import pandas as pd\n",
    "import numpy as np\n",
    "import random\n",
    "import traceback\n",
    "from os import path\n",
    "DATA_DIR = path.join('..', 'data')\n",
    "NP_TYPE = np.double\n",
    "np.seterr(all='raise')"
   ]
  },
  {
   "cell_type": "markdown",
   "metadata": {},
   "source": [
    "# Initial state"
   ]
  },
  {
   "cell_type": "code",
   "execution_count": 2,
   "metadata": {},
   "outputs": [],
   "source": [
    "def check_state(S, I, R, N):\n",
    "    assert (N == S + I + R).all() # Checks both value and shapes\n",
    "    assert (S >= 0).all()\n",
    "    assert (R >= 0).all()\n",
    "    assert (I >= 0).all()\n",
    "    assert np.isclose(N.sum(), POP_SIZE)"
   ]
  },
  {
   "cell_type": "code",
   "execution_count": 3,
   "metadata": {},
   "outputs": [
    {
     "data": {
      "text/plain": [
       "7947055"
      ]
     },
     "execution_count": 3,
     "metadata": {},
     "output_type": "execute_result"
    }
   ],
   "source": [
    "boroughs = pd.read_csv(path.join(DATA_DIR, 'borough_pop.csv'))\n",
    "stations = pd.read_csv(path.join(DATA_DIR, 'station_borough.csv'))\n",
    "POP_SIZE = boroughs['Population'].sum()\n",
    "POP_SIZE"
   ]
  },
  {
   "cell_type": "code",
   "execution_count": 4,
   "metadata": {},
   "outputs": [
    {
     "data": {
      "text/html": [
       "<div>\n",
       "<style scoped>\n",
       "    .dataframe tbody tr th:only-of-type {\n",
       "        vertical-align: middle;\n",
       "    }\n",
       "\n",
       "    .dataframe tbody tr th {\n",
       "        vertical-align: top;\n",
       "    }\n",
       "\n",
       "    .dataframe thead th {\n",
       "        text-align: right;\n",
       "    }\n",
       "</style>\n",
       "<table border=\"1\" class=\"dataframe\">\n",
       "  <thead>\n",
       "    <tr style=\"text-align: right;\">\n",
       "      <th></th>\n",
       "      <th>Local authority</th>\n",
       "      <th>Population</th>\n",
       "      <th>Station count</th>\n",
       "      <th>Station population</th>\n",
       "    </tr>\n",
       "  </thead>\n",
       "  <tbody>\n",
       "    <tr>\n",
       "      <th>0</th>\n",
       "      <td>Havering</td>\n",
       "      <td>234127</td>\n",
       "      <td>6</td>\n",
       "      <td>39021.166667</td>\n",
       "    </tr>\n",
       "    <tr>\n",
       "      <th>1</th>\n",
       "      <td>Wandsworth</td>\n",
       "      <td>299347</td>\n",
       "      <td>8</td>\n",
       "      <td>37418.375000</td>\n",
       "    </tr>\n",
       "    <tr>\n",
       "      <th>2</th>\n",
       "      <td>Harrow</td>\n",
       "      <td>233495</td>\n",
       "      <td>12</td>\n",
       "      <td>19457.916667</td>\n",
       "    </tr>\n",
       "    <tr>\n",
       "      <th>3</th>\n",
       "      <td>Croydon</td>\n",
       "      <td>352763</td>\n",
       "      <td>7</td>\n",
       "      <td>50394.714286</td>\n",
       "    </tr>\n",
       "    <tr>\n",
       "      <th>4</th>\n",
       "      <td>Lewisham</td>\n",
       "      <td>270418</td>\n",
       "      <td>8</td>\n",
       "      <td>33802.250000</td>\n",
       "    </tr>\n",
       "  </tbody>\n",
       "</table>\n",
       "</div>"
      ],
      "text/plain": [
       "  Local authority  Population  Station count  Station population\n",
       "0        Havering      234127              6        39021.166667\n",
       "1      Wandsworth      299347              8        37418.375000\n",
       "2          Harrow      233495             12        19457.916667\n",
       "3         Croydon      352763              7        50394.714286\n",
       "4        Lewisham      270418              8        33802.250000"
      ]
     },
     "execution_count": 4,
     "metadata": {},
     "output_type": "execute_result"
    }
   ],
   "source": [
    "borough_count = stations['Local authority'].value_counts().to_frame()\n",
    "borough_count.columns = ['Station count']\n",
    "boroughs_pop_count = boroughs.merge(borough_count, left_on='Local authority',\n",
    "                                    right_index=True, validate='one_to_one')\n",
    "boroughs_pop_count['Station population'] = boroughs_pop_count['Population'] / boroughs_pop_count['Station count']\n",
    "boroughs_pop_count.head()"
   ]
  },
  {
   "cell_type": "code",
   "execution_count": 5,
   "metadata": {},
   "outputs": [],
   "source": [
    "stations_pop = stations.merge(boroughs_pop_count).sort_values('Station')\n",
    "INITIAL_N = stations_pop['Station population'].values"
   ]
  },
  {
   "cell_type": "markdown",
   "metadata": {},
   "source": [
    "# Transition matrices"
   ]
  },
  {
   "cell_type": "markdown",
   "metadata": {},
   "source": [
    "## Load data"
   ]
  },
  {
   "cell_type": "code",
   "execution_count": 6,
   "metadata": {},
   "outputs": [],
   "source": [
    "DAY_LOOKUP = {\n",
    "    'Mon': 0,\n",
    "    'Tue': 1,\n",
    "    'Wed': 2,\n",
    "    'Thu': 3,\n",
    "    'Fri': 4,\n",
    "    'Sat': 5,\n",
    "    'Sun': 6,\n",
    "}"
   ]
  },
  {
   "cell_type": "code",
   "execution_count": 7,
   "metadata": {},
   "outputs": [
    {
     "data": {
      "text/html": [
       "<div>\n",
       "<style scoped>\n",
       "    .dataframe tbody tr th:only-of-type {\n",
       "        vertical-align: middle;\n",
       "    }\n",
       "\n",
       "    .dataframe tbody tr th {\n",
       "        vertical-align: top;\n",
       "    }\n",
       "\n",
       "    .dataframe thead th {\n",
       "        text-align: right;\n",
       "    }\n",
       "</style>\n",
       "<table border=\"1\" class=\"dataframe\">\n",
       "  <thead>\n",
       "    <tr style=\"text-align: right;\">\n",
       "      <th></th>\n",
       "      <th>Start</th>\n",
       "      <th>End</th>\n",
       "      <th>Day</th>\n",
       "      <th>Hour</th>\n",
       "      <th>Journeys</th>\n",
       "    </tr>\n",
       "  </thead>\n",
       "  <tbody>\n",
       "    <tr>\n",
       "      <th>0</th>\n",
       "      <td>Acton Central</td>\n",
       "      <td>Acton Central</td>\n",
       "      <td>5</td>\n",
       "      <td>18</td>\n",
       "      <td>1</td>\n",
       "    </tr>\n",
       "    <tr>\n",
       "      <th>1</th>\n",
       "      <td>Acton Central</td>\n",
       "      <td>Acton Central</td>\n",
       "      <td>6</td>\n",
       "      <td>7</td>\n",
       "      <td>1</td>\n",
       "    </tr>\n",
       "    <tr>\n",
       "      <th>2</th>\n",
       "      <td>Acton Central</td>\n",
       "      <td>Acton Central</td>\n",
       "      <td>3</td>\n",
       "      <td>13</td>\n",
       "      <td>1</td>\n",
       "    </tr>\n",
       "    <tr>\n",
       "      <th>3</th>\n",
       "      <td>Acton Central</td>\n",
       "      <td>Acton Central</td>\n",
       "      <td>2</td>\n",
       "      <td>17</td>\n",
       "      <td>1</td>\n",
       "    </tr>\n",
       "    <tr>\n",
       "      <th>4</th>\n",
       "      <td>Acton Central</td>\n",
       "      <td>Baker Street</td>\n",
       "      <td>0</td>\n",
       "      <td>7</td>\n",
       "      <td>1</td>\n",
       "    </tr>\n",
       "  </tbody>\n",
       "</table>\n",
       "</div>"
      ],
      "text/plain": [
       "           Start            End  Day  Hour  Journeys\n",
       "0  Acton Central  Acton Central    5    18         1\n",
       "1  Acton Central  Acton Central    6     7         1\n",
       "2  Acton Central  Acton Central    3    13         1\n",
       "3  Acton Central  Acton Central    2    17         1\n",
       "4  Acton Central   Baker Street    0     7         1"
      ]
     },
     "execution_count": 7,
     "metadata": {},
     "output_type": "execute_result"
    }
   ],
   "source": [
    "move_data = pd.read_csv(path.join(DATA_DIR, 'journey_count.csv'))\n",
    "move_data['Day'].replace(DAY_LOOKUP, inplace=True)\n",
    "move_data.columns = ['Start', 'End', 'Day', 'Hour', 'Journeys']\n",
    "move_data.loc[move_data['Hour'] > 23, 'Day'] += 1\n",
    "move_data.loc[move_data['Hour'] > 23, 'Hour'] -= 24\n",
    "move_data.head()"
   ]
  },
  {
   "cell_type": "code",
   "execution_count": 8,
   "metadata": {},
   "outputs": [],
   "source": [
    "STATION_LOOKUP = {\n",
    "    name: i for i, name in enumerate(move_data['Start'].unique())\n",
    "}"
   ]
  },
  {
   "cell_type": "markdown",
   "metadata": {},
   "source": [
    "## Create matrices"
   ]
  },
  {
   "cell_type": "code",
   "execution_count": 9,
   "metadata": {},
   "outputs": [],
   "source": [
    "def calc_hour(day, hour):\n",
    "    return day * 24 + hour\n",
    "\n",
    "max_day = move_data['Day'].max()\n",
    "max_day_max_hour = move_data[move_data['Day'] == max_day]['Hour'].max()\n",
    "hourly_F = [\n",
    "    np.zeros((len(STATION_LOOKUP), len(STATION_LOOKUP)))\n",
    "    for _ in range(calc_hour(max_day, max_day_max_hour) + 1)\n",
    "]\n",
    "\n",
    "STATION_POP = {\n",
    "    row['Station']: row['Station population'] for _, row in stations_pop.iterrows()\n",
    "}\n",
    "\n",
    "for row in move_data.itertuples():\n",
    "    start = STATION_LOOKUP[row.Start]\n",
    "    end = STATION_LOOKUP[row.End]\n",
    "    hourly_F[calc_hour(row.Day, row.Hour)][start][end] = row.Journeys / STATION_POP[row.Start]"
   ]
  },
  {
   "cell_type": "code",
   "execution_count": 10,
   "metadata": {},
   "outputs": [],
   "source": [
    "def check_F(F):\n",
    "    assert F.shape == (len(INITIAL_N), len(INITIAL_N))\n",
    "    assert (F.sum(axis=1) < 1).all()\n",
    "for F in hourly_F:\n",
    "    check_F(F)"
   ]
  },
  {
   "cell_type": "markdown",
   "metadata": {},
   "source": [
    "# Constants"
   ]
  },
  {
   "cell_type": "code",
   "execution_count": 11,
   "metadata": {},
   "outputs": [],
   "source": [
    "BETA = NP_TYPE(0.5 / 24)\n",
    "GAMMA = NP_TYPE((1/3) / 24)\n",
    "assert np.isclose(BETA / GAMMA, 1.5)"
   ]
  },
  {
   "cell_type": "markdown",
   "metadata": {},
   "source": [
    "# Main"
   ]
  },
  {
   "cell_type": "code",
   "execution_count": 13,
   "metadata": {},
   "outputs": [],
   "source": [
    "def update_state(F, Fdash, S, I, R, N):\n",
    "    S_I_interaction = BETA * S * I * 1/N\n",
    "    Snew = -S_I_interaction + F.T.dot(S) - Fdash * S + S\n",
    "    Inew = S_I_interaction + F.T.dot(I) - Fdash * I + (1-GAMMA) * I\n",
    "    Rnew = GAMMA * I + F.T.dot(R) - Fdash * R + R\n",
    "    Nnew = Snew + Inew + Rnew\n",
    "    return (Snew, Inew, Rnew, Nnew)\n",
    "\n",
    "def run_simulation(state, start_time=0, timesteps=None):\n",
    "    old_err = np.seterr(under='ignore')\n",
    "    hourly_Fdash = [F.sum(axis=1) for F in hourly_F]\n",
    "    t = 0\n",
    "    Stotals = Itotals = Rtotals = []\n",
    "    Itotal = sum(I)\n",
    "    while Itotal > 0.5 and (timesteps == None or t < timesteps):\n",
    "#         if t % 1000 == 0:\n",
    "#             print('{}: {} infected'.format(t, Itotal))\n",
    "        Stotals.append(S.sum())\n",
    "        Itotals.append(Itotal)\n",
    "        Rtotals.append(R.sum())\n",
    "#         print(state)\n",
    "        F = hourly_F[t % len(hourly_F)]\n",
    "        Fdash = hourly_Fdash[t % len(hourly_F)]\n",
    "        new_state = update_state(F, Fdash, *state)\n",
    "#         check_state(*new_state)\n",
    "        state = new_state\n",
    "        t += 1\n",
    "#         assert len(states) == t\n",
    "        Itotal = sum(state[1])\n",
    "    np.seterr(**old_err)\n",
    "    return (Stotals, Itotals, Rtotals)"
   ]
  },
  {
   "cell_type": "code",
   "execution_count": null,
   "metadata": {},
   "outputs": [],
   "source": [
    "# %timeit run_simulation(1000)"
   ]
  },
  {
   "cell_type": "code",
   "execution_count": 14,
   "metadata": {},
   "outputs": [
    {
     "data": {
      "text/plain": [
       "533.7142857142857"
      ]
     },
     "execution_count": 14,
     "metadata": {},
     "output_type": "execute_result"
    }
   ],
   "source": [
    "INITIAL_N[3]"
   ]
  },
  {
   "cell_type": "code",
   "execution_count": null,
   "metadata": {
    "scrolled": false
   },
   "outputs": [
    {
     "name": "stdout",
     "output_type": "stream",
     "text": [
      "Station 0 of 395\n",
      "Station 1 of 395\n",
      "Station 2 of 395\n",
      "Station 3 of 395\n",
      "Too small population to start with 10000\n",
      "Station 4 of 395\n",
      "Too small population to start with 10000\n",
      "Station 5 of 395\n",
      "Too small population to start with 10000\n",
      "Station 6 of 395\n",
      "Station 7 of 395\n",
      "Station 8 of 395\n",
      "Station 9 of 395\n",
      "Station 10 of 395\n",
      "Station 11 of 395\n",
      "Station 12 of 395\n",
      "Too small population to start with 10000\n",
      "Station 13 of 395\n",
      "Station 14 of 395\n",
      "Too small population to start with 10000\n",
      "Station 15 of 395\n",
      "Too small population to start with 10000\n",
      "Station 16 of 395\n",
      "Station 17 of 395\n",
      "Station 18 of 395\n",
      "Station 19 of 395\n",
      "Station 20 of 395\n",
      "Too small population to start with 10000\n",
      "Station 21 of 395\n",
      "Station 22 of 395\n",
      "Station 23 of 395\n",
      "Station 24 of 395\n",
      "Station 25 of 395\n",
      "Too small population to start with 10000\n",
      "Station 26 of 395\n",
      "Station 27 of 395\n",
      "Too small population to start with 10000\n",
      "Station 28 of 395\n",
      "Too small population to start with 10000\n",
      "Station 29 of 395\n",
      "Too small population to start with 10000\n",
      "Station 30 of 395\n",
      "Station 31 of 395\n",
      "Too small population to start with 10000\n",
      "Station 32 of 395\n",
      "Too small population to start with 10000\n",
      "Station 33 of 395\n",
      "Station 34 of 395\n",
      "Station 35 of 395\n",
      "Station 36 of 395\n",
      "Too small population to start with 10000\n",
      "Station 37 of 395\n",
      "Too small population to start with 10000\n",
      "Station 38 of 395\n",
      "Station 39 of 395\n",
      "Station 40 of 395\n",
      "Station 41 of 395\n",
      "Too small population to start with 10000\n",
      "Station 42 of 395\n",
      "Station 43 of 395\n",
      "Station 44 of 395\n",
      "Station 45 of 395\n",
      "Station 46 of 395\n",
      "Station 47 of 395\n",
      "Station 48 of 395\n",
      "Station 49 of 395\n",
      "Too small population to start with 10000\n",
      "Station 50 of 395\n",
      "Too small population to start with 10000\n",
      "Station 51 of 395\n",
      "Too small population to start with 10000\n",
      "Station 52 of 395\n",
      "Station 53 of 395\n",
      "Too small population to start with 10000\n",
      "Station 54 of 395\n",
      "Station 55 of 395\n",
      "Too small population to start with 10000\n",
      "Station 56 of 395\n",
      "Station 57 of 395\n",
      "Station 58 of 395\n",
      "Station 59 of 395\n",
      "Station 60 of 395\n",
      "Station 61 of 395\n",
      "Station 62 of 395\n",
      "Too small population to start with 10000\n",
      "Station 63 of 395\n",
      "Too small population to start with 10000\n",
      "Station 64 of 395\n",
      "Too small population to start with 10000\n",
      "Station 65 of 395\n",
      "Station 66 of 395\n",
      "Station 67 of 395\n",
      "Station 68 of 395\n",
      "Station 69 of 395\n",
      "Too small population to start with 10000\n",
      "Station 70 of 395\n",
      "Station 71 of 395\n",
      "Station 72 of 395\n",
      "Station 73 of 395\n",
      "Station 74 of 395\n",
      "Station 75 of 395\n",
      "Station 76 of 395\n",
      "Station 77 of 395\n",
      "Station 78 of 395\n",
      "Too small population to start with 10000\n",
      "Station 79 of 395\n",
      "Too small population to start with 10000\n",
      "Station 80 of 395\n",
      "Station 81 of 395\n",
      "Station 82 of 395\n",
      "Station 83 of 395\n",
      "Station 84 of 395\n",
      "Station 85 of 395\n",
      "Station 86 of 395\n",
      "Station 87 of 395\n",
      "Station 88 of 395\n",
      "Station 89 of 395\n",
      "Station 90 of 395\n",
      "Station 91 of 395\n",
      "Station 92 of 395\n",
      "Too small population to start with 10000\n",
      "Station 93 of 395\n",
      "Station 94 of 395\n",
      "Station 95 of 395\n",
      "Station 96 of 395\n",
      "Station 97 of 395\n",
      "Station 98 of 395\n",
      "Station 99 of 395\n",
      "Station 100 of 395\n",
      "Station 101 of 395\n",
      "Station 102 of 395\n",
      "Station 103 of 395\n",
      "Too small population to start with 10000\n",
      "Station 104 of 395\n",
      "Station 105 of 395\n",
      "Station 106 of 395\n",
      "Too small population to start with 10000\n",
      "Station 107 of 395\n",
      "Too small population to start with 10000\n",
      "Station 108 of 395\n",
      "Too small population to start with 10000\n",
      "Station 109 of 395\n",
      "Station 110 of 395\n",
      "Station 111 of 395\n",
      "Station 112 of 395\n",
      "Too small population to start with 10000\n",
      "Station 113 of 395\n",
      "Station 114 of 395\n",
      "Station 115 of 395\n",
      "Too small population to start with 10000\n",
      "Station 116 of 395\n",
      "Too small population to start with 10000\n",
      "Station 117 of 395\n",
      "Station 118 of 395\n",
      "Station 119 of 395\n",
      "Too small population to start with 10000\n",
      "Station 120 of 395\n",
      "Station 121 of 395\n",
      "Too small population to start with 10000\n",
      "Station 122 of 395\n",
      "Too small population to start with 10000\n",
      "Station 123 of 395\n",
      "Station 124 of 395\n",
      "Station 125 of 395\n",
      "Station 126 of 395\n",
      "Station 127 of 395\n",
      "Station 128 of 395\n",
      "Station 129 of 395\n",
      "Station 130 of 395\n",
      "Station 131 of 395\n",
      "Too small population to start with 10000\n",
      "Station 132 of 395\n",
      "Too small population to start with 10000\n",
      "Station 133 of 395\n",
      "Station 134 of 395\n",
      "Too small population to start with 10000\n",
      "Station 135 of 395\n",
      "Too small population to start with 10000\n",
      "Station 136 of 395\n",
      "Station 137 of 395\n",
      "Station 138 of 395\n",
      "Station 139 of 395\n",
      "Station 140 of 395\n",
      "Station 141 of 395\n",
      "Station 142 of 395\n",
      "Station 143 of 395\n",
      "Station 144 of 395\n",
      "Station 145 of 395\n",
      "Too small population to start with 10000\n",
      "Station 146 of 395\n",
      "Too small population to start with 10000\n",
      "Station 147 of 395\n",
      "Station 148 of 395\n",
      "Station 149 of 395\n",
      "Station 150 of 395\n",
      "Station 151 of 395\n",
      "Station 152 of 395\n",
      "Station 153 of 395\n",
      "Station 154 of 395\n",
      "Station 155 of 395\n",
      "Station 156 of 395\n"
     ]
    }
   ],
   "source": [
    "START_TIMES = [24*i for i in range(7)]\n",
    "INITIAL_INFECTEDS = (1, 10, 10000)\n",
    "HEADER = ('Init_station', 'Init_time', 'Init_count', 'Count_type')\n",
    "HEADER_PRINT = 'Starting at: station {}, time {}, count {}'\n",
    "import csv\n",
    "with open('results.csv', 'w', newline='') as outfile:\n",
    "    writer = csv.writer(outfile)\n",
    "    writer.writerow(HEADER)\n",
    "    for station_index in range(len(INITIAL_N)):\n",
    "        print('Station {} of {}'.format(station_index, len(INITIAL_N)))\n",
    "        for I_count in INITIAL_INFECTEDS:\n",
    "            if INITIAL_N[station_index] < I_count:\n",
    "                print('Too small population to start with {}'.format(I_count))\n",
    "                break\n",
    "            for t in START_TIMES:\n",
    "                N = INITIAL_N\n",
    "                I = np.zeros(len(N))\n",
    "                R = np.zeros(len(N))\n",
    "                I[station_index] = I_count\n",
    "                S = N - I\n",
    "                state = (S, I, R, N)\n",
    "                try:\n",
    "                    check_state(*state)\n",
    "                    result = run_simulation(state=state, start_time=t)\n",
    "                except Exception as err:\n",
    "                    print('ERROR: start time is {}, infecteds is {}'.format(t, I_count))\n",
    "                    raise\n",
    "                else:\n",
    "                    for i, name in enumerate(('S', 'I', 'R')):\n",
    "                        outrow = [station_index, t, I_count, name]\n",
    "                        outrow.extend(result[i])\n",
    "                        writer.writerow(outrow)"
   ]
  }
 ],
 "metadata": {
  "kernelspec": {
   "display_name": "proj_data",
   "language": "python",
   "name": "proj_data"
  },
  "language_info": {
   "codemirror_mode": {
    "name": "ipython",
    "version": 3
   },
   "file_extension": ".py",
   "mimetype": "text/x-python",
   "name": "python",
   "nbconvert_exporter": "python",
   "pygments_lexer": "ipython3",
   "version": "3.4.3"
  }
 },
 "nbformat": 4,
 "nbformat_minor": 2
}
