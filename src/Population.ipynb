{
 "cells": [
  {
   "cell_type": "code",
   "execution_count": 1,
   "metadata": {},
   "outputs": [],
   "source": [
    "import pandas\n",
    "from os import path\n",
    "YEAR = '2009'\n",
    "DATA_DIR = path.join('..', 'data')\n",
    "locations = pandas.Series(pandas.read_csv(path.join(DATA_DIR, 'station_borough.csv'))['Local authority'].unique())"
   ]
  },
  {
   "cell_type": "markdown",
   "metadata": {},
   "source": [
    "# ONS data\n",
    "*cite key: EstimatesPopulationUK*"
   ]
  },
  {
   "cell_type": "code",
   "execution_count": 2,
   "metadata": {},
   "outputs": [
    {
     "data": {
      "text/html": [
       "<div>\n",
       "<style scoped>\n",
       "    .dataframe tbody tr th:only-of-type {\n",
       "        vertical-align: middle;\n",
       "    }\n",
       "\n",
       "    .dataframe tbody tr th {\n",
       "        vertical-align: top;\n",
       "    }\n",
       "\n",
       "    .dataframe thead th {\n",
       "        text-align: right;\n",
       "    }\n",
       "</style>\n",
       "<table border=\"1\" class=\"dataframe\">\n",
       "  <thead>\n",
       "    <tr style=\"text-align: right;\">\n",
       "      <th></th>\n",
       "      <th>lad2014_code</th>\n",
       "      <th>lad2014_name</th>\n",
       "      <th>country</th>\n",
       "      <th>sex</th>\n",
       "      <th>Age</th>\n",
       "      <th>population_2001</th>\n",
       "      <th>population_2002</th>\n",
       "      <th>population_2003</th>\n",
       "      <th>population_2004</th>\n",
       "      <th>population_2005</th>\n",
       "      <th>...</th>\n",
       "      <th>population_2008</th>\n",
       "      <th>population_2009</th>\n",
       "      <th>population_2010</th>\n",
       "      <th>population_2011</th>\n",
       "      <th>population_2012</th>\n",
       "      <th>population_2013</th>\n",
       "      <th>population_2014</th>\n",
       "      <th>population_2015</th>\n",
       "      <th>population_2016</th>\n",
       "      <th>population_2017</th>\n",
       "    </tr>\n",
       "  </thead>\n",
       "  <tbody>\n",
       "    <tr>\n",
       "      <th>0</th>\n",
       "      <td>E06000001</td>\n",
       "      <td>Hartlepool</td>\n",
       "      <td>E</td>\n",
       "      <td>1</td>\n",
       "      <td>0</td>\n",
       "      <td>525</td>\n",
       "      <td>502</td>\n",
       "      <td>516</td>\n",
       "      <td>553</td>\n",
       "      <td>531</td>\n",
       "      <td>...</td>\n",
       "      <td>604</td>\n",
       "      <td>572</td>\n",
       "      <td>584</td>\n",
       "      <td>601</td>\n",
       "      <td>595</td>\n",
       "      <td>576</td>\n",
       "      <td>551</td>\n",
       "      <td>497</td>\n",
       "      <td>576</td>\n",
       "      <td>507</td>\n",
       "    </tr>\n",
       "    <tr>\n",
       "      <th>1</th>\n",
       "      <td>E06000001</td>\n",
       "      <td>Hartlepool</td>\n",
       "      <td>E</td>\n",
       "      <td>1</td>\n",
       "      <td>1</td>\n",
       "      <td>544</td>\n",
       "      <td>526</td>\n",
       "      <td>498</td>\n",
       "      <td>526</td>\n",
       "      <td>550</td>\n",
       "      <td>...</td>\n",
       "      <td>573</td>\n",
       "      <td>597</td>\n",
       "      <td>577</td>\n",
       "      <td>573</td>\n",
       "      <td>615</td>\n",
       "      <td>601</td>\n",
       "      <td>567</td>\n",
       "      <td>553</td>\n",
       "      <td>512</td>\n",
       "      <td>570</td>\n",
       "    </tr>\n",
       "    <tr>\n",
       "      <th>2</th>\n",
       "      <td>E06000001</td>\n",
       "      <td>Hartlepool</td>\n",
       "      <td>E</td>\n",
       "      <td>1</td>\n",
       "      <td>2</td>\n",
       "      <td>548</td>\n",
       "      <td>548</td>\n",
       "      <td>551</td>\n",
       "      <td>507</td>\n",
       "      <td>521</td>\n",
       "      <td>...</td>\n",
       "      <td>565</td>\n",
       "      <td>584</td>\n",
       "      <td>591</td>\n",
       "      <td>580</td>\n",
       "      <td>586</td>\n",
       "      <td>621</td>\n",
       "      <td>600</td>\n",
       "      <td>576</td>\n",
       "      <td>562</td>\n",
       "      <td>534</td>\n",
       "    </tr>\n",
       "    <tr>\n",
       "      <th>3</th>\n",
       "      <td>E06000001</td>\n",
       "      <td>Hartlepool</td>\n",
       "      <td>E</td>\n",
       "      <td>1</td>\n",
       "      <td>3</td>\n",
       "      <td>556</td>\n",
       "      <td>546</td>\n",
       "      <td>548</td>\n",
       "      <td>553</td>\n",
       "      <td>508</td>\n",
       "      <td>...</td>\n",
       "      <td>528</td>\n",
       "      <td>560</td>\n",
       "      <td>593</td>\n",
       "      <td>600</td>\n",
       "      <td>578</td>\n",
       "      <td>584</td>\n",
       "      <td>625</td>\n",
       "      <td>598</td>\n",
       "      <td>579</td>\n",
       "      <td>565</td>\n",
       "    </tr>\n",
       "    <tr>\n",
       "      <th>4</th>\n",
       "      <td>E06000001</td>\n",
       "      <td>Hartlepool</td>\n",
       "      <td>E</td>\n",
       "      <td>1</td>\n",
       "      <td>4</td>\n",
       "      <td>606</td>\n",
       "      <td>549</td>\n",
       "      <td>553</td>\n",
       "      <td>540</td>\n",
       "      <td>554</td>\n",
       "      <td>...</td>\n",
       "      <td>547</td>\n",
       "      <td>525</td>\n",
       "      <td>553</td>\n",
       "      <td>600</td>\n",
       "      <td>616</td>\n",
       "      <td>593</td>\n",
       "      <td>568</td>\n",
       "      <td>620</td>\n",
       "      <td>604</td>\n",
       "      <td>591</td>\n",
       "    </tr>\n",
       "  </tbody>\n",
       "</table>\n",
       "<p>5 rows × 22 columns</p>\n",
       "</div>"
      ],
      "text/plain": [
       "  lad2014_code lad2014_name country  sex  Age  population_2001  \\\n",
       "0    E06000001   Hartlepool       E    1    0              525   \n",
       "1    E06000001   Hartlepool       E    1    1              544   \n",
       "2    E06000001   Hartlepool       E    1    2              548   \n",
       "3    E06000001   Hartlepool       E    1    3              556   \n",
       "4    E06000001   Hartlepool       E    1    4              606   \n",
       "\n",
       "   population_2002  population_2003  population_2004  population_2005  \\\n",
       "0              502              516              553              531   \n",
       "1              526              498              526              550   \n",
       "2              548              551              507              521   \n",
       "3              546              548              553              508   \n",
       "4              549              553              540              554   \n",
       "\n",
       "        ...         population_2008  population_2009  population_2010  \\\n",
       "0       ...                     604              572              584   \n",
       "1       ...                     573              597              577   \n",
       "2       ...                     565              584              591   \n",
       "3       ...                     528              560              593   \n",
       "4       ...                     547              525              553   \n",
       "\n",
       "   population_2011  population_2012  population_2013  population_2014  \\\n",
       "0              601              595              576              551   \n",
       "1              573              615              601              567   \n",
       "2              580              586              621              600   \n",
       "3              600              578              584              625   \n",
       "4              600              616              593              568   \n",
       "\n",
       "   population_2015  population_2016  population_2017  \n",
       "0              497              576              507  \n",
       "1              553              512              570  \n",
       "2              576              562              534  \n",
       "3              598              579              565  \n",
       "4              620              604              591  \n",
       "\n",
       "[5 rows x 22 columns]"
      ]
     },
     "execution_count": 2,
     "metadata": {},
     "output_type": "execute_result"
    }
   ],
   "source": [
    "pop_data = pandas.read_csv(path.join(DATA_DIR, 'pop_data.csv'))\n",
    "pop_data.head()"
   ]
  },
  {
   "cell_type": "code",
   "execution_count": 3,
   "metadata": {},
   "outputs": [],
   "source": [
    "pop_values = pop_data.groupby('lad2014_name').sum()['population_' + YEAR]"
   ]
  },
  {
   "cell_type": "code",
   "execution_count": 4,
   "metadata": {},
   "outputs": [],
   "source": [
    "borough_pop = {}\n",
    "for loc in locations:\n",
    "    if loc == 'City of Westminster':\n",
    "        key = 'Westminster'\n",
    "    elif loc == 'Richmond':\n",
    "        key = 'Richmond upon Thames'\n",
    "    else:\n",
    "        key = loc\n",
    "    try:\n",
    "        borough_pop[loc] = pop_values.at[key]\n",
    "    except KeyError:\n",
    "        print('{} does not exist in population data'.format(loc))"
   ]
  },
  {
   "cell_type": "code",
   "execution_count": 5,
   "metadata": {},
   "outputs": [
    {
     "data": {
      "text/plain": [
       "{'Barking and Dagenham': 177580,\n",
       " 'Barnet': 345829,\n",
       " 'Brent': 298118,\n",
       " 'Bromley': 306924,\n",
       " 'Camden': 212924,\n",
       " 'Chiltern': 92526,\n",
       " 'City of London': 7472,\n",
       " 'City of Westminster': 216980,\n",
       " 'Croydon': 352763,\n",
       " 'Ealing': 329966,\n",
       " 'Enfield': 301971,\n",
       " 'Epping Forest': 123820,\n",
       " 'Greenwich': 243672,\n",
       " 'Hackney': 236622,\n",
       " 'Hammersmith and Fulham': 180116,\n",
       " 'Haringey': 249805,\n",
       " 'Harrow': 233495,\n",
       " 'Havering': 234127,\n",
       " 'Hillingdon': 265665,\n",
       " 'Hounslow': 243366,\n",
       " 'Islington': 196704,\n",
       " 'Kensington and Chelsea': 161893,\n",
       " 'Lambeth': 294050,\n",
       " 'Lewisham': 270418,\n",
       " 'Merton': 198136,\n",
       " 'Newham': 286447,\n",
       " 'Redbridge': 270435,\n",
       " 'Richmond': 184394,\n",
       " 'Southwark': 281120,\n",
       " 'Sutton': 188167,\n",
       " 'Three Rivers': 87096,\n",
       " 'Tower Hamlets': 240495,\n",
       " 'Waltham Forest': 248140,\n",
       " 'Wandsworth': 299347,\n",
       " 'Watford': 86472}"
      ]
     },
     "execution_count": 5,
     "metadata": {},
     "output_type": "execute_result"
    }
   ],
   "source": [
    "borough_pop"
   ]
  },
  {
   "cell_type": "code",
   "execution_count": 9,
   "metadata": {},
   "outputs": [
    {
     "data": {
      "text/plain": [
       "227058.7142857143"
      ]
     },
     "execution_count": 9,
     "metadata": {},
     "output_type": "execute_result"
    }
   ],
   "source": [
    "sum(borough_pop.values())/35"
   ]
  },
  {
   "cell_type": "code",
   "execution_count": 11,
   "metadata": {},
   "outputs": [
    {
     "data": {
      "text/plain": [
       "77724.78563075577"
      ]
     },
     "execution_count": 11,
     "metadata": {},
     "output_type": "execute_result"
    }
   ],
   "source": [
    "import numpy as np\n",
    "np.std([int(i) for i in borough_pop.values()])"
   ]
  },
  {
   "cell_type": "markdown",
   "metadata": {},
   "source": [
    "# Output"
   ]
  },
  {
   "cell_type": "code",
   "execution_count": 7,
   "metadata": {},
   "outputs": [],
   "source": [
    "# import csv\n",
    "# with open(path.join(DATA_DIR, 'borough_pop.csv'), 'w', newline='') as outfile:\n",
    "#     writer = csv.writer(outfile)\n",
    "#     writer.writerow(['Local authority', 'Population'])\n",
    "#     writer.writerows(borough_pop.items())"
   ]
  }
 ],
 "metadata": {
  "kernelspec": {
   "display_name": "proj_data",
   "language": "python",
   "name": "proj_data"
  },
  "language_info": {
   "codemirror_mode": {
    "name": "ipython",
    "version": 3
   },
   "file_extension": ".py",
   "mimetype": "text/x-python",
   "name": "python",
   "nbconvert_exporter": "python",
   "pygments_lexer": "ipython3",
   "version": "3.4.3"
  }
 },
 "nbformat": 4,
 "nbformat_minor": 2
}
