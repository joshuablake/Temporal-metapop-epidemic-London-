{
 "cells": [
  {
   "cell_type": "code",
   "execution_count": 34,
   "metadata": {},
   "outputs": [],
   "source": [
    "import pandas as pd\n",
    "from os import path\n",
    "import matplotlib.pyplot as plt\n",
    "import numpy as np\n",
    "%matplotlib inline\n",
    "DATA_DIR = path.join('..', 'data')"
   ]
  },
  {
   "cell_type": "code",
   "execution_count": 50,
   "metadata": {},
   "outputs": [
    {
     "data": {
      "text/html": [
       "<div>\n",
       "<style scoped>\n",
       "    .dataframe tbody tr th:only-of-type {\n",
       "        vertical-align: middle;\n",
       "    }\n",
       "\n",
       "    .dataframe tbody tr th {\n",
       "        vertical-align: top;\n",
       "    }\n",
       "\n",
       "    .dataframe thead th {\n",
       "        text-align: right;\n",
       "    }\n",
       "</style>\n",
       "<table border=\"1\" class=\"dataframe\">\n",
       "  <thead>\n",
       "    <tr style=\"text-align: right;\">\n",
       "      <th></th>\n",
       "      <th></th>\n",
       "      <th></th>\n",
       "      <th></th>\n",
       "      <th></th>\n",
       "      <th></th>\n",
       "      <th>0</th>\n",
       "      <th>1</th>\n",
       "      <th>2</th>\n",
       "      <th>3</th>\n",
       "      <th>4</th>\n",
       "      <th>5</th>\n",
       "      <th>6</th>\n",
       "      <th>7</th>\n",
       "      <th>8</th>\n",
       "      <th>9</th>\n",
       "      <th>...</th>\n",
       "      <th>5411</th>\n",
       "      <th>5412</th>\n",
       "      <th>5413</th>\n",
       "      <th>5414</th>\n",
       "      <th>5415</th>\n",
       "      <th>5416</th>\n",
       "      <th>5417</th>\n",
       "      <th>5418</th>\n",
       "      <th>5419</th>\n",
       "      <th>5420</th>\n",
       "    </tr>\n",
       "    <tr>\n",
       "      <th>Init_station</th>\n",
       "      <th>Init_time</th>\n",
       "      <th>Tick_length</th>\n",
       "      <th>Init_count</th>\n",
       "      <th>Travel_period</th>\n",
       "      <th>Count_type</th>\n",
       "      <th></th>\n",
       "      <th></th>\n",
       "      <th></th>\n",
       "      <th></th>\n",
       "      <th></th>\n",
       "      <th></th>\n",
       "      <th></th>\n",
       "      <th></th>\n",
       "      <th></th>\n",
       "      <th></th>\n",
       "      <th></th>\n",
       "      <th></th>\n",
       "      <th></th>\n",
       "      <th></th>\n",
       "      <th></th>\n",
       "      <th></th>\n",
       "      <th></th>\n",
       "      <th></th>\n",
       "      <th></th>\n",
       "      <th></th>\n",
       "      <th></th>\n",
       "    </tr>\n",
       "  </thead>\n",
       "  <tbody>\n",
       "    <tr>\n",
       "      <th rowspan=\"5\" valign=\"top\">121.0</th>\n",
       "      <th rowspan=\"5\" valign=\"top\">3.0</th>\n",
       "      <th rowspan=\"5\" valign=\"top\">1.0</th>\n",
       "      <th rowspan=\"5\" valign=\"top\">1.0</th>\n",
       "      <th rowspan=\"4\" valign=\"top\">0.0</th>\n",
       "      <th>S</th>\n",
       "      <td>7947054.0</td>\n",
       "      <td>7.947054e+06</td>\n",
       "      <td>7.947054e+06</td>\n",
       "      <td>7.947054e+06</td>\n",
       "      <td>7.947054e+06</td>\n",
       "      <td>7.947054e+06</td>\n",
       "      <td>7.947054e+06</td>\n",
       "      <td>7.947054e+06</td>\n",
       "      <td>7.947054e+06</td>\n",
       "      <td>7.947054e+06</td>\n",
       "      <td>...</td>\n",
       "      <td>7.941655e+06</td>\n",
       "      <td>7.941655e+06</td>\n",
       "      <td>7.941655e+06</td>\n",
       "      <td>7.941655e+06</td>\n",
       "      <td>7.941655e+06</td>\n",
       "      <td>7.941655e+06</td>\n",
       "      <td>7.941655e+06</td>\n",
       "      <td>7.941655e+06</td>\n",
       "      <td>7.941655e+06</td>\n",
       "      <td>7.941655e+06</td>\n",
       "    </tr>\n",
       "    <tr>\n",
       "      <th>I</th>\n",
       "      <td>1.0</td>\n",
       "      <td>1.006942e+00</td>\n",
       "      <td>1.013933e+00</td>\n",
       "      <td>1.020971e+00</td>\n",
       "      <td>1.028059e+00</td>\n",
       "      <td>1.035196e+00</td>\n",
       "      <td>1.042382e+00</td>\n",
       "      <td>1.049618e+00</td>\n",
       "      <td>1.056904e+00</td>\n",
       "      <td>1.064241e+00</td>\n",
       "      <td>...</td>\n",
       "      <td>5.019675e-01</td>\n",
       "      <td>5.019675e-01</td>\n",
       "      <td>5.019675e-01</td>\n",
       "      <td>5.019675e-01</td>\n",
       "      <td>5.019675e-01</td>\n",
       "      <td>5.019675e-01</td>\n",
       "      <td>5.019675e-01</td>\n",
       "      <td>5.019675e-01</td>\n",
       "      <td>5.019675e-01</td>\n",
       "      <td>5.019675e-01</td>\n",
       "    </tr>\n",
       "    <tr>\n",
       "      <th>R</th>\n",
       "      <td>0.0</td>\n",
       "      <td>1.388889e-02</td>\n",
       "      <td>2.787420e-02</td>\n",
       "      <td>4.195659e-02</td>\n",
       "      <td>5.613675e-02</td>\n",
       "      <td>7.041535e-02</td>\n",
       "      <td>8.479307e-02</td>\n",
       "      <td>9.927060e-02</td>\n",
       "      <td>1.138486e-01</td>\n",
       "      <td>1.285279e-01</td>\n",
       "      <td>...</td>\n",
       "      <td>5.399144e+03</td>\n",
       "      <td>5.399144e+03</td>\n",
       "      <td>5.399144e+03</td>\n",
       "      <td>5.399144e+03</td>\n",
       "      <td>5.399144e+03</td>\n",
       "      <td>5.399144e+03</td>\n",
       "      <td>5.399144e+03</td>\n",
       "      <td>5.399144e+03</td>\n",
       "      <td>5.399144e+03</td>\n",
       "      <td>5.399144e+03</td>\n",
       "    </tr>\n",
       "    <tr>\n",
       "      <th>N</th>\n",
       "      <td>7947055.0</td>\n",
       "      <td>7.947055e+06</td>\n",
       "      <td>7.947055e+06</td>\n",
       "      <td>7.947055e+06</td>\n",
       "      <td>7.947055e+06</td>\n",
       "      <td>7.947055e+06</td>\n",
       "      <td>7.947055e+06</td>\n",
       "      <td>7.947055e+06</td>\n",
       "      <td>7.947055e+06</td>\n",
       "      <td>7.947055e+06</td>\n",
       "      <td>...</td>\n",
       "      <td>7.947055e+06</td>\n",
       "      <td>7.947055e+06</td>\n",
       "      <td>7.947055e+06</td>\n",
       "      <td>7.947055e+06</td>\n",
       "      <td>7.947055e+06</td>\n",
       "      <td>7.947055e+06</td>\n",
       "      <td>7.947055e+06</td>\n",
       "      <td>7.947055e+06</td>\n",
       "      <td>7.947055e+06</td>\n",
       "      <td>7.947055e+06</td>\n",
       "    </tr>\n",
       "    <tr>\n",
       "      <th>24.0</th>\n",
       "      <th>S</th>\n",
       "      <td>7947054.0</td>\n",
       "      <td>7.947054e+06</td>\n",
       "      <td>7.947054e+06</td>\n",
       "      <td>7.947054e+06</td>\n",
       "      <td>7.947054e+06</td>\n",
       "      <td>7.947054e+06</td>\n",
       "      <td>7.947054e+06</td>\n",
       "      <td>7.947054e+06</td>\n",
       "      <td>7.947054e+06</td>\n",
       "      <td>7.947054e+06</td>\n",
       "      <td>...</td>\n",
       "      <td>3.373660e+06</td>\n",
       "      <td>3.373660e+06</td>\n",
       "      <td>3.373660e+06</td>\n",
       "      <td>3.373660e+06</td>\n",
       "      <td>3.373660e+06</td>\n",
       "      <td>3.373660e+06</td>\n",
       "      <td>3.373660e+06</td>\n",
       "      <td>3.373660e+06</td>\n",
       "      <td>3.373660e+06</td>\n",
       "      <td>3.373660e+06</td>\n",
       "    </tr>\n",
       "  </tbody>\n",
       "</table>\n",
       "<p>5 rows × 5421 columns</p>\n",
       "</div>"
      ],
      "text/plain": [
       "                                                                             0     \\\n",
       "Init_station Init_time Tick_length Init_count Travel_period Count_type              \n",
       "121.0        3.0       1.0         1.0        0.0           S           7947054.0   \n",
       "                                                            I                 1.0   \n",
       "                                                            R                 0.0   \n",
       "                                                            N           7947055.0   \n",
       "                                              24.0          S           7947054.0   \n",
       "\n",
       "                                                                                1     \\\n",
       "Init_station Init_time Tick_length Init_count Travel_period Count_type                 \n",
       "121.0        3.0       1.0         1.0        0.0           S           7.947054e+06   \n",
       "                                                            I           1.006942e+00   \n",
       "                                                            R           1.388889e-02   \n",
       "                                                            N           7.947055e+06   \n",
       "                                              24.0          S           7.947054e+06   \n",
       "\n",
       "                                                                                2     \\\n",
       "Init_station Init_time Tick_length Init_count Travel_period Count_type                 \n",
       "121.0        3.0       1.0         1.0        0.0           S           7.947054e+06   \n",
       "                                                            I           1.013933e+00   \n",
       "                                                            R           2.787420e-02   \n",
       "                                                            N           7.947055e+06   \n",
       "                                              24.0          S           7.947054e+06   \n",
       "\n",
       "                                                                                3     \\\n",
       "Init_station Init_time Tick_length Init_count Travel_period Count_type                 \n",
       "121.0        3.0       1.0         1.0        0.0           S           7.947054e+06   \n",
       "                                                            I           1.020971e+00   \n",
       "                                                            R           4.195659e-02   \n",
       "                                                            N           7.947055e+06   \n",
       "                                              24.0          S           7.947054e+06   \n",
       "\n",
       "                                                                                4     \\\n",
       "Init_station Init_time Tick_length Init_count Travel_period Count_type                 \n",
       "121.0        3.0       1.0         1.0        0.0           S           7.947054e+06   \n",
       "                                                            I           1.028059e+00   \n",
       "                                                            R           5.613675e-02   \n",
       "                                                            N           7.947055e+06   \n",
       "                                              24.0          S           7.947054e+06   \n",
       "\n",
       "                                                                                5     \\\n",
       "Init_station Init_time Tick_length Init_count Travel_period Count_type                 \n",
       "121.0        3.0       1.0         1.0        0.0           S           7.947054e+06   \n",
       "                                                            I           1.035196e+00   \n",
       "                                                            R           7.041535e-02   \n",
       "                                                            N           7.947055e+06   \n",
       "                                              24.0          S           7.947054e+06   \n",
       "\n",
       "                                                                                6     \\\n",
       "Init_station Init_time Tick_length Init_count Travel_period Count_type                 \n",
       "121.0        3.0       1.0         1.0        0.0           S           7.947054e+06   \n",
       "                                                            I           1.042382e+00   \n",
       "                                                            R           8.479307e-02   \n",
       "                                                            N           7.947055e+06   \n",
       "                                              24.0          S           7.947054e+06   \n",
       "\n",
       "                                                                                7     \\\n",
       "Init_station Init_time Tick_length Init_count Travel_period Count_type                 \n",
       "121.0        3.0       1.0         1.0        0.0           S           7.947054e+06   \n",
       "                                                            I           1.049618e+00   \n",
       "                                                            R           9.927060e-02   \n",
       "                                                            N           7.947055e+06   \n",
       "                                              24.0          S           7.947054e+06   \n",
       "\n",
       "                                                                                8     \\\n",
       "Init_station Init_time Tick_length Init_count Travel_period Count_type                 \n",
       "121.0        3.0       1.0         1.0        0.0           S           7.947054e+06   \n",
       "                                                            I           1.056904e+00   \n",
       "                                                            R           1.138486e-01   \n",
       "                                                            N           7.947055e+06   \n",
       "                                              24.0          S           7.947054e+06   \n",
       "\n",
       "                                                                                9     \\\n",
       "Init_station Init_time Tick_length Init_count Travel_period Count_type                 \n",
       "121.0        3.0       1.0         1.0        0.0           S           7.947054e+06   \n",
       "                                                            I           1.064241e+00   \n",
       "                                                            R           1.285279e-01   \n",
       "                                                            N           7.947055e+06   \n",
       "                                              24.0          S           7.947054e+06   \n",
       "\n",
       "                                                                            ...       \\\n",
       "Init_station Init_time Tick_length Init_count Travel_period Count_type      ...        \n",
       "121.0        3.0       1.0         1.0        0.0           S               ...        \n",
       "                                                            I               ...        \n",
       "                                                            R               ...        \n",
       "                                                            N               ...        \n",
       "                                              24.0          S               ...        \n",
       "\n",
       "                                                                                5411  \\\n",
       "Init_station Init_time Tick_length Init_count Travel_period Count_type                 \n",
       "121.0        3.0       1.0         1.0        0.0           S           7.941655e+06   \n",
       "                                                            I           5.019675e-01   \n",
       "                                                            R           5.399144e+03   \n",
       "                                                            N           7.947055e+06   \n",
       "                                              24.0          S           3.373660e+06   \n",
       "\n",
       "                                                                                5412  \\\n",
       "Init_station Init_time Tick_length Init_count Travel_period Count_type                 \n",
       "121.0        3.0       1.0         1.0        0.0           S           7.941655e+06   \n",
       "                                                            I           5.019675e-01   \n",
       "                                                            R           5.399144e+03   \n",
       "                                                            N           7.947055e+06   \n",
       "                                              24.0          S           3.373660e+06   \n",
       "\n",
       "                                                                                5413  \\\n",
       "Init_station Init_time Tick_length Init_count Travel_period Count_type                 \n",
       "121.0        3.0       1.0         1.0        0.0           S           7.941655e+06   \n",
       "                                                            I           5.019675e-01   \n",
       "                                                            R           5.399144e+03   \n",
       "                                                            N           7.947055e+06   \n",
       "                                              24.0          S           3.373660e+06   \n",
       "\n",
       "                                                                                5414  \\\n",
       "Init_station Init_time Tick_length Init_count Travel_period Count_type                 \n",
       "121.0        3.0       1.0         1.0        0.0           S           7.941655e+06   \n",
       "                                                            I           5.019675e-01   \n",
       "                                                            R           5.399144e+03   \n",
       "                                                            N           7.947055e+06   \n",
       "                                              24.0          S           3.373660e+06   \n",
       "\n",
       "                                                                                5415  \\\n",
       "Init_station Init_time Tick_length Init_count Travel_period Count_type                 \n",
       "121.0        3.0       1.0         1.0        0.0           S           7.941655e+06   \n",
       "                                                            I           5.019675e-01   \n",
       "                                                            R           5.399144e+03   \n",
       "                                                            N           7.947055e+06   \n",
       "                                              24.0          S           3.373660e+06   \n",
       "\n",
       "                                                                                5416  \\\n",
       "Init_station Init_time Tick_length Init_count Travel_period Count_type                 \n",
       "121.0        3.0       1.0         1.0        0.0           S           7.941655e+06   \n",
       "                                                            I           5.019675e-01   \n",
       "                                                            R           5.399144e+03   \n",
       "                                                            N           7.947055e+06   \n",
       "                                              24.0          S           3.373660e+06   \n",
       "\n",
       "                                                                                5417  \\\n",
       "Init_station Init_time Tick_length Init_count Travel_period Count_type                 \n",
       "121.0        3.0       1.0         1.0        0.0           S           7.941655e+06   \n",
       "                                                            I           5.019675e-01   \n",
       "                                                            R           5.399144e+03   \n",
       "                                                            N           7.947055e+06   \n",
       "                                              24.0          S           3.373660e+06   \n",
       "\n",
       "                                                                                5418  \\\n",
       "Init_station Init_time Tick_length Init_count Travel_period Count_type                 \n",
       "121.0        3.0       1.0         1.0        0.0           S           7.941655e+06   \n",
       "                                                            I           5.019675e-01   \n",
       "                                                            R           5.399144e+03   \n",
       "                                                            N           7.947055e+06   \n",
       "                                              24.0          S           3.373660e+06   \n",
       "\n",
       "                                                                                5419  \\\n",
       "Init_station Init_time Tick_length Init_count Travel_period Count_type                 \n",
       "121.0        3.0       1.0         1.0        0.0           S           7.941655e+06   \n",
       "                                                            I           5.019675e-01   \n",
       "                                                            R           5.399144e+03   \n",
       "                                                            N           7.947055e+06   \n",
       "                                              24.0          S           3.373660e+06   \n",
       "\n",
       "                                                                                5420  \n",
       "Init_station Init_time Tick_length Init_count Travel_period Count_type                \n",
       "121.0        3.0       1.0         1.0        0.0           S           7.941655e+06  \n",
       "                                                            I           5.019675e-01  \n",
       "                                                            R           5.399144e+03  \n",
       "                                                            N           7.947055e+06  \n",
       "                                              24.0          S           3.373660e+06  \n",
       "\n",
       "[5 rows x 5421 columns]"
      ]
     },
     "execution_count": 50,
     "metadata": {},
     "output_type": "execute_result"
    }
   ],
   "source": [
    "RESULT_HEADER = ['Init_station','Init_time', 'Tick_length','Init_count',\n",
    "                 'Travel_period','Count_type']\n",
    "# INDEX = ['Init_station','Init_time','Init_count','Count_type']\n",
    "results = pd.DataFrame(np.load('travel_periods.npy'))\n",
    "timesteps = len(results.columns) - len(RESULT_HEADER)\n",
    "results.columns = RESULT_HEADER + list(range(timesteps))\n",
    "# results.drop(columns=['Travel_period', 'Tick_length'], inplace=True)\n",
    "results.replace({'Count_type': {0.0: 'S', 1.0: 'I', 2.0: 'R', 3.0: 'N'}}, inplace=True)\n",
    "results.set_index(RESULT_HEADER, inplace=True)\n",
    "results.head()"
   ]
  },
  {
   "cell_type": "code",
   "execution_count": 37,
   "metadata": {},
   "outputs": [],
   "source": [
    "I_cols = results.xs('I', level='Count_type').T\n",
    "R_cols = results.xs('R', level='Count_type').T"
   ]
  },
  {
   "cell_type": "code",
   "execution_count": 49,
   "metadata": {},
   "outputs": [],
   "source": [
    "I_cols = results.xs(('I', 121),\n",
    "                    level=('Count_type', 'Init_station')).T"
   ]
  },
  {
   "cell_type": "code",
   "execution_count": 45,
   "metadata": {},
   "outputs": [
    {
     "data": {
      "text/html": [
       "<div>\n",
       "<style scoped>\n",
       "    .dataframe tbody tr th:only-of-type {\n",
       "        vertical-align: middle;\n",
       "    }\n",
       "\n",
       "    .dataframe tbody tr th {\n",
       "        vertical-align: top;\n",
       "    }\n",
       "\n",
       "    .dataframe thead tr th {\n",
       "        text-align: left;\n",
       "    }\n",
       "</style>\n",
       "<table border=\"1\" class=\"dataframe\">\n",
       "  <thead>\n",
       "    <tr>\n",
       "      <th>Init_time</th>\n",
       "      <th colspan=\"3\" halign=\"left\">3.0</th>\n",
       "    </tr>\n",
       "    <tr>\n",
       "      <th>Tick_length</th>\n",
       "      <th colspan=\"3\" halign=\"left\">1.0</th>\n",
       "    </tr>\n",
       "    <tr>\n",
       "      <th>Init_count</th>\n",
       "      <th colspan=\"3\" halign=\"left\">1.0</th>\n",
       "    </tr>\n",
       "    <tr>\n",
       "      <th>Travel_period</th>\n",
       "      <th>0.0</th>\n",
       "      <th>24.0</th>\n",
       "      <th>NaN</th>\n",
       "    </tr>\n",
       "  </thead>\n",
       "  <tbody>\n",
       "    <tr>\n",
       "      <th>1500</th>\n",
       "      <td>245.611008</td>\n",
       "      <td>30299.615629</td>\n",
       "      <td>30563.136170</td>\n",
       "    </tr>\n",
       "    <tr>\n",
       "      <th>1501</th>\n",
       "      <td>244.599359</td>\n",
       "      <td>30499.880803</td>\n",
       "      <td>30766.063617</td>\n",
       "    </tr>\n",
       "    <tr>\n",
       "      <th>1502</th>\n",
       "      <td>243.590555</td>\n",
       "      <td>30701.412649</td>\n",
       "      <td>30970.276531</td>\n",
       "    </tr>\n",
       "    <tr>\n",
       "      <th>1503</th>\n",
       "      <td>242.584602</td>\n",
       "      <td>30904.219118</td>\n",
       "      <td>31175.782187</td>\n",
       "    </tr>\n",
       "    <tr>\n",
       "      <th>1504</th>\n",
       "      <td>241.581506</td>\n",
       "      <td>31108.309477</td>\n",
       "      <td>31382.588103</td>\n",
       "    </tr>\n",
       "  </tbody>\n",
       "</table>\n",
       "</div>"
      ],
      "text/plain": [
       "Init_time             3.0                            \n",
       "Tick_length           1.0                            \n",
       "Init_count            1.0                            \n",
       "Travel_period        0.0           24.0           NaN\n",
       "1500           245.611008  30299.615629  30563.136170\n",
       "1501           244.599359  30499.880803  30766.063617\n",
       "1502           243.590555  30701.412649  30970.276531\n",
       "1503           242.584602  30904.219118  31175.782187\n",
       "1504           241.581506  31108.309477  31382.588103"
      ]
     },
     "execution_count": 45,
     "metadata": {},
     "output_type": "execute_result"
    }
   ],
   "source": [
    "I_cols[1500:].head()"
   ]
  },
  {
   "cell_type": "code",
   "execution_count": 46,
   "metadata": {},
   "outputs": [
    {
     "data": {
      "text/plain": [
       "Init_time  Tick_length  Init_count  Travel_period\n",
       "3.0        1.0          1.0         0.0                 585.225650\n",
       "                                    24.0             450557.113035\n",
       "                                    NaN              450119.357544\n",
       "dtype: float64"
      ]
     },
     "execution_count": 46,
     "metadata": {},
     "output_type": "execute_result"
    }
   ],
   "source": [
    "I_cols.max()"
   ]
  },
  {
   "cell_type": "code",
   "execution_count": 52,
   "metadata": {},
   "outputs": [
    {
     "data": {
      "text/plain": [
       "Init_station  Init_time  Tick_length  Init_count  Travel_period\n",
       "121.0         3.0        1.0          1.0         0.0                 585.225650\n",
       "                                                  24.0             450557.113035\n",
       "                                                  NaN              450119.357544\n",
       "375.0         3.0        1.0          1.0         0.0                 543.017011\n",
       "                                                  24.0             449601.862245\n",
       "                                                  NaN              448587.132320\n",
       "6.0           3.0        1.0          1.0         0.0                 724.679406\n",
       "                                                  24.0             455400.700089\n",
       "                                                  NaN              453499.073411\n",
       "341.0         3.0        1.0          1.0         0.0                1547.953130\n",
       "                                                  24.0             452101.196980\n",
       "                                                  NaN              453721.076615\n",
       "381.0         3.0        1.0          1.0         0.0                 543.017011\n",
       "                                                  24.0             454634.370258\n",
       "                                                  NaN              453443.015364\n",
       "332.0         3.0        1.0          1.0         0.0                3182.780339\n",
       "                                                  24.0             457511.007449\n",
       "                                                  NaN              462063.125421\n",
       "94.0          3.0        1.0          1.0         0.0                 802.024580\n",
       "                                                  24.0             452867.852337\n",
       "                                                  NaN              451176.183719\n",
       "166.0         3.0        1.0          1.0         0.0                1753.293305\n",
       "                                                  24.0             456053.096828\n",
       "                                                  NaN              454602.247687\n",
       "214.0         3.0        1.0          1.0         0.0                1117.589671\n",
       "                                                  24.0             455838.870524\n",
       "                                                  NaN              453918.482983\n",
       "257.0         3.0        1.0          1.0         0.0                1229.313113\n",
       "                                                  24.0             454529.109723\n",
       "                                                  NaN              452148.651920\n",
       "dtype: float64"
      ]
     },
     "execution_count": 52,
     "metadata": {},
     "output_type": "execute_result"
    }
   ],
   "source": [
    "results.xs(('I',), level=('Count_type',)).T.max()"
   ]
  },
  {
   "cell_type": "code",
   "execution_count": 42,
   "metadata": {},
   "outputs": [
    {
     "data": {
      "text/plain": [
       "<matplotlib.axes._subplots.AxesSubplot at 0x7f8e270c7e48>"
      ]
     },
     "execution_count": 42,
     "metadata": {},
     "output_type": "execute_result"
    },
    {
     "data": {
      "image/png": "[encoded data removed]",
      "text/plain": [
       "<Figure size 432x288 with 1 Axes>"
      ]
     },
     "metadata": {
      "needs_background": "light"
     },
     "output_type": "display_data"
    }
   ],
   "source": [
    "I_cols.drop(colplot()"
   ]
  },
  {
   "cell_type": "code",
   "execution_count": 7,
   "metadata": {},
   "outputs": [],
   "source": [
    "peaks = pd.concat([I_cols.idxmax(), I_cols.T.max(), R_cols.max()], axis=1)\n",
    "peaks.columns = ['Time', 'Value', 'Total']\n",
    "peaks['Time'] = peaks['Time'] / 24"
   ]
  },
  {
   "cell_type": "markdown",
   "metadata": {},
   "source": [
    "# Hypothesis: this is a pure SIR model"
   ]
  },
  {
   "cell_type": "markdown",
   "metadata": {},
   "source": [
    "## Calculate SIR\n",
    "Based on [SciPy book](https://scipython.com/book/chapter-8-scipy/additional-examples/the-sir-epidemic-model/)"
   ]
  },
  {
   "cell_type": "code",
   "execution_count": 8,
   "metadata": {},
   "outputs": [],
   "source": [
    "import numpy as np\n",
    "from scipy.integrate import odeint, solve_ivp "
   ]
  },
  {
   "cell_type": "code",
   "execution_count": 9,
   "metadata": {},
   "outputs": [
    {
     "data": {
      "text/plain": [
       "1"
      ]
     },
     "execution_count": 9,
     "metadata": {},
     "output_type": "execute_result"
    }
   ],
   "source": [
    "int(np.float64(1.5))"
   ]
  },
  {
   "cell_type": "code",
   "execution_count": 10,
   "metadata": {},
   "outputs": [],
   "source": [
    "# Total population\n",
    "N = results.xs((1, 'S'), level=('Tick_length', 'Count_type'))[0] + 1\n",
    "# Initial conditions\n",
    "I0, R0 = 1, 0\n",
    "S0 = N - I0 - R0\n",
    "from simulate import BETA, GAMMA\n",
    "# A grid of time points (in hours)\n",
    "max_time = len(I_cols[1])\n",
    "t = np.linspace(0, max_time, max_time)\n",
    "\n",
    "# The SIR model differential equations.\n",
    "def deriv(y, t, N, beta, gamma):\n",
    "    S, I, R = y\n",
    "    dSdt = -beta * S * I / N\n",
    "    dIdt = beta * S * I / N - gamma * I\n",
    "    dRdt = gamma * I\n",
    "    return dSdt, dIdt, dRdt\n",
    "\n",
    "# Initial conditions vector\n",
    "y0 = S0, I0, R0\n",
    "# Integrate the SIR equations over the time grid, t.\n",
    "ret = odeint(deriv, y0, t, args=(N, BETA, GAMMA))\n",
    "S, I, R = ret.T"
   ]
  },
  {
   "cell_type": "code",
   "execution_count": 11,
   "metadata": {},
   "outputs": [
    {
     "data": {
      "image/png": "[encoded data removed]",
      "text/plain": [
       "<Figure size 432x288 with 1 Axes>"
      ]
     },
     "metadata": {
      "needs_background": "light"
     },
     "output_type": "display_data"
    }
   ],
   "source": [
    "plt.plot(t, I)\n",
    "plt.show()"
   ]
  },
  {
   "cell_type": "code",
   "execution_count": 12,
   "metadata": {},
   "outputs": [],
   "source": [
    "for name, series in zip(('S', 'I', 'R'), (S, I, R)):\n",
    "    results = results.append(pd.Series(series, name=(-1, name)))"
   ]
  },
  {
   "cell_type": "code",
   "execution_count": 13,
   "metadata": {},
   "outputs": [
    {
     "data": {
      "text/plain": [
       "<matplotlib.axes._subplots.AxesSubplot at 0x7fd80397a2e8>"
      ]
     },
     "execution_count": 13,
     "metadata": {},
     "output_type": "execute_result"
    },
    {
     "data": {
      "image/png": "[encoded data removed]",
      "text/plain": [
       "<Figure size 432x288 with 1 Axes>"
      ]
     },
     "metadata": {
      "needs_background": "light"
     },
     "output_type": "display_data"
    }
   ],
   "source": [
    "results.xs('I', level='Count_type').T.plot()"
   ]
  }
 ],
 "metadata": {
  "kernelspec": {
   "display_name": "proj_data",
   "language": "python",
   "name": "proj_data"
  },
  "language_info": {
   "codemirror_mode": {
    "name": "ipython",
    "version": 3
   },
   "file_extension": ".py",
   "mimetype": "text/x-python",
   "name": "python",
   "nbconvert_exporter": "python",
   "pygments_lexer": "ipython3",
   "version": "3.4.3"
  }
 },
 "nbformat": 4,
 "nbformat_minor": 2
}
