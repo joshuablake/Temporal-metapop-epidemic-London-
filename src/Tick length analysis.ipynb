{
 "cells": [
  {
   "cell_type": "code",
   "execution_count": 1,
   "metadata": {},
   "outputs": [],
   "source": [
    "import pandas as pd\n",
    "from os import path\n",
    "import matplotlib.pyplot as plt\n",
    "%matplotlib inline\n",
    "DATA_DIR = path.join('..', 'data')"
   ]
  },
  {
   "cell_type": "code",
   "execution_count": 2,
   "metadata": {},
   "outputs": [],
   "source": [
    "results = pd.read_csv(path.join(DATA_DIR, 'results_ticks.csv'),\n",
    "                      names=['Tick_length','Count_type']+list(range(7000)))\n",
    "results.set_index(list(results.columns[:2]), inplace=True)"
   ]
  },
  {
   "cell_type": "code",
   "execution_count": 3,
   "metadata": {},
   "outputs": [
    {
     "data": {
      "text/html": [
       "<div>\n",
       "<style scoped>\n",
       "    .dataframe tbody tr th:only-of-type {\n",
       "        vertical-align: middle;\n",
       "    }\n",
       "\n",
       "    .dataframe tbody tr th {\n",
       "        vertical-align: top;\n",
       "    }\n",
       "\n",
       "    .dataframe thead th {\n",
       "        text-align: right;\n",
       "    }\n",
       "</style>\n",
       "<table border=\"1\" class=\"dataframe\">\n",
       "  <thead>\n",
       "    <tr style=\"text-align: right;\">\n",
       "      <th></th>\n",
       "      <th></th>\n",
       "      <th>0</th>\n",
       "      <th>1</th>\n",
       "      <th>2</th>\n",
       "      <th>3</th>\n",
       "      <th>4</th>\n",
       "      <th>5</th>\n",
       "      <th>6</th>\n",
       "      <th>7</th>\n",
       "      <th>8</th>\n",
       "      <th>9</th>\n",
       "      <th>...</th>\n",
       "      <th>6990</th>\n",
       "      <th>6991</th>\n",
       "      <th>6992</th>\n",
       "      <th>6993</th>\n",
       "      <th>6994</th>\n",
       "      <th>6995</th>\n",
       "      <th>6996</th>\n",
       "      <th>6997</th>\n",
       "      <th>6998</th>\n",
       "      <th>6999</th>\n",
       "    </tr>\n",
       "    <tr>\n",
       "      <th>Tick_length</th>\n",
       "      <th>Count_type</th>\n",
       "      <th></th>\n",
       "      <th></th>\n",
       "      <th></th>\n",
       "      <th></th>\n",
       "      <th></th>\n",
       "      <th></th>\n",
       "      <th></th>\n",
       "      <th></th>\n",
       "      <th></th>\n",
       "      <th></th>\n",
       "      <th></th>\n",
       "      <th></th>\n",
       "      <th></th>\n",
       "      <th></th>\n",
       "      <th></th>\n",
       "      <th></th>\n",
       "      <th></th>\n",
       "      <th></th>\n",
       "      <th></th>\n",
       "      <th></th>\n",
       "      <th></th>\n",
       "    </tr>\n",
       "  </thead>\n",
       "  <tbody>\n",
       "    <tr>\n",
       "      <th rowspan=\"3\" valign=\"top\">0</th>\n",
       "      <th>S</th>\n",
       "      <td>1.526206e+07</td>\n",
       "      <td>2.332669e+07</td>\n",
       "      <td>1.370947e+07</td>\n",
       "      <td>2.713313e+06</td>\n",
       "      <td>1.017553e+07</td>\n",
       "      <td>1.478347e+07</td>\n",
       "      <td>4.342852e+07</td>\n",
       "      <td>6.238789e+07</td>\n",
       "      <td>4.248648e+07</td>\n",
       "      <td>5.583958e+06</td>\n",
       "      <td>...</td>\n",
       "      <td>NaN</td>\n",
       "      <td>NaN</td>\n",
       "      <td>NaN</td>\n",
       "      <td>NaN</td>\n",
       "      <td>NaN</td>\n",
       "      <td>NaN</td>\n",
       "      <td>NaN</td>\n",
       "      <td>NaN</td>\n",
       "      <td>NaN</td>\n",
       "      <td>NaN</td>\n",
       "    </tr>\n",
       "    <tr>\n",
       "      <th>I</th>\n",
       "      <td>1.594136e+04</td>\n",
       "      <td>1.589169e+04</td>\n",
       "      <td>8.747918e+03</td>\n",
       "      <td>6.716291e+03</td>\n",
       "      <td>7.162418e+03</td>\n",
       "      <td>2.948738e+04</td>\n",
       "      <td>1.490585e+05</td>\n",
       "      <td>1.665383e+05</td>\n",
       "      <td>1.023003e+05</td>\n",
       "      <td>9.171767e+03</td>\n",
       "      <td>...</td>\n",
       "      <td>NaN</td>\n",
       "      <td>NaN</td>\n",
       "      <td>NaN</td>\n",
       "      <td>NaN</td>\n",
       "      <td>NaN</td>\n",
       "      <td>NaN</td>\n",
       "      <td>NaN</td>\n",
       "      <td>NaN</td>\n",
       "      <td>NaN</td>\n",
       "      <td>NaN</td>\n",
       "    </tr>\n",
       "    <tr>\n",
       "      <th>R</th>\n",
       "      <td>1.538938e+03</td>\n",
       "      <td>2.778338e+04</td>\n",
       "      <td>-1.606672e+04</td>\n",
       "      <td>-2.196050e+04</td>\n",
       "      <td>-1.259438e+05</td>\n",
       "      <td>9.531646e+03</td>\n",
       "      <td>1.103835e+05</td>\n",
       "      <td>2.184623e+05</td>\n",
       "      <td>-3.396706e+05</td>\n",
       "      <td>-1.848836e+04</td>\n",
       "      <td>...</td>\n",
       "      <td>NaN</td>\n",
       "      <td>NaN</td>\n",
       "      <td>NaN</td>\n",
       "      <td>NaN</td>\n",
       "      <td>NaN</td>\n",
       "      <td>NaN</td>\n",
       "      <td>NaN</td>\n",
       "      <td>NaN</td>\n",
       "      <td>NaN</td>\n",
       "      <td>NaN</td>\n",
       "    </tr>\n",
       "    <tr>\n",
       "      <th rowspan=\"2\" valign=\"top\">1</th>\n",
       "      <th>S</th>\n",
       "      <td>7.947054e+06</td>\n",
       "      <td>7.947054e+06</td>\n",
       "      <td>7.947054e+06</td>\n",
       "      <td>7.947054e+06</td>\n",
       "      <td>7.947054e+06</td>\n",
       "      <td>7.947054e+06</td>\n",
       "      <td>7.947054e+06</td>\n",
       "      <td>7.947054e+06</td>\n",
       "      <td>7.947054e+06</td>\n",
       "      <td>7.947054e+06</td>\n",
       "      <td>...</td>\n",
       "      <td>NaN</td>\n",
       "      <td>NaN</td>\n",
       "      <td>NaN</td>\n",
       "      <td>NaN</td>\n",
       "      <td>NaN</td>\n",
       "      <td>NaN</td>\n",
       "      <td>NaN</td>\n",
       "      <td>NaN</td>\n",
       "      <td>NaN</td>\n",
       "      <td>NaN</td>\n",
       "    </tr>\n",
       "    <tr>\n",
       "      <th>I</th>\n",
       "      <td>1.000000e+00</td>\n",
       "      <td>1.006944e+00</td>\n",
       "      <td>1.013935e+00</td>\n",
       "      <td>1.020976e+00</td>\n",
       "      <td>1.028065e+00</td>\n",
       "      <td>1.035203e+00</td>\n",
       "      <td>1.042391e+00</td>\n",
       "      <td>1.049629e+00</td>\n",
       "      <td>1.056917e+00</td>\n",
       "      <td>1.064255e+00</td>\n",
       "      <td>...</td>\n",
       "      <td>NaN</td>\n",
       "      <td>NaN</td>\n",
       "      <td>NaN</td>\n",
       "      <td>NaN</td>\n",
       "      <td>NaN</td>\n",
       "      <td>NaN</td>\n",
       "      <td>NaN</td>\n",
       "      <td>NaN</td>\n",
       "      <td>NaN</td>\n",
       "      <td>NaN</td>\n",
       "    </tr>\n",
       "  </tbody>\n",
       "</table>\n",
       "<p>5 rows × 7000 columns</p>\n",
       "</div>"
      ],
      "text/plain": [
       "                                0             1             2     \\\n",
       "Tick_length Count_type                                             \n",
       "0           S           1.526206e+07  2.332669e+07  1.370947e+07   \n",
       "            I           1.594136e+04  1.589169e+04  8.747918e+03   \n",
       "            R           1.538938e+03  2.778338e+04 -1.606672e+04   \n",
       "1           S           7.947054e+06  7.947054e+06  7.947054e+06   \n",
       "            I           1.000000e+00  1.006944e+00  1.013935e+00   \n",
       "\n",
       "                                3             4             5     \\\n",
       "Tick_length Count_type                                             \n",
       "0           S           2.713313e+06  1.017553e+07  1.478347e+07   \n",
       "            I           6.716291e+03  7.162418e+03  2.948738e+04   \n",
       "            R          -2.196050e+04 -1.259438e+05  9.531646e+03   \n",
       "1           S           7.947054e+06  7.947054e+06  7.947054e+06   \n",
       "            I           1.020976e+00  1.028065e+00  1.035203e+00   \n",
       "\n",
       "                                6             7             8     \\\n",
       "Tick_length Count_type                                             \n",
       "0           S           4.342852e+07  6.238789e+07  4.248648e+07   \n",
       "            I           1.490585e+05  1.665383e+05  1.023003e+05   \n",
       "            R           1.103835e+05  2.184623e+05 -3.396706e+05   \n",
       "1           S           7.947054e+06  7.947054e+06  7.947054e+06   \n",
       "            I           1.042391e+00  1.049629e+00  1.056917e+00   \n",
       "\n",
       "                                9     ...   6990  6991  6992  6993  6994  \\\n",
       "Tick_length Count_type                ...                                  \n",
       "0           S           5.583958e+06  ...    NaN   NaN   NaN   NaN   NaN   \n",
       "            I           9.171767e+03  ...    NaN   NaN   NaN   NaN   NaN   \n",
       "            R          -1.848836e+04  ...    NaN   NaN   NaN   NaN   NaN   \n",
       "1           S           7.947054e+06  ...    NaN   NaN   NaN   NaN   NaN   \n",
       "            I           1.064255e+00  ...    NaN   NaN   NaN   NaN   NaN   \n",
       "\n",
       "                        6995  6996  6997  6998  6999  \n",
       "Tick_length Count_type                                \n",
       "0           S            NaN   NaN   NaN   NaN   NaN  \n",
       "            I            NaN   NaN   NaN   NaN   NaN  \n",
       "            R            NaN   NaN   NaN   NaN   NaN  \n",
       "1           S            NaN   NaN   NaN   NaN   NaN  \n",
       "            I            NaN   NaN   NaN   NaN   NaN  \n",
       "\n",
       "[5 rows x 7000 columns]"
      ]
     },
     "execution_count": 3,
     "metadata": {},
     "output_type": "execute_result"
    }
   ],
   "source": [
    "results.head()"
   ]
  },
  {
   "cell_type": "code",
   "execution_count": 4,
   "metadata": {},
   "outputs": [],
   "source": [
    "results.drop(index=0, inplace=True)"
   ]
  },
  {
   "cell_type": "code",
   "execution_count": 5,
   "metadata": {},
   "outputs": [],
   "source": [
    "I_cols = results.xs('I', level='Count_type').T\n",
    "R_cols = results.xs('R', level='Count_type').T"
   ]
  },
  {
   "cell_type": "code",
   "execution_count": 6,
   "metadata": {},
   "outputs": [
    {
     "data": {
      "text/plain": [
       "<matplotlib.axes._subplots.AxesSubplot at 0x7fd81660eb70>"
      ]
     },
     "execution_count": 6,
     "metadata": {},
     "output_type": "execute_result"
    },
    {
     "data": {
      "image/png": "[encoded data removed]",
      "text/plain": [
       "<Figure size 432x288 with 1 Axes>"
      ]
     },
     "metadata": {
      "needs_background": "light"
     },
     "output_type": "display_data"
    }
   ],
   "source": [
    "I_cols.plot()"
   ]
  },
  {
   "cell_type": "code",
   "execution_count": 7,
   "metadata": {},
   "outputs": [],
   "source": [
    "peaks = pd.concat([I_cols.idxmax(), I_cols.T.max(), R_cols.max()], axis=1)\n",
    "peaks.columns = ['Time', 'Value', 'Total']\n",
    "peaks['Time'] = peaks['Time'] / 24"
   ]
  },
  {
   "cell_type": "markdown",
   "metadata": {},
   "source": [
    "# Hypothesis: this is a pure SIR model"
   ]
  },
  {
   "cell_type": "markdown",
   "metadata": {},
   "source": [
    "## Calculate SIR\n",
    "Based on [SciPy book](https://scipython.com/book/chapter-8-scipy/additional-examples/the-sir-epidemic-model/)"
   ]
  },
  {
   "cell_type": "code",
   "execution_count": 8,
   "metadata": {},
   "outputs": [],
   "source": [
    "import numpy as np\n",
    "from scipy.integrate import odeint, solve_ivp "
   ]
  },
  {
   "cell_type": "code",
   "execution_count": 9,
   "metadata": {},
   "outputs": [
    {
     "data": {
      "text/plain": [
       "1"
      ]
     },
     "execution_count": 9,
     "metadata": {},
     "output_type": "execute_result"
    }
   ],
   "source": [
    "int(np.float64(1.5))"
   ]
  },
  {
   "cell_type": "code",
   "execution_count": 10,
   "metadata": {},
   "outputs": [],
   "source": [
    "# Total population\n",
    "N = results.xs((1, 'S'), level=('Tick_length', 'Count_type'))[0] + 1\n",
    "# Initial conditions\n",
    "I0, R0 = 1, 0\n",
    "S0 = N - I0 - R0\n",
    "from simulate import BETA, GAMMA\n",
    "# A grid of time points (in hours)\n",
    "max_time = len(I_cols[1])\n",
    "t = np.linspace(0, max_time, max_time)\n",
    "\n",
    "# The SIR model differential equations.\n",
    "def deriv(y, t, N, beta, gamma):\n",
    "    S, I, R = y\n",
    "    dSdt = -beta * S * I / N\n",
    "    dIdt = beta * S * I / N - gamma * I\n",
    "    dRdt = gamma * I\n",
    "    return dSdt, dIdt, dRdt\n",
    "\n",
    "# Initial conditions vector\n",
    "y0 = S0, I0, R0\n",
    "# Integrate the SIR equations over the time grid, t.\n",
    "ret = odeint(deriv, y0, t, args=(N, BETA, GAMMA))\n",
    "S, I, R = ret.T"
   ]
  },
  {
   "cell_type": "code",
   "execution_count": 11,
   "metadata": {},
   "outputs": [
    {
     "data": {
      "image/png": "[encoded data removed]",
      "text/plain": [
       "<Figure size 432x288 with 1 Axes>"
      ]
     },
     "metadata": {
      "needs_background": "light"
     },
     "output_type": "display_data"
    }
   ],
   "source": [
    "plt.plot(t, I)\n",
    "plt.show()"
   ]
  },
  {
   "cell_type": "code",
   "execution_count": 12,
   "metadata": {},
   "outputs": [],
   "source": [
    "for name, series in zip(('S', 'I', 'R'), (S, I, R)):\n",
    "    results = results.append(pd.Series(series, name=(-1, name)))"
   ]
  },
  {
   "cell_type": "code",
   "execution_count": 13,
   "metadata": {},
   "outputs": [
    {
     "data": {
      "text/plain": [
       "<matplotlib.axes._subplots.AxesSubplot at 0x7fd80397a2e8>"
      ]
     },
     "execution_count": 13,
     "metadata": {},
     "output_type": "execute_result"
    },
    {
     "data": {
      "image/png": "[encoded data removed]",
      "text/plain": [
       "<Figure size 432x288 with 1 Axes>"
      ]
     },
     "metadata": {
      "needs_background": "light"
     },
     "output_type": "display_data"
    }
   ],
   "source": [
    "results.xs('I', level='Count_type').T.plot()"
   ]
  },
  {
   "cell_type": "code",
   "execution_count": 14,
   "metadata": {},
   "outputs": [
    {
     "data": {
      "text/plain": [
       "\u001b[0;31mCall signature:\u001b[0m  \u001b[0mnp\u001b[0m\u001b[0;34m.\u001b[0m\u001b[0mlogical_or\u001b[0m\u001b[0;34m(\u001b[0m\u001b[0;34m*\u001b[0m\u001b[0margs\u001b[0m\u001b[0;34m,\u001b[0m \u001b[0;34m**\u001b[0m\u001b[0mkwargs\u001b[0m\u001b[0;34m)\u001b[0m\u001b[0;34m\u001b[0m\u001b[0m\n",
       "\u001b[0;31mType:\u001b[0m            ufunc\n",
       "\u001b[0;31mString form:\u001b[0m     <ufunc 'logical_or'>\n",
       "\u001b[0;31mFile:\u001b[0m            /mnt/c/Users/Josh/Google Drive_old/Uni/Part III/project/data/env/lib/python3.4/site-packages/numpy/__init__.py\n",
       "\u001b[0;31mDocstring:\u001b[0m      \n",
       "logical_or(x1, x2, /, out=None, *, where=True, casting='same_kind', order='K', dtype=None, subok=True[, signature, extobj])\n",
       "\n",
       "Compute the truth value of x1 OR x2 element-wise.\n",
       "\n",
       "Parameters\n",
       "----------\n",
       "x1, x2 : array_like\n",
       "    Logical OR is applied to the elements of `x1` and `x2`.\n",
       "    They have to be of the same shape.\n",
       "out : ndarray, None, or tuple of ndarray and None, optional\n",
       "    A location into which the result is stored. If provided, it must have\n",
       "    a shape that the inputs broadcast to. If not provided or `None`,\n",
       "    a freshly-allocated array is returned. A tuple (possible only as a\n",
       "    keyword argument) must have length equal to the number of outputs.\n",
       "where : array_like, optional\n",
       "    Values of True indicate to calculate the ufunc at that position, values\n",
       "    of False indicate to leave the value in the output alone.\n",
       "**kwargs\n",
       "    For other keyword-only arguments, see the\n",
       "    :ref:`ufunc docs <ufuncs.kwargs>`.\n",
       "\n",
       "Returns\n",
       "-------\n",
       "y : ndarray or bool\n",
       "    Boolean result with the same shape as `x1` and `x2` of the logical\n",
       "    OR operation on elements of `x1` and `x2`.\n",
       "    This is a scalar if both `x1` and `x2` are scalars.\n",
       "\n",
       "See Also\n",
       "--------\n",
       "logical_and, logical_not, logical_xor\n",
       "bitwise_or\n",
       "\n",
       "Examples\n",
       "--------\n",
       ">>> np.logical_or(True, False)\n",
       "True\n",
       ">>> np.logical_or([True, False], [False, False])\n",
       "array([ True, False])\n",
       "\n",
       ">>> x = np.arange(5)\n",
       ">>> np.logical_or(x < 1, x > 3)\n",
       "array([ True, False, False, False,  True])\n",
       "\u001b[0;31mClass docstring:\u001b[0m\n",
       "Functions that operate element by element on whole arrays.\n",
       "\n",
       "To see the documentation for a specific ufunc, use `info`.  For\n",
       "example, ``np.info(np.sin)``.  Because ufuncs are written in C\n",
       "(for speed) and linked into Python with NumPy's ufunc facility,\n",
       "Python's help() function finds this page whenever help() is called\n",
       "on a ufunc.\n",
       "\n",
       "A detailed explanation of ufuncs can be found in the docs for :ref:`ufuncs`.\n",
       "\n",
       "Calling ufuncs:\n",
       "===============\n",
       "\n",
       "op(*x[, out], where=True, **kwargs)\n",
       "Apply `op` to the arguments `*x` elementwise, broadcasting the arguments.\n",
       "\n",
       "The broadcasting rules are:\n",
       "\n",
       "* Dimensions of length 1 may be prepended to either array.\n",
       "* Arrays may be repeated along dimensions of length 1.\n",
       "\n",
       "Parameters\n",
       "----------\n",
       "*x : array_like\n",
       "    Input arrays.\n",
       "out : ndarray, None, or tuple of ndarray and None, optional\n",
       "    Alternate array object(s) in which to put the result; if provided, it\n",
       "    must have a shape that the inputs broadcast to. A tuple of arrays\n",
       "    (possible only as a keyword argument) must have length equal to the\n",
       "    number of outputs; use `None` for uninitialized outputs to be\n",
       "    allocated by the ufunc.\n",
       "where : array_like, optional\n",
       "    Values of True indicate to calculate the ufunc at that position, values\n",
       "    of False indicate to leave the value in the output alone.  Note that if\n",
       "    an uninitialized return array is created via the default ``out=None``,\n",
       "    then the elements where the values are False will remain uninitialized.\n",
       "**kwargs\n",
       "    For other keyword-only arguments, see the :ref:`ufunc docs <ufuncs.kwargs>`.\n",
       "\n",
       "Returns\n",
       "-------\n",
       "r : ndarray or tuple of ndarray\n",
       "    `r` will have the shape that the arrays in `x` broadcast to; if `out` is\n",
       "    provided, it will be returned. If not, `r` will be allocated and\n",
       "    may contain uninitialized values. If the function has more than one\n",
       "    output, then the result will be a tuple of arrays.\n"
      ]
     },
     "metadata": {},
     "output_type": "display_data"
    }
   ],
   "source": [
    "np.logical_or?"
   ]
  }
 ],
 "metadata": {
  "kernelspec": {
   "display_name": "proj_data",
   "language": "python",
   "name": "proj_data"
  },
  "language_info": {
   "codemirror_mode": {
    "name": "ipython",
    "version": 3
   },
   "file_extension": ".py",
   "mimetype": "text/x-python",
   "name": "python",
   "nbconvert_exporter": "python",
   "pygments_lexer": "ipython3",
   "version": "3.4.3"
  }
 },
 "nbformat": 4,
 "nbformat_minor": 2
}
