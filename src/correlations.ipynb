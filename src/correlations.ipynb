{
 "cells": [
  {
   "cell_type": "code",
   "execution_count": 1,
   "metadata": {},
   "outputs": [],
   "source": [
    "import pandas as pd\n",
    "import matplotlib\n",
    "import seaborn as sns\n",
    "import matplotlib.pyplot as plt\n",
    "import figs\n",
    "figs.set_rc()"
   ]
  },
  {
   "cell_type": "code",
   "execution_count": 2,
   "metadata": {},
   "outputs": [],
   "source": [
    "plt.rcParams['savefig.dpi'] = 300\n",
    "plt.rcParams['pgf.rcfonts'] = False\n",
    "plt.rcParams['pgf.texsystem'] = 'pdflatex'"
   ]
  },
  {
   "cell_type": "code",
   "execution_count": 3,
   "metadata": {},
   "outputs": [],
   "source": [
    "def make_subplots(rows, cols):\n",
    "    fig = plt.gcf()\n",
    "    subplots = (fig.add_subplot(rows, cols, i) for i in range(1, rows*cols+1))\n",
    "    return tuple(subplots)"
   ]
  },
  {
   "cell_type": "code",
   "execution_count": 4,
   "metadata": {},
   "outputs": [
    {
     "data": {
      "text/html": [
       "<div>\n",
       "<style scoped>\n",
       "    .dataframe tbody tr th:only-of-type {\n",
       "        vertical-align: middle;\n",
       "    }\n",
       "\n",
       "    .dataframe tbody tr th {\n",
       "        vertical-align: top;\n",
       "    }\n",
       "\n",
       "    .dataframe thead th {\n",
       "        text-align: right;\n",
       "    }\n",
       "</style>\n",
       "<table border=\"1\" class=\"dataframe\">\n",
       "  <thead>\n",
       "    <tr style=\"text-align: right;\">\n",
       "      <th></th>\n",
       "      <th>Init_station</th>\n",
       "      <th>Init_time</th>\n",
       "      <th>Time</th>\n",
       "      <th>Value</th>\n",
       "      <th>Total</th>\n",
       "    </tr>\n",
       "  </thead>\n",
       "  <tbody>\n",
       "    <tr>\n",
       "      <th>0</th>\n",
       "      <td>0.0</td>\n",
       "      <td>3.0</td>\n",
       "      <td>88.500000</td>\n",
       "      <td>451889.241483</td>\n",
       "      <td>4.591581e+06</td>\n",
       "    </tr>\n",
       "    <tr>\n",
       "      <th>1</th>\n",
       "      <td>0.0</td>\n",
       "      <td>99.0</td>\n",
       "      <td>88.500000</td>\n",
       "      <td>451451.569448</td>\n",
       "      <td>4.591371e+06</td>\n",
       "    </tr>\n",
       "    <tr>\n",
       "      <th>2</th>\n",
       "      <td>0.0</td>\n",
       "      <td>123.0</td>\n",
       "      <td>88.500000</td>\n",
       "      <td>451509.188653</td>\n",
       "      <td>4.591391e+06</td>\n",
       "    </tr>\n",
       "    <tr>\n",
       "      <th>3</th>\n",
       "      <td>1.0</td>\n",
       "      <td>3.0</td>\n",
       "      <td>95.541667</td>\n",
       "      <td>447837.229968</td>\n",
       "      <td>4.588649e+06</td>\n",
       "    </tr>\n",
       "    <tr>\n",
       "      <th>4</th>\n",
       "      <td>1.0</td>\n",
       "      <td>99.0</td>\n",
       "      <td>95.583333</td>\n",
       "      <td>447733.660271</td>\n",
       "      <td>4.588568e+06</td>\n",
       "    </tr>\n",
       "  </tbody>\n",
       "</table>\n",
       "</div>"
      ],
      "text/plain": [
       "   Init_station  Init_time       Time          Value         Total\n",
       "0           0.0        3.0  88.500000  451889.241483  4.591581e+06\n",
       "1           0.0       99.0  88.500000  451451.569448  4.591371e+06\n",
       "2           0.0      123.0  88.500000  451509.188653  4.591391e+06\n",
       "3           1.0        3.0  95.541667  447837.229968  4.588649e+06\n",
       "4           1.0       99.0  95.583333  447733.660271  4.588568e+06"
      ]
     },
     "execution_count": 4,
     "metadata": {},
     "output_type": "execute_result"
    }
   ],
   "source": [
    "peaks = pd.read_csv('peaks.csv')\n",
    "peaks.head()"
   ]
  },
  {
   "cell_type": "code",
   "execution_count": 5,
   "metadata": {},
   "outputs": [
    {
     "data": {
      "text/html": [
       "<div>\n",
       "<style scoped>\n",
       "    .dataframe tbody tr th:only-of-type {\n",
       "        vertical-align: middle;\n",
       "    }\n",
       "\n",
       "    .dataframe tbody tr th {\n",
       "        vertical-align: top;\n",
       "    }\n",
       "\n",
       "    .dataframe thead th {\n",
       "        text-align: right;\n",
       "    }\n",
       "</style>\n",
       "<table border=\"1\" class=\"dataframe\">\n",
       "  <thead>\n",
       "    <tr style=\"text-align: right;\">\n",
       "      <th></th>\n",
       "      <th>Station</th>\n",
       "      <th>Local authority</th>\n",
       "      <th>connectivity</th>\n",
       "    </tr>\n",
       "  </thead>\n",
       "  <tbody>\n",
       "    <tr>\n",
       "      <th>0</th>\n",
       "      <td>Acton Central</td>\n",
       "      <td>Ealing</td>\n",
       "      <td>1.001414</td>\n",
       "    </tr>\n",
       "    <tr>\n",
       "      <th>1</th>\n",
       "      <td>Acton Main Line</td>\n",
       "      <td>Ealing</td>\n",
       "      <td>1.000086</td>\n",
       "    </tr>\n",
       "    <tr>\n",
       "      <th>2</th>\n",
       "      <td>Acton Town</td>\n",
       "      <td>Ealing</td>\n",
       "      <td>1.012185</td>\n",
       "    </tr>\n",
       "    <tr>\n",
       "      <th>3</th>\n",
       "      <td>Aldgate</td>\n",
       "      <td>City of London</td>\n",
       "      <td>1.118743</td>\n",
       "    </tr>\n",
       "    <tr>\n",
       "      <th>4</th>\n",
       "      <td>Aldgate East</td>\n",
       "      <td>Tower Hamlets</td>\n",
       "      <td>1.026994</td>\n",
       "    </tr>\n",
       "  </tbody>\n",
       "</table>\n",
       "</div>"
      ],
      "text/plain": [
       "           Station Local authority  connectivity\n",
       "0    Acton Central          Ealing      1.001414\n",
       "1  Acton Main Line          Ealing      1.000086\n",
       "2       Acton Town          Ealing      1.012185\n",
       "3          Aldgate  City of London      1.118743\n",
       "4     Aldgate East   Tower Hamlets      1.026994"
      ]
     },
     "execution_count": 5,
     "metadata": {},
     "output_type": "execute_result"
    }
   ],
   "source": [
    "connectivity = pd.read_csv('connectivity.csv').sort_values('Station').reset_index().drop(columns='index')\n",
    "connectivity.head()"
   ]
  },
  {
   "cell_type": "code",
   "execution_count": 6,
   "metadata": {},
   "outputs": [],
   "source": [
    "from simulate import get_pop_data\n",
    "pop_data = get_pop_data()[0]"
   ]
  },
  {
   "cell_type": "code",
   "execution_count": 7,
   "metadata": {},
   "outputs": [],
   "source": [
    "data = peaks.merge(connectivity, how='left', left_on='Init_station',\n",
    "                   right_index=True).merge(pop_data, how='left')\n",
    "data_no_outliers = data[data['Station'] != 'New Cross']"
   ]
  },
  {
   "cell_type": "code",
   "execution_count": 8,
   "metadata": {},
   "outputs": [
    {
     "name": "stderr",
     "output_type": "stream",
     "text": [
      "/mnt/c/Users/Josh/Google Drive_old/Uni/Part III/project/data/env/lib/python3.4/site-packages/matplotlib/figure.py:2299: UserWarning: This figure includes Axes that are not compatible with tight_layout, so results might be incorrect.\n",
      "  warnings.warn(\"This figure includes Axes that are not compatible \"\n"
     ]
    },
    {
     "data": {
      "image/png": "[encoded data removed]",
      "text/plain": [
       "<Figure size 374.4x187.2 with 1 Axes>"
      ]
     },
     "metadata": {
      "needs_background": "light"
     },
     "output_type": "display_data"
    }
   ],
   "source": [
    "figs.set_size(5.2, 0.5)\n",
    "ax = data['connectivity'].plot.hist(bins=20, log=True)\n",
    "plt.xlabel('Connectivity')\n",
    "ax.set_yscale('log', nonposy='clip')\n",
    "plt.gcf().get_size_inches()\n",
    "plt.savefig('../../figs/Fig8.tif')"
   ]
  },
  {
   "cell_type": "code",
   "execution_count": 13,
   "metadata": {},
   "outputs": [
    {
     "name": "stderr",
     "output_type": "stream",
     "text": [
      "/mnt/c/Users/Josh/Google Drive_old/Uni/Part III/project/data/env/lib/python3.4/site-packages/matplotlib/figure.py:2299: UserWarning: This figure includes Axes that are not compatible with tight_layout, so results might be incorrect.\n",
      "  warnings.warn(\"This figure includes Axes that are not compatible \"\n"
     ]
    },
    {
     "data": {
      "image/png": "[encoded data removed]",
      "text/plain": [
       "<Figure size 540x432 with 4 Axes>"
      ]
     },
     "metadata": {
      "needs_background": "light"
     },
     "output_type": "display_data"
    }
   ],
   "source": [
    "figs.set_size(7.5, .8)\n",
    "fig = plt.gcf()\n",
    "\n",
    "ax1 = fig.add_subplot(221)\n",
    "sns.scatterplot(data=data_no_outliers,\n",
    "                x='connectivity', y='Time', ax=ax1,\n",
    "               rasterized=True)\n",
    "ax1.set_ylabel('Time-to-peak')\n",
    "ax1.set_title('(A)')\n",
    "# ax1.axhline(88.25)\n",
    "\n",
    "ax2 = fig.add_subplot(222)\n",
    "sns.scatterplot(data=data_no_outliers,\n",
    "                x='connectivity', y='Value', ax=ax2,\n",
    "               rasterized=True)\n",
    "ax2.set_ylabel('Size of peak')\n",
    "ax2.set_title('(B)')\n",
    "# ax2.axhline(data_no_outliers['Value'].mean()) # Pure SIR value\n",
    "\n",
    "ax3 = fig.add_subplot(223)\n",
    "sns.scatterplot(data=data_no_outliers,\n",
    "                x='connectivity', y='Total', ax=ax3,\n",
    "               rasterized=True)\n",
    "ax3.set_ylabel('Total number of cases')\n",
    "ax3.set_title('(C)')\n",
    "# ax3.axhline(4631637)\n",
    "\n",
    "ax4 = fig.add_subplot(224)\n",
    "D_data = data_no_outliers[(data_no_outliers['Total'] < 4.6e6)]\n",
    "sns.scatterplot(data=D_data,\n",
    "                x='connectivity', y='Total', ax=ax4,\n",
    "               rasterized=True)\n",
    "ax4.set_ylabel('Total number of cases')\n",
    "ax4.set_title('(D)')\n",
    "# ax3.axhline(4631637)\n",
    "\n",
    "for ax in fig.get_axes():\n",
    "    ax.set_xlabel('Connectivity of initial location')\n",
    "\n",
    "\n",
    "plt.tight_layout()\n",
    "# plt.gcf().get_size_inches()\n",
    "plt.savefig('../../figs/Fig6.tif')"
   ]
  },
  {
   "cell_type": "code",
   "execution_count": 10,
   "metadata": {},
   "outputs": [
    {
     "data": {
      "text/plain": [
       "Ttest_indResult(statistic=-11.983370549454133, pvalue=7.629069089020346e-32)"
      ]
     },
     "execution_count": 10,
     "metadata": {},
     "output_type": "execute_result"
    }
   ],
   "source": [
    "import scipy\n",
    "scipy.stats.ttest_ind(data_no_outliers['Total'],\n",
    "                      data_no_outliers[data_no_outliers['connectivity'] > 1.01]['Total'])"
   ]
  }
 ],
 "metadata": {
  "kernelspec": {
   "display_name": "proj_data",
   "language": "python",
   "name": "proj_data"
  },
  "language_info": {
   "codemirror_mode": {
    "name": "ipython",
    "version": 3
   },
   "file_extension": ".py",
   "mimetype": "text/x-python",
   "name": "python",
   "nbconvert_exporter": "python",
   "pygments_lexer": "ipython3",
   "version": "3.4.3"
  }
 },
 "nbformat": 4,
 "nbformat_minor": 2
}
