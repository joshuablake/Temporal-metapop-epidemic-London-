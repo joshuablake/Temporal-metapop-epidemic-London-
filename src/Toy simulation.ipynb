{
 "cells": [
  {
   "cell_type": "markdown",
   "metadata": {},
   "source": [
    "# Setup"
   ]
  },
  {
   "cell_type": "code",
   "execution_count": 69,
   "metadata": {},
   "outputs": [],
   "source": [
    "import pandas as pd\n",
    "import numpy as np\n",
    "NP_TYPE = np.double"
   ]
  },
  {
   "cell_type": "markdown",
   "metadata": {},
   "source": [
    "# Initial state"
   ]
  },
  {
   "cell_type": "code",
   "execution_count": 70,
   "metadata": {},
   "outputs": [
    {
     "name": "stdout",
     "output_type": "stream",
     "text": [
      "(array([234027., 299347., 233495., 352763., 270418., 294050., 345829.,\n",
      "       198136., 265665., 243672., 216980., 212924.,  92526., 236622.,\n",
      "       301971., 177580., 188167., 281120., 123820., 196704., 240495.,\n",
      "       286447., 270435., 180116.,  86472., 248140.,  87096., 329966.,\n",
      "       161893., 249805., 243366., 298118., 184394., 306924.,   7472.]), array([100.,   0.,   0.,   0.,   0.,   0.,   0.,   0.,   0.,   0.,   0.,\n",
      "         0.,   0.,   0.,   0.,   0.,   0.,   0.,   0.,   0.,   0.,   0.,\n",
      "         0.,   0.,   0.,   0.,   0.,   0.,   0.,   0.,   0.,   0.,   0.,\n",
      "         0.,   0.]), array([0., 0., 0., 0., 0., 0., 0., 0., 0., 0., 0., 0., 0., 0., 0., 0., 0.,\n",
      "       0., 0., 0., 0., 0., 0., 0., 0., 0., 0., 0., 0., 0., 0., 0., 0., 0.,\n",
      "       0.]), array([234127, 299347, 233495, 352763, 270418, 294050, 345829, 198136,\n",
      "       265665, 243672, 216980, 212924,  92526, 236622, 301971, 177580,\n",
      "       188167, 281120, 123820, 196704, 240495, 286447, 270435, 180116,\n",
      "        86472, 248140,  87096, 329966, 161893, 249805, 243366, 298118,\n",
      "       184394, 306924,   7472]))\n"
     ]
    },
    {
     "data": {
      "text/plain": [
       "7947055"
      ]
     },
     "execution_count": 70,
     "metadata": {},
     "output_type": "execute_result"
    }
   ],
   "source": [
    "def check_state(S, I, R, N):\n",
    "    assert (N == S + I + R).all() # Checks both value and shapes\n",
    "    assert (S >= 0).all()\n",
    "    assert (R >= 0).all()\n",
    "    assert (I >= 0).all()\n",
    "#     assert np.isclose(N.sum(), POP_SIZE)\n",
    "\n",
    "from os import path\n",
    "DATA_DIR = path.join('..', 'data')\n",
    "N = pd.read_csv(path.join(DATA_DIR, 'borough_pop.csv'))['Population'].as_matrix()\n",
    "I = np.array([100] + [0] * (len(N)-1), NP_TYPE)\n",
    "S = N - I\n",
    "R = np.array([0] * len(N), NP_TYPE)\n",
    "POP_SIZE = N.sum()\n",
    "state = (S, I, R, N)\n",
    "check_state(*state)\n",
    "print(state)\n",
    "POP_SIZE"
   ]
  },
  {
   "cell_type": "markdown",
   "metadata": {},
   "source": [
    "# Constants"
   ]
  },
  {
   "cell_type": "code",
   "execution_count": 71,
   "metadata": {},
   "outputs": [],
   "source": [
    "BETA = NP_TYPE(0.5 / 24)\n",
    "GAMMA = NP_TYPE((1/3) / 24)\n",
    "assert np.isclose(BETA / GAMMA, 1.5)"
   ]
  },
  {
   "cell_type": "markdown",
   "metadata": {},
   "source": [
    "# Main"
   ]
  },
  {
   "cell_type": "code",
   "execution_count": 72,
   "metadata": {},
   "outputs": [],
   "source": [
    "def update_state(F, S, I, R, N):\n",
    "    S_I_interaction = BETA * S * I * 1/N\n",
    "    Fdash = F.sum(axis=1)\n",
    "    Snew = -S_I_interaction + F.T.dot(S) - Fdash * S + S\n",
    "    Inew = S_I_interaction + F.T.dot(I) - Fdash * I + (1-GAMMA) * I\n",
    "    Rnew = GAMMA * I + F.T.dot(R) - Fdash * R + R\n",
    "    Nnew = Snew + Inew + Rnew\n",
    "    return (Snew, Inew, Rnew, Nnew)"
   ]
  },
  {
   "cell_type": "code",
   "execution_count": 73,
   "metadata": {},
   "outputs": [],
   "source": [
    "def update_single_row(row, F, S, I, R, N):\n",
    "    i = row\n",
    "    Snew = -BETA * S[i] * I[i] / N[i] \\\n",
    "            + sum(F[j][i] * S[j] for j in range(0, len(N))) \\\n",
    "            - sum(F[i][j] * S[i] for j in range(0, len(N))) \\\n",
    "            + S[i]\n",
    "    \n",
    "    Inew = BETA * S[i] * I[i] / N[i] \\\n",
    "            + sum(F[j][i] * I[j] for j in range(0, len(N))) \\\n",
    "            - sum(F[i][j] * I[i] for j in range(0, len(N))) \\\n",
    "            - GAMMA * I[i] + I[i]\n",
    "    \n",
    "    Rnew = GAMMA * I[i] \\\n",
    "            + sum(F[j][i] * R[j] for j in range(0, len(N))) \\\n",
    "            - sum(F[i][j] * R[i] for j in range(0, len(N))) \\\n",
    "            + R[i]\n",
    "    \n",
    "    Nnew = Snew + Inew + Rnew\n",
    "    return (Snew, Inew, Rnew, Nnew)"
   ]
  },
  {
   "cell_type": "code",
   "execution_count": 74,
   "metadata": {},
   "outputs": [],
   "source": [
    "def check_F(F):\n",
    "    assert F.shape == (len(N), len(N))\n",
    "    assert (F.sum(axis=1) < 1).all()\n",
    "    \n",
    "def generate_F():\n",
    "    def generate_row():\n",
    "        rand_row = np.random.rand(len(N))\n",
    "        for i in range(1, len(N)+10):\n",
    "            row = rand_row / i\n",
    "            if row.sum() < 1:\n",
    "                return row\n",
    "    return np.array([generate_row() for _ in range(len(N))])"
   ]
  },
  {
   "cell_type": "code",
   "execution_count": 76,
   "metadata": {
    "scrolled": false
   },
   "outputs": [
    {
     "name": "stdout",
     "output_type": "stream",
     "text": [
      "Done\n"
     ]
    }
   ],
   "source": [
    "np.seterr(all='raise')\n",
    "# F = np.ones((len(N),len(N)), NP_TYPE) / (len(N) + 3)\n",
    "F = generate_F()\n",
    "check_F(F)\n",
    "STR_INDEX = ('S', 'I', 'R', 'N')\n",
    "for step in range(1000):\n",
    "    new_state = update_state(F, *state)\n",
    "    check_state(*new_state)\n",
    "    for i in range(len(N)):\n",
    "        new_row_state = update_single_row(i, F, *state)\n",
    "        for j in range(4):\n",
    "            error = None\n",
    "            try:\n",
    "                assert np.isclose(new_state[j][i], new_row_state[j])\n",
    "            except AssertionError:\n",
    "                error = 'fail'\n",
    "            except FloatingPointError:\n",
    "                error = 'underflow'\n",
    "            if error:\n",
    "                print('A {} occured checking {} of row {}: matrix = {}, row wise = {}'\\\n",
    "                     .format(error, STR_INDEX[j], i, new_state[j][i], new_row_state[j]))\n",
    "    state = new_state\n",
    "print('Done')"
   ]
  },
  {
   "cell_type": "code",
   "execution_count": 80,
   "metadata": {},
   "outputs": [],
   "source": [
    "def update_row_by_row(F, state):\n",
    "    for i in range(len(N)):\n",
    "        new_row_state = update_single_row(i, F, *state)"
   ]
  },
  {
   "cell_type": "code",
   "execution_count": 81,
   "metadata": {},
   "outputs": [
    {
     "name": "stdout",
     "output_type": "stream",
     "text": [
      "9.12 ms ± 559 µs per loop (mean ± std. dev. of 7 runs, 100 loops each)\n"
     ]
    }
   ],
   "source": [
    "%timeit update_row_by_row(F, state)"
   ]
  },
  {
   "cell_type": "code",
   "execution_count": 83,
   "metadata": {},
   "outputs": [
    {
     "name": "stdout",
     "output_type": "stream",
     "text": [
      "43.6 µs ± 7.15 µs per loop (mean ± std. dev. of 7 runs, 10000 loops each)\n"
     ]
    }
   ],
   "source": [
    "%timeit update_state(F, *state)"
   ]
  }
 ],
 "metadata": {
  "kernelspec": {
   "display_name": "proj_data",
   "language": "python",
   "name": "proj_data"
  },
  "language_info": {
   "codemirror_mode": {
    "name": "ipython",
    "version": 3
   },
   "file_extension": ".py",
   "mimetype": "text/x-python",
   "name": "python",
   "nbconvert_exporter": "python",
   "pygments_lexer": "ipython3",
   "version": "3.4.3"
  }
 },
 "nbformat": 4,
 "nbformat_minor": 2
}
