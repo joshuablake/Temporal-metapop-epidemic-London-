{
 "cells": [
  {
   "cell_type": "code",
   "execution_count": 52,
   "metadata": {},
   "outputs": [],
   "source": [
    "import pandas as pd\n",
    "from os import path\n",
    "import matplotlib.pyplot as plt\n",
    "%matplotlib inline\n",
    "DATA_DIR = path.join('..', 'data')"
   ]
  },
  {
   "cell_type": "code",
   "execution_count": 53,
   "metadata": {},
   "outputs": [
    {
     "data": {
      "text/html": [
       "<div>\n",
       "<style scoped>\n",
       "    .dataframe tbody tr th:only-of-type {\n",
       "        vertical-align: middle;\n",
       "    }\n",
       "\n",
       "    .dataframe tbody tr th {\n",
       "        vertical-align: top;\n",
       "    }\n",
       "\n",
       "    .dataframe thead th {\n",
       "        text-align: right;\n",
       "    }\n",
       "</style>\n",
       "<table border=\"1\" class=\"dataframe\">\n",
       "  <thead>\n",
       "    <tr style=\"text-align: right;\">\n",
       "      <th></th>\n",
       "      <th></th>\n",
       "      <th></th>\n",
       "      <th></th>\n",
       "      <th>0</th>\n",
       "      <th>1</th>\n",
       "      <th>2</th>\n",
       "      <th>3</th>\n",
       "      <th>4</th>\n",
       "      <th>5</th>\n",
       "      <th>6</th>\n",
       "      <th>7</th>\n",
       "      <th>8</th>\n",
       "      <th>9</th>\n",
       "      <th>...</th>\n",
       "      <th>6990</th>\n",
       "      <th>6991</th>\n",
       "      <th>6992</th>\n",
       "      <th>6993</th>\n",
       "      <th>6994</th>\n",
       "      <th>6995</th>\n",
       "      <th>6996</th>\n",
       "      <th>6997</th>\n",
       "      <th>6998</th>\n",
       "      <th>6999</th>\n",
       "    </tr>\n",
       "    <tr>\n",
       "      <th>Init_station</th>\n",
       "      <th>Init_time</th>\n",
       "      <th>Init_count</th>\n",
       "      <th>Count_type</th>\n",
       "      <th></th>\n",
       "      <th></th>\n",
       "      <th></th>\n",
       "      <th></th>\n",
       "      <th></th>\n",
       "      <th></th>\n",
       "      <th></th>\n",
       "      <th></th>\n",
       "      <th></th>\n",
       "      <th></th>\n",
       "      <th></th>\n",
       "      <th></th>\n",
       "      <th></th>\n",
       "      <th></th>\n",
       "      <th></th>\n",
       "      <th></th>\n",
       "      <th></th>\n",
       "      <th></th>\n",
       "      <th></th>\n",
       "      <th></th>\n",
       "      <th></th>\n",
       "    </tr>\n",
       "  </thead>\n",
       "  <tbody>\n",
       "    <tr>\n",
       "      <th rowspan=\"5\" valign=\"top\">0</th>\n",
       "      <th rowspan=\"3\" valign=\"top\">3</th>\n",
       "      <th rowspan=\"3\" valign=\"top\">1</th>\n",
       "      <th>S</th>\n",
       "      <td>7947054.0</td>\n",
       "      <td>7.947054e+06</td>\n",
       "      <td>7.947054e+06</td>\n",
       "      <td>7.947054e+06</td>\n",
       "      <td>7.947054e+06</td>\n",
       "      <td>7.947054e+06</td>\n",
       "      <td>7.947054e+06</td>\n",
       "      <td>7.947054e+06</td>\n",
       "      <td>7.947054e+06</td>\n",
       "      <td>7.947054e+06</td>\n",
       "      <td>...</td>\n",
       "      <td>NaN</td>\n",
       "      <td>NaN</td>\n",
       "      <td>NaN</td>\n",
       "      <td>NaN</td>\n",
       "      <td>NaN</td>\n",
       "      <td>NaN</td>\n",
       "      <td>NaN</td>\n",
       "      <td>NaN</td>\n",
       "      <td>NaN</td>\n",
       "      <td>NaN</td>\n",
       "    </tr>\n",
       "    <tr>\n",
       "      <th>I</th>\n",
       "      <td>1.0</td>\n",
       "      <td>1.006943e+00</td>\n",
       "      <td>1.013934e+00</td>\n",
       "      <td>1.020973e+00</td>\n",
       "      <td>1.028095e+00</td>\n",
       "      <td>1.035017e+00</td>\n",
       "      <td>1.041915e+00</td>\n",
       "      <td>1.048874e+00</td>\n",
       "      <td>1.056188e+00</td>\n",
       "      <td>1.063393e+00</td>\n",
       "      <td>...</td>\n",
       "      <td>NaN</td>\n",
       "      <td>NaN</td>\n",
       "      <td>NaN</td>\n",
       "      <td>NaN</td>\n",
       "      <td>NaN</td>\n",
       "      <td>NaN</td>\n",
       "      <td>NaN</td>\n",
       "      <td>NaN</td>\n",
       "      <td>NaN</td>\n",
       "      <td>NaN</td>\n",
       "    </tr>\n",
       "    <tr>\n",
       "      <th>R</th>\n",
       "      <td>0.0</td>\n",
       "      <td>1.388889e-02</td>\n",
       "      <td>2.787421e-02</td>\n",
       "      <td>4.195662e-02</td>\n",
       "      <td>5.613680e-02</td>\n",
       "      <td>7.041590e-02</td>\n",
       "      <td>8.479113e-02</td>\n",
       "      <td>9.926218e-02</td>\n",
       "      <td>1.138299e-01</td>\n",
       "      <td>1.284991e-01</td>\n",
       "      <td>...</td>\n",
       "      <td>NaN</td>\n",
       "      <td>NaN</td>\n",
       "      <td>NaN</td>\n",
       "      <td>NaN</td>\n",
       "      <td>NaN</td>\n",
       "      <td>NaN</td>\n",
       "      <td>NaN</td>\n",
       "      <td>NaN</td>\n",
       "      <td>NaN</td>\n",
       "      <td>NaN</td>\n",
       "    </tr>\n",
       "    <tr>\n",
       "      <th rowspan=\"2\" valign=\"top\">60</th>\n",
       "      <th rowspan=\"2\" valign=\"top\">1</th>\n",
       "      <th>S</th>\n",
       "      <td>7947054.0</td>\n",
       "      <td>7.947054e+06</td>\n",
       "      <td>7.947054e+06</td>\n",
       "      <td>7.947054e+06</td>\n",
       "      <td>7.947054e+06</td>\n",
       "      <td>7.947054e+06</td>\n",
       "      <td>7.947054e+06</td>\n",
       "      <td>7.947054e+06</td>\n",
       "      <td>7.947054e+06</td>\n",
       "      <td>7.947054e+06</td>\n",
       "      <td>...</td>\n",
       "      <td>NaN</td>\n",
       "      <td>NaN</td>\n",
       "      <td>NaN</td>\n",
       "      <td>NaN</td>\n",
       "      <td>NaN</td>\n",
       "      <td>NaN</td>\n",
       "      <td>NaN</td>\n",
       "      <td>NaN</td>\n",
       "      <td>NaN</td>\n",
       "      <td>NaN</td>\n",
       "    </tr>\n",
       "    <tr>\n",
       "      <th>I</th>\n",
       "      <td>1.0</td>\n",
       "      <td>1.006943e+00</td>\n",
       "      <td>1.013934e+00</td>\n",
       "      <td>1.020973e+00</td>\n",
       "      <td>1.028062e+00</td>\n",
       "      <td>1.035199e+00</td>\n",
       "      <td>1.042386e+00</td>\n",
       "      <td>1.049623e+00</td>\n",
       "      <td>1.056910e+00</td>\n",
       "      <td>1.064248e+00</td>\n",
       "      <td>...</td>\n",
       "      <td>NaN</td>\n",
       "      <td>NaN</td>\n",
       "      <td>NaN</td>\n",
       "      <td>NaN</td>\n",
       "      <td>NaN</td>\n",
       "      <td>NaN</td>\n",
       "      <td>NaN</td>\n",
       "      <td>NaN</td>\n",
       "      <td>NaN</td>\n",
       "      <td>NaN</td>\n",
       "    </tr>\n",
       "  </tbody>\n",
       "</table>\n",
       "<p>5 rows × 7000 columns</p>\n",
       "</div>"
      ],
      "text/plain": [
       "                                                   0             1     \\\n",
       "Init_station Init_time Init_count Count_type                            \n",
       "0            3         1          S           7947054.0  7.947054e+06   \n",
       "                                  I                 1.0  1.006943e+00   \n",
       "                                  R                 0.0  1.388889e-02   \n",
       "             60        1          S           7947054.0  7.947054e+06   \n",
       "                                  I                 1.0  1.006943e+00   \n",
       "\n",
       "                                                      2             3     \\\n",
       "Init_station Init_time Init_count Count_type                               \n",
       "0            3         1          S           7.947054e+06  7.947054e+06   \n",
       "                                  I           1.013934e+00  1.020973e+00   \n",
       "                                  R           2.787421e-02  4.195662e-02   \n",
       "             60        1          S           7.947054e+06  7.947054e+06   \n",
       "                                  I           1.013934e+00  1.020973e+00   \n",
       "\n",
       "                                                      4             5     \\\n",
       "Init_station Init_time Init_count Count_type                               \n",
       "0            3         1          S           7.947054e+06  7.947054e+06   \n",
       "                                  I           1.028095e+00  1.035017e+00   \n",
       "                                  R           5.613680e-02  7.041590e-02   \n",
       "             60        1          S           7.947054e+06  7.947054e+06   \n",
       "                                  I           1.028062e+00  1.035199e+00   \n",
       "\n",
       "                                                      6             7     \\\n",
       "Init_station Init_time Init_count Count_type                               \n",
       "0            3         1          S           7.947054e+06  7.947054e+06   \n",
       "                                  I           1.041915e+00  1.048874e+00   \n",
       "                                  R           8.479113e-02  9.926218e-02   \n",
       "             60        1          S           7.947054e+06  7.947054e+06   \n",
       "                                  I           1.042386e+00  1.049623e+00   \n",
       "\n",
       "                                                      8             9     \\\n",
       "Init_station Init_time Init_count Count_type                               \n",
       "0            3         1          S           7.947054e+06  7.947054e+06   \n",
       "                                  I           1.056188e+00  1.063393e+00   \n",
       "                                  R           1.138299e-01  1.284991e-01   \n",
       "             60        1          S           7.947054e+06  7.947054e+06   \n",
       "                                  I           1.056910e+00  1.064248e+00   \n",
       "\n",
       "                                              ...   6990  6991  6992  6993  \\\n",
       "Init_station Init_time Init_count Count_type  ...                            \n",
       "0            3         1          S           ...    NaN   NaN   NaN   NaN   \n",
       "                                  I           ...    NaN   NaN   NaN   NaN   \n",
       "                                  R           ...    NaN   NaN   NaN   NaN   \n",
       "             60        1          S           ...    NaN   NaN   NaN   NaN   \n",
       "                                  I           ...    NaN   NaN   NaN   NaN   \n",
       "\n",
       "                                              6994  6995  6996  6997  6998  \\\n",
       "Init_station Init_time Init_count Count_type                                 \n",
       "0            3         1          S            NaN   NaN   NaN   NaN   NaN   \n",
       "                                  I            NaN   NaN   NaN   NaN   NaN   \n",
       "                                  R            NaN   NaN   NaN   NaN   NaN   \n",
       "             60        1          S            NaN   NaN   NaN   NaN   NaN   \n",
       "                                  I            NaN   NaN   NaN   NaN   NaN   \n",
       "\n",
       "                                              6999  \n",
       "Init_station Init_time Init_count Count_type        \n",
       "0            3         1          S            NaN  \n",
       "                                  I            NaN  \n",
       "                                  R            NaN  \n",
       "             60        1          S            NaN  \n",
       "                                  I            NaN  \n",
       "\n",
       "[5 rows x 7000 columns]"
      ]
     },
     "execution_count": 53,
     "metadata": {},
     "output_type": "execute_result"
    }
   ],
   "source": [
    "results = pd.read_csv(path.join(DATA_DIR, 'results.csv'),\n",
    "                      names=['Init_station','Init_time','Init_count','Count_type']+list(range(7000)))\n",
    "results.set_index(list(results.columns[:4]), inplace=True)\n",
    "results.head()"
   ]
  },
  {
   "cell_type": "code",
   "execution_count": 54,
   "metadata": {},
   "outputs": [
    {
     "data": {
      "text/plain": [
       "<matplotlib.axes._subplots.AxesSubplot at 0x7f4f09297908>"
      ]
     },
     "execution_count": 54,
     "metadata": {},
     "output_type": "execute_result"
    },
    {
     "data": {
      "image/png": "[encoded data removed]",
      "text/plain": [
       "<Figure size 432x288 with 1 Axes>"
      ]
     },
     "metadata": {
      "needs_background": "light"
     },
     "output_type": "display_data"
    }
   ],
   "source": [
    "results.xs((0,3,1), level=('Init_station','Init_time','Init_count')).T.drop(columns='S').plot()"
   ]
  },
  {
   "cell_type": "code",
   "execution_count": 55,
   "metadata": {},
   "outputs": [],
   "source": [
    "filtered=results.xs((1, 'I'), level=('Init_count', 'Count_type')).fillna(0)\n",
    "filtered_R=results.xs((1, 'R'), level=('Init_count', 'Count_type')).fillna(0)"
   ]
  },
  {
   "cell_type": "code",
   "execution_count": 56,
   "metadata": {},
   "outputs": [
    {
     "data": {
      "text/plain": [
       "Init_station  Init_time\n",
       "0             3            4.599169e+06\n",
       "              60           7.401659e+03\n",
       "              99           7.401659e+03\n",
       "              108          7.401659e+03\n",
       "              123          7.401659e+03\n",
       "dtype: float64"
      ]
     },
     "execution_count": 56,
     "metadata": {},
     "output_type": "execute_result"
    }
   ],
   "source": [
    "filtered_R.T.max().head()"
   ]
  },
  {
   "cell_type": "code",
   "execution_count": 57,
   "metadata": {},
   "outputs": [
    {
     "data": {
      "text/plain": [
       "Init_station  Init_time\n",
       "0             3            354889.284154\n",
       "              60              802.024580\n",
       "              99              802.024580\n",
       "              108             802.024580\n",
       "              123             802.024580\n",
       "dtype: float64"
      ]
     },
     "execution_count": 57,
     "metadata": {},
     "output_type": "execute_result"
    }
   ],
   "source": [
    "filtered.T.max().head()"
   ]
  },
  {
   "cell_type": "code",
   "execution_count": 58,
   "metadata": {},
   "outputs": [],
   "source": [
    "peaks = pd.concat([filtered.T.idxmax(), filtered.T.max(), filtered_R.T.max()], axis=1)\n",
    "peaks.columns = ['Time', 'Value', 'Total']\n",
    "peaks['Time'] = peaks['Time'] / 24"
   ]
  },
  {
   "cell_type": "code",
   "execution_count": 36,
   "metadata": {},
   "outputs": [
    {
     "data": {
      "text/plain": [
       "<matplotlib.axes._subplots.AxesSubplot at 0x7f3c75cd8748>"
      ]
     },
     "execution_count": 36,
     "metadata": {},
     "output_type": "execute_result"
    },
    {
     "data": {
      "image/png": "[encoded data removed]",
      "text/plain": [
       "<Figure size 432x288 with 1 Axes>"
      ]
     },
     "metadata": {
      "needs_background": "light"
     },
     "output_type": "display_data"
    }
   ],
   "source": [
    "filtered.T.plot(legend=None, color='#870909', logy=True)"
   ]
  },
  {
   "cell_type": "code",
   "execution_count": 38,
   "metadata": {},
   "outputs": [
    {
     "data": {
      "text/plain": [
       "<matplotlib.axes._subplots.AxesSubplot at 0x7f3c75ed1cf8>"
      ]
     },
     "execution_count": 38,
     "metadata": {},
     "output_type": "execute_result"
    },
    {
     "data": {
      "image/png": "[encoded data removed]",
      "text/plain": [
       "<Figure size 432x288 with 1 Axes>"
      ]
     },
     "metadata": {
      "needs_background": "light"
     },
     "output_type": "display_data"
    }
   ],
   "source": [
    "peaks.plot.scatter('Time', 'Value', logy=True)"
   ]
  },
  {
   "cell_type": "code",
   "execution_count": 62,
   "metadata": {},
   "outputs": [
    {
     "data": {
      "text/plain": [
       "<matplotlib.axes._subplots.AxesSubplot at 0x7f3c74a2eac8>"
      ]
     },
     "execution_count": 62,
     "metadata": {},
     "output_type": "execute_result"
    },
    {
     "data": {
      "image/png": "[encoded data removed]",
      "text/plain": [
       "<Figure size 432x288 with 1 Axes>"
      ]
     },
     "metadata": {
      "needs_background": "light"
     },
     "output_type": "display_data"
    }
   ],
   "source": [
    "peaks[peaks['Total'] < 3e6].plot.scatter('Time', 'Total')"
   ]
  },
  {
   "cell_type": "code",
   "execution_count": 63,
   "metadata": {},
   "outputs": [
    {
     "data": {
      "text/html": [
       "<div>\n",
       "<style scoped>\n",
       "    .dataframe tbody tr th:only-of-type {\n",
       "        vertical-align: middle;\n",
       "    }\n",
       "\n",
       "    .dataframe tbody tr th {\n",
       "        vertical-align: top;\n",
       "    }\n",
       "\n",
       "    .dataframe thead th {\n",
       "        text-align: right;\n",
       "    }\n",
       "</style>\n",
       "<table border=\"1\" class=\"dataframe\">\n",
       "  <thead>\n",
       "    <tr style=\"text-align: right;\">\n",
       "      <th></th>\n",
       "      <th>Time</th>\n",
       "      <th>Value</th>\n",
       "      <th>Total</th>\n",
       "    </tr>\n",
       "  </thead>\n",
       "  <tbody>\n",
       "    <tr>\n",
       "      <th>count</th>\n",
       "      <td>70.000</td>\n",
       "      <td>70.000000</td>\n",
       "      <td>7.000000e+01</td>\n",
       "    </tr>\n",
       "    <tr>\n",
       "      <th>mean</th>\n",
       "      <td>30.375</td>\n",
       "      <td>34.369857</td>\n",
       "      <td>3.110655e+02</td>\n",
       "    </tr>\n",
       "    <tr>\n",
       "      <th>std</th>\n",
       "      <td>0.000</td>\n",
       "      <td>0.000000</td>\n",
       "      <td>5.725385e-14</td>\n",
       "    </tr>\n",
       "    <tr>\n",
       "      <th>min</th>\n",
       "      <td>30.375</td>\n",
       "      <td>34.369857</td>\n",
       "      <td>3.110655e+02</td>\n",
       "    </tr>\n",
       "    <tr>\n",
       "      <th>25%</th>\n",
       "      <td>30.375</td>\n",
       "      <td>34.369857</td>\n",
       "      <td>3.110655e+02</td>\n",
       "    </tr>\n",
       "    <tr>\n",
       "      <th>50%</th>\n",
       "      <td>30.375</td>\n",
       "      <td>34.369857</td>\n",
       "      <td>3.110655e+02</td>\n",
       "    </tr>\n",
       "    <tr>\n",
       "      <th>75%</th>\n",
       "      <td>30.375</td>\n",
       "      <td>34.369857</td>\n",
       "      <td>3.110655e+02</td>\n",
       "    </tr>\n",
       "    <tr>\n",
       "      <th>max</th>\n",
       "      <td>30.375</td>\n",
       "      <td>34.369857</td>\n",
       "      <td>3.110655e+02</td>\n",
       "    </tr>\n",
       "  </tbody>\n",
       "</table>\n",
       "</div>"
      ],
      "text/plain": [
       "         Time      Value         Total\n",
       "count  70.000  70.000000  7.000000e+01\n",
       "mean   30.375  34.369857  3.110655e+02\n",
       "std     0.000   0.000000  5.725385e-14\n",
       "min    30.375  34.369857  3.110655e+02\n",
       "25%    30.375  34.369857  3.110655e+02\n",
       "50%    30.375  34.369857  3.110655e+02\n",
       "75%    30.375  34.369857  3.110655e+02\n",
       "max    30.375  34.369857  3.110655e+02"
      ]
     },
     "execution_count": 63,
     "metadata": {},
     "output_type": "execute_result"
    }
   ],
   "source": [
    "peaks[peaks['Time'] < 40].describe()"
   ]
  },
  {
   "cell_type": "code",
   "execution_count": 79,
   "metadata": {},
   "outputs": [
    {
     "data": {
      "text/plain": [
       "{3, 14, 15, 29, 55, 63, 69, 119, 210, 217, 222, 224, 312, 338}"
      ]
     },
     "execution_count": 79,
     "metadata": {},
     "output_type": "execute_result"
    }
   ],
   "source": [
    "group_1 = peaks[peaks['Time'] < 40]\n",
    "set(group_1.index.get_level_values('Init_station'))"
   ]
  },
  {
   "cell_type": "code",
   "execution_count": 64,
   "metadata": {},
   "outputs": [
    {
     "data": {
      "text/html": [
       "<div>\n",
       "<style scoped>\n",
       "    .dataframe tbody tr th:only-of-type {\n",
       "        vertical-align: middle;\n",
       "    }\n",
       "\n",
       "    .dataframe tbody tr th {\n",
       "        vertical-align: top;\n",
       "    }\n",
       "\n",
       "    .dataframe thead th {\n",
       "        text-align: right;\n",
       "    }\n",
       "</style>\n",
       "<table border=\"1\" class=\"dataframe\">\n",
       "  <thead>\n",
       "    <tr style=\"text-align: right;\">\n",
       "      <th></th>\n",
       "      <th>Time</th>\n",
       "      <th>Value</th>\n",
       "      <th>Total</th>\n",
       "    </tr>\n",
       "  </thead>\n",
       "  <tbody>\n",
       "    <tr>\n",
       "      <th>count</th>\n",
       "      <td>1899.000000</td>\n",
       "      <td>1899.000000</td>\n",
       "      <td>1899.000000</td>\n",
       "    </tr>\n",
       "    <tr>\n",
       "      <th>mean</th>\n",
       "      <td>51.341430</td>\n",
       "      <td>1269.215822</td>\n",
       "      <td>11716.941075</td>\n",
       "    </tr>\n",
       "    <tr>\n",
       "      <th>std</th>\n",
       "      <td>3.622325</td>\n",
       "      <td>882.699332</td>\n",
       "      <td>8153.210189</td>\n",
       "    </tr>\n",
       "    <tr>\n",
       "      <th>min</th>\n",
       "      <td>45.750000</td>\n",
       "      <td>415.848423</td>\n",
       "      <td>3834.661621</td>\n",
       "    </tr>\n",
       "    <tr>\n",
       "      <th>25%</th>\n",
       "      <td>49.000000</td>\n",
       "      <td>711.493699</td>\n",
       "      <td>6565.437315</td>\n",
       "    </tr>\n",
       "    <tr>\n",
       "      <th>50%</th>\n",
       "      <td>50.458333</td>\n",
       "      <td>905.035684</td>\n",
       "      <td>8353.119484</td>\n",
       "    </tr>\n",
       "    <tr>\n",
       "      <th>75%</th>\n",
       "      <td>54.458333</td>\n",
       "      <td>1753.293305</td>\n",
       "      <td>16188.202750</td>\n",
       "    </tr>\n",
       "    <tr>\n",
       "      <th>max</th>\n",
       "      <td>61.666667</td>\n",
       "      <td>5822.323850</td>\n",
       "      <td>53772.587264</td>\n",
       "    </tr>\n",
       "  </tbody>\n",
       "</table>\n",
       "</div>"
      ],
      "text/plain": [
       "              Time        Value         Total\n",
       "count  1899.000000  1899.000000   1899.000000\n",
       "mean     51.341430  1269.215822  11716.941075\n",
       "std       3.622325   882.699332   8153.210189\n",
       "min      45.750000   415.848423   3834.661621\n",
       "25%      49.000000   711.493699   6565.437315\n",
       "50%      50.458333   905.035684   8353.119484\n",
       "75%      54.458333  1753.293305  16188.202750\n",
       "max      61.666667  5822.323850  53772.587264"
      ]
     },
     "execution_count": 64,
     "metadata": {},
     "output_type": "execute_result"
    }
   ],
   "source": [
    "peaks[(peaks['Time'] > 40) & (peaks['Time'] < 68)].describe()"
   ]
  },
  {
   "cell_type": "code",
   "execution_count": 60,
   "metadata": {},
   "outputs": [
    {
     "data": {
      "text/html": [
       "<div>\n",
       "<style scoped>\n",
       "    .dataframe tbody tr th:only-of-type {\n",
       "        vertical-align: middle;\n",
       "    }\n",
       "\n",
       "    .dataframe tbody tr th {\n",
       "        vertical-align: top;\n",
       "    }\n",
       "\n",
       "    .dataframe thead th {\n",
       "        text-align: right;\n",
       "    }\n",
       "</style>\n",
       "<table border=\"1\" class=\"dataframe\">\n",
       "  <thead>\n",
       "    <tr style=\"text-align: right;\">\n",
       "      <th></th>\n",
       "      <th></th>\n",
       "      <th>Time</th>\n",
       "      <th>Value</th>\n",
       "      <th>Total</th>\n",
       "    </tr>\n",
       "    <tr>\n",
       "      <th>Init_station</th>\n",
       "      <th>Init_time</th>\n",
       "      <th></th>\n",
       "      <th></th>\n",
       "      <th></th>\n",
       "    </tr>\n",
       "  </thead>\n",
       "  <tbody>\n",
       "    <tr>\n",
       "      <th>355</th>\n",
       "      <th>108</th>\n",
       "      <td>53.208333</td>\n",
       "      <td>1423.690597</td>\n",
       "      <td>13143.781582</td>\n",
       "    </tr>\n",
       "  </tbody>\n",
       "</table>\n",
       "</div>"
      ],
      "text/plain": [
       "                             Time        Value         Total\n",
       "Init_station Init_time                                      \n",
       "355          108        53.208333  1423.690597  13143.781582"
      ]
     },
     "execution_count": 60,
     "metadata": {},
     "output_type": "execute_result"
    }
   ],
   "source": [
    "peaks[(peaks['Time'] > 40) & (peaks['Time'] < 68)].sample(1)"
   ]
  },
  {
   "cell_type": "code",
   "execution_count": 64,
   "metadata": {},
   "outputs": [
    {
     "data": {
      "text/html": [
       "<div>\n",
       "<style scoped>\n",
       "    .dataframe tbody tr th:only-of-type {\n",
       "        vertical-align: middle;\n",
       "    }\n",
       "\n",
       "    .dataframe tbody tr th {\n",
       "        vertical-align: top;\n",
       "    }\n",
       "\n",
       "    .dataframe thead th {\n",
       "        text-align: right;\n",
       "    }\n",
       "</style>\n",
       "<table border=\"1\" class=\"dataframe\">\n",
       "  <thead>\n",
       "    <tr style=\"text-align: right;\">\n",
       "      <th></th>\n",
       "      <th>Init_time</th>\n",
       "      <th>Time</th>\n",
       "      <th>Value</th>\n",
       "      <th>Total</th>\n",
       "    </tr>\n",
       "    <tr>\n",
       "      <th>Init_station</th>\n",
       "      <th></th>\n",
       "      <th></th>\n",
       "      <th></th>\n",
       "      <th></th>\n",
       "    </tr>\n",
       "  </thead>\n",
       "  <tbody>\n",
       "    <tr>\n",
       "      <th>0</th>\n",
       "      <td>4</td>\n",
       "      <td>4</td>\n",
       "      <td>4</td>\n",
       "      <td>4</td>\n",
       "    </tr>\n",
       "  </tbody>\n",
       "</table>\n",
       "</div>"
      ],
      "text/plain": [
       "              Init_time  Time  Value  Total\n",
       "Init_station                               \n",
       "0                     4     4      4      4"
      ]
     },
     "execution_count": 64,
     "metadata": {},
     "output_type": "execute_result"
    }
   ],
   "source": [
    "g2_counts=peaks[(peaks['Time'] > 40) & (peaks['Time'] < 68)].reset_index().groupby('Init_station').count()\n",
    "g2_counts[g2_counts['Total'] != 5]"
   ]
  },
  {
   "cell_type": "code",
   "execution_count": 65,
   "metadata": {},
   "outputs": [
    {
     "data": {
      "text/html": [
       "<div>\n",
       "<style scoped>\n",
       "    .dataframe tbody tr th:only-of-type {\n",
       "        vertical-align: middle;\n",
       "    }\n",
       "\n",
       "    .dataframe tbody tr th {\n",
       "        vertical-align: top;\n",
       "    }\n",
       "\n",
       "    .dataframe thead th {\n",
       "        text-align: right;\n",
       "    }\n",
       "</style>\n",
       "<table border=\"1\" class=\"dataframe\">\n",
       "  <thead>\n",
       "    <tr style=\"text-align: right;\">\n",
       "      <th></th>\n",
       "      <th>Time</th>\n",
       "      <th>Value</th>\n",
       "      <th>Total</th>\n",
       "    </tr>\n",
       "  </thead>\n",
       "  <tbody>\n",
       "    <tr>\n",
       "      <th>count</th>\n",
       "      <td>5.000000</td>\n",
       "      <td>5.00000</td>\n",
       "      <td>5.000000</td>\n",
       "    </tr>\n",
       "    <tr>\n",
       "      <th>mean</th>\n",
       "      <td>68.916667</td>\n",
       "      <td>19380.99084</td>\n",
       "      <td>179009.557332</td>\n",
       "    </tr>\n",
       "    <tr>\n",
       "      <th>std</th>\n",
       "      <td>0.000000</td>\n",
       "      <td>0.00000</td>\n",
       "      <td>0.000000</td>\n",
       "    </tr>\n",
       "    <tr>\n",
       "      <th>min</th>\n",
       "      <td>68.916667</td>\n",
       "      <td>19380.99084</td>\n",
       "      <td>179009.557332</td>\n",
       "    </tr>\n",
       "    <tr>\n",
       "      <th>25%</th>\n",
       "      <td>68.916667</td>\n",
       "      <td>19380.99084</td>\n",
       "      <td>179009.557332</td>\n",
       "    </tr>\n",
       "    <tr>\n",
       "      <th>50%</th>\n",
       "      <td>68.916667</td>\n",
       "      <td>19380.99084</td>\n",
       "      <td>179009.557332</td>\n",
       "    </tr>\n",
       "    <tr>\n",
       "      <th>75%</th>\n",
       "      <td>68.916667</td>\n",
       "      <td>19380.99084</td>\n",
       "      <td>179009.557332</td>\n",
       "    </tr>\n",
       "    <tr>\n",
       "      <th>max</th>\n",
       "      <td>68.916667</td>\n",
       "      <td>19380.99084</td>\n",
       "      <td>179009.557332</td>\n",
       "    </tr>\n",
       "  </tbody>\n",
       "</table>\n",
       "</div>"
      ],
      "text/plain": [
       "            Time        Value          Total\n",
       "count   5.000000      5.00000       5.000000\n",
       "mean   68.916667  19380.99084  179009.557332\n",
       "std     0.000000      0.00000       0.000000\n",
       "min    68.916667  19380.99084  179009.557332\n",
       "25%    68.916667  19380.99084  179009.557332\n",
       "50%    68.916667  19380.99084  179009.557332\n",
       "75%    68.916667  19380.99084  179009.557332\n",
       "max    68.916667  19380.99084  179009.557332"
      ]
     },
     "execution_count": 65,
     "metadata": {},
     "output_type": "execute_result"
    }
   ],
   "source": [
    "peaks[(peaks['Time'] > 68) & (peaks['Time'] < 90)].describe()"
   ]
  },
  {
   "cell_type": "code",
   "execution_count": 61,
   "metadata": {},
   "outputs": [
    {
     "data": {
      "text/html": [
       "<div>\n",
       "<style scoped>\n",
       "    .dataframe tbody tr th:only-of-type {\n",
       "        vertical-align: middle;\n",
       "    }\n",
       "\n",
       "    .dataframe tbody tr th {\n",
       "        vertical-align: top;\n",
       "    }\n",
       "\n",
       "    .dataframe thead th {\n",
       "        text-align: right;\n",
       "    }\n",
       "</style>\n",
       "<table border=\"1\" class=\"dataframe\">\n",
       "  <thead>\n",
       "    <tr style=\"text-align: right;\">\n",
       "      <th></th>\n",
       "      <th>Init_time</th>\n",
       "      <th>Time</th>\n",
       "      <th>Value</th>\n",
       "      <th>Total</th>\n",
       "    </tr>\n",
       "    <tr>\n",
       "      <th>Init_station</th>\n",
       "      <th></th>\n",
       "      <th></th>\n",
       "      <th></th>\n",
       "      <th></th>\n",
       "    </tr>\n",
       "  </thead>\n",
       "  <tbody>\n",
       "    <tr>\n",
       "      <th>82</th>\n",
       "      <td>5</td>\n",
       "      <td>5</td>\n",
       "      <td>5</td>\n",
       "      <td>5</td>\n",
       "    </tr>\n",
       "  </tbody>\n",
       "</table>\n",
       "</div>"
      ],
      "text/plain": [
       "              Init_time  Time  Value  Total\n",
       "Init_station                               \n",
       "82                    5     5      5      5"
      ]
     },
     "execution_count": 61,
     "metadata": {},
     "output_type": "execute_result"
    }
   ],
   "source": [
    "peaks[(peaks['Time'] > 68) & (peaks['Time'] < 90)].reset_index().groupby('Init_station').count()"
   ]
  },
  {
   "cell_type": "code",
   "execution_count": 66,
   "metadata": {},
   "outputs": [
    {
     "data": {
      "text/html": [
       "<div>\n",
       "<style scoped>\n",
       "    .dataframe tbody tr th:only-of-type {\n",
       "        vertical-align: middle;\n",
       "    }\n",
       "\n",
       "    .dataframe tbody tr th {\n",
       "        vertical-align: top;\n",
       "    }\n",
       "\n",
       "    .dataframe thead th {\n",
       "        text-align: right;\n",
       "    }\n",
       "</style>\n",
       "<table border=\"1\" class=\"dataframe\">\n",
       "  <thead>\n",
       "    <tr style=\"text-align: right;\">\n",
       "      <th></th>\n",
       "      <th></th>\n",
       "      <th>Time</th>\n",
       "      <th>Value</th>\n",
       "      <th>Total</th>\n",
       "    </tr>\n",
       "    <tr>\n",
       "      <th>Init_station</th>\n",
       "      <th>Init_time</th>\n",
       "      <th></th>\n",
       "      <th></th>\n",
       "      <th></th>\n",
       "    </tr>\n",
       "  </thead>\n",
       "  <tbody>\n",
       "    <tr>\n",
       "      <th>0</th>\n",
       "      <th>3</th>\n",
       "      <td>96.916667</td>\n",
       "      <td>354889.284154</td>\n",
       "      <td>4.599169e+06</td>\n",
       "    </tr>\n",
       "  </tbody>\n",
       "</table>\n",
       "</div>"
      ],
      "text/plain": [
       "                             Time          Value         Total\n",
       "Init_station Init_time                                        \n",
       "0            3          96.916667  354889.284154  4.599169e+06"
      ]
     },
     "execution_count": 66,
     "metadata": {},
     "output_type": "execute_result"
    }
   ],
   "source": [
    "peaks[peaks['Time'] > 90]"
   ]
  },
  {
   "cell_type": "code",
   "execution_count": 26,
   "metadata": {},
   "outputs": [
    {
     "data": {
      "text/html": [
       "<div>\n",
       "<style scoped>\n",
       "    .dataframe tbody tr th:only-of-type {\n",
       "        vertical-align: middle;\n",
       "    }\n",
       "\n",
       "    .dataframe tbody tr th {\n",
       "        vertical-align: top;\n",
       "    }\n",
       "\n",
       "    .dataframe thead th {\n",
       "        text-align: right;\n",
       "    }\n",
       "</style>\n",
       "<table border=\"1\" class=\"dataframe\">\n",
       "  <thead>\n",
       "    <tr style=\"text-align: right;\">\n",
       "      <th></th>\n",
       "      <th>0</th>\n",
       "      <th>1</th>\n",
       "      <th>2</th>\n",
       "      <th>3</th>\n",
       "      <th>4</th>\n",
       "      <th>5</th>\n",
       "      <th>6</th>\n",
       "      <th>7</th>\n",
       "      <th>8</th>\n",
       "      <th>9</th>\n",
       "      <th>...</th>\n",
       "      <th>4990</th>\n",
       "      <th>4991</th>\n",
       "      <th>4992</th>\n",
       "      <th>4993</th>\n",
       "      <th>4994</th>\n",
       "      <th>4995</th>\n",
       "      <th>4996</th>\n",
       "      <th>4997</th>\n",
       "      <th>4998</th>\n",
       "      <th>4999</th>\n",
       "    </tr>\n",
       "    <tr>\n",
       "      <th>Count_type</th>\n",
       "      <th></th>\n",
       "      <th></th>\n",
       "      <th></th>\n",
       "      <th></th>\n",
       "      <th></th>\n",
       "      <th></th>\n",
       "      <th></th>\n",
       "      <th></th>\n",
       "      <th></th>\n",
       "      <th></th>\n",
       "      <th></th>\n",
       "      <th></th>\n",
       "      <th></th>\n",
       "      <th></th>\n",
       "      <th></th>\n",
       "      <th></th>\n",
       "      <th></th>\n",
       "      <th></th>\n",
       "      <th></th>\n",
       "      <th></th>\n",
       "      <th></th>\n",
       "    </tr>\n",
       "  </thead>\n",
       "  <tbody>\n",
       "    <tr>\n",
       "      <th>S</th>\n",
       "      <td>7947054.0</td>\n",
       "      <td>7.947054e+06</td>\n",
       "      <td>7.947054e+06</td>\n",
       "      <td>7.947054e+06</td>\n",
       "      <td>7.947054e+06</td>\n",
       "      <td>7.947054e+06</td>\n",
       "      <td>7.947054e+06</td>\n",
       "      <td>7.947054e+06</td>\n",
       "      <td>7.947054e+06</td>\n",
       "      <td>7.947054e+06</td>\n",
       "      <td>...</td>\n",
       "      <td>NaN</td>\n",
       "      <td>NaN</td>\n",
       "      <td>NaN</td>\n",
       "      <td>NaN</td>\n",
       "      <td>NaN</td>\n",
       "      <td>NaN</td>\n",
       "      <td>NaN</td>\n",
       "      <td>NaN</td>\n",
       "      <td>NaN</td>\n",
       "      <td>NaN</td>\n",
       "    </tr>\n",
       "    <tr>\n",
       "      <th>I</th>\n",
       "      <td>1.0</td>\n",
       "      <td>1.006944e+00</td>\n",
       "      <td>1.013937e+00</td>\n",
       "      <td>1.020978e+00</td>\n",
       "      <td>1.028068e+00</td>\n",
       "      <td>1.035207e+00</td>\n",
       "      <td>1.042396e+00</td>\n",
       "      <td>1.049635e+00</td>\n",
       "      <td>1.056924e+00</td>\n",
       "      <td>1.064264e+00</td>\n",
       "      <td>...</td>\n",
       "      <td>NaN</td>\n",
       "      <td>NaN</td>\n",
       "      <td>NaN</td>\n",
       "      <td>NaN</td>\n",
       "      <td>NaN</td>\n",
       "      <td>NaN</td>\n",
       "      <td>NaN</td>\n",
       "      <td>NaN</td>\n",
       "      <td>NaN</td>\n",
       "      <td>NaN</td>\n",
       "    </tr>\n",
       "    <tr>\n",
       "      <th>R</th>\n",
       "      <td>0.0</td>\n",
       "      <td>1.388889e-02</td>\n",
       "      <td>2.787423e-02</td>\n",
       "      <td>4.195669e-02</td>\n",
       "      <td>5.613694e-02</td>\n",
       "      <td>7.041566e-02</td>\n",
       "      <td>8.479354e-02</td>\n",
       "      <td>9.927127e-02</td>\n",
       "      <td>1.138495e-01</td>\n",
       "      <td>1.285290e-01</td>\n",
       "      <td>...</td>\n",
       "      <td>NaN</td>\n",
       "      <td>NaN</td>\n",
       "      <td>NaN</td>\n",
       "      <td>NaN</td>\n",
       "      <td>NaN</td>\n",
       "      <td>NaN</td>\n",
       "      <td>NaN</td>\n",
       "      <td>NaN</td>\n",
       "      <td>NaN</td>\n",
       "      <td>NaN</td>\n",
       "    </tr>\n",
       "  </tbody>\n",
       "</table>\n",
       "<p>3 rows × 5000 columns</p>\n",
       "</div>"
      ],
      "text/plain": [
       "                 0             1             2             3             4     \\\n",
       "Count_type                                                                      \n",
       "S           7947054.0  7.947054e+06  7.947054e+06  7.947054e+06  7.947054e+06   \n",
       "I                 1.0  1.006944e+00  1.013937e+00  1.020978e+00  1.028068e+00   \n",
       "R                 0.0  1.388889e-02  2.787423e-02  4.195669e-02  5.613694e-02   \n",
       "\n",
       "                    5             6             7             8     \\\n",
       "Count_type                                                           \n",
       "S           7.947054e+06  7.947054e+06  7.947054e+06  7.947054e+06   \n",
       "I           1.035207e+00  1.042396e+00  1.049635e+00  1.056924e+00   \n",
       "R           7.041566e-02  8.479354e-02  9.927127e-02  1.138495e-01   \n",
       "\n",
       "                    9     ...   4990  4991  4992  4993  4994  4995  4996  \\\n",
       "Count_type                ...                                              \n",
       "S           7.947054e+06  ...    NaN   NaN   NaN   NaN   NaN   NaN   NaN   \n",
       "I           1.064264e+00  ...    NaN   NaN   NaN   NaN   NaN   NaN   NaN   \n",
       "R           1.285290e-01  ...    NaN   NaN   NaN   NaN   NaN   NaN   NaN   \n",
       "\n",
       "            4997  4998  4999  \n",
       "Count_type                    \n",
       "S            NaN   NaN   NaN  \n",
       "I            NaN   NaN   NaN  \n",
       "R            NaN   NaN   NaN  \n",
       "\n",
       "[3 rows x 5000 columns]"
      ]
     },
     "execution_count": 26,
     "metadata": {},
     "output_type": "execute_result"
    }
   ],
   "source": [
    "results.xs((82,60,1), level=('Init_station','Init_time','Init_count')).drop(columns=range(5000,7000))"
   ]
  },
  {
   "cell_type": "code",
   "execution_count": 3,
   "metadata": {},
   "outputs": [
    {
     "data": {
      "text/plain": [
       "<matplotlib.axes._subplots.AxesSubplot at 0x7f4f0b367978>"
      ]
     },
     "execution_count": 3,
     "metadata": {},
     "output_type": "execute_result"
    },
    {
     "data": {
      "image/png": "[encoded data removed]",
      "text/plain": [
       "<Figure size 432x288 with 1 Axes>"
      ]
     },
     "metadata": {
      "needs_background": "light"
     },
     "output_type": "display_data"
    }
   ],
   "source": [
    "I_series = results.xs('I', level='Count_type').fillna(0)\n",
    "all_peaks = pd.concat([I_series.T.idxmax(), I_series.T.max(), I_series.T.max()], axis=1)\n",
    "all_peaks.columns = ['Time', 'Value', 'Total']\n",
    "all_peaks['Time'] = all_peaks['Time'] / 24\n",
    "all_peaks.plot.scatter('Time', 'Value', logy=True)"
   ]
  },
  {
   "cell_type": "markdown",
   "metadata": {},
   "source": [
    "# Minor epidemic group"
   ]
  },
  {
   "cell_type": "code",
   "execution_count": 4,
   "metadata": {},
   "outputs": [
    {
     "data": {
      "text/plain": [
       "{3, 14, 15, 29, 55, 63, 69, 119, 210, 217, 222, 224, 312, 338}"
      ]
     },
     "execution_count": 4,
     "metadata": {},
     "output_type": "execute_result"
    }
   ],
   "source": [
    "group_1 = all_peaks[all_peaks['Value'] < 100]\n",
    "set(group_1.index.get_level_values('Init_station'))"
   ]
  },
  {
   "cell_type": "code",
   "execution_count": 5,
   "metadata": {},
   "outputs": [
    {
     "data": {
      "text/html": [
       "<div>\n",
       "<style scoped>\n",
       "    .dataframe tbody tr th:only-of-type {\n",
       "        vertical-align: middle;\n",
       "    }\n",
       "\n",
       "    .dataframe tbody tr th {\n",
       "        vertical-align: top;\n",
       "    }\n",
       "\n",
       "    .dataframe thead th {\n",
       "        text-align: right;\n",
       "    }\n",
       "</style>\n",
       "<table border=\"1\" class=\"dataframe\">\n",
       "  <thead>\n",
       "    <tr style=\"text-align: right;\">\n",
       "      <th></th>\n",
       "      <th>Start station</th>\n",
       "      <th>End station</th>\n",
       "      <th>Day</th>\n",
       "      <th>Entry hour</th>\n",
       "      <th>Journey count</th>\n",
       "    </tr>\n",
       "  </thead>\n",
       "  <tbody>\n",
       "    <tr>\n",
       "      <th>0</th>\n",
       "      <td>Acton Central</td>\n",
       "      <td>Acton Central</td>\n",
       "      <td>Sat</td>\n",
       "      <td>18</td>\n",
       "      <td>1</td>\n",
       "    </tr>\n",
       "    <tr>\n",
       "      <th>1</th>\n",
       "      <td>Acton Central</td>\n",
       "      <td>Acton Central</td>\n",
       "      <td>Sun</td>\n",
       "      <td>7</td>\n",
       "      <td>1</td>\n",
       "    </tr>\n",
       "    <tr>\n",
       "      <th>2</th>\n",
       "      <td>Acton Central</td>\n",
       "      <td>Acton Central</td>\n",
       "      <td>Thu</td>\n",
       "      <td>13</td>\n",
       "      <td>1</td>\n",
       "    </tr>\n",
       "    <tr>\n",
       "      <th>3</th>\n",
       "      <td>Acton Central</td>\n",
       "      <td>Acton Central</td>\n",
       "      <td>Wed</td>\n",
       "      <td>17</td>\n",
       "      <td>1</td>\n",
       "    </tr>\n",
       "    <tr>\n",
       "      <th>4</th>\n",
       "      <td>Acton Central</td>\n",
       "      <td>Baker Street</td>\n",
       "      <td>Mon</td>\n",
       "      <td>7</td>\n",
       "      <td>1</td>\n",
       "    </tr>\n",
       "  </tbody>\n",
       "</table>\n",
       "</div>"
      ],
      "text/plain": [
       "   Start station    End station  Day  Entry hour  Journey count\n",
       "0  Acton Central  Acton Central  Sat          18              1\n",
       "1  Acton Central  Acton Central  Sun           7              1\n",
       "2  Acton Central  Acton Central  Thu          13              1\n",
       "3  Acton Central  Acton Central  Wed          17              1\n",
       "4  Acton Central   Baker Street  Mon           7              1"
      ]
     },
     "execution_count": 5,
     "metadata": {},
     "output_type": "execute_result"
    }
   ],
   "source": [
    "move_data = pd.read_csv(path.join(DATA_DIR, 'journey_count.csv'))\n",
    "move_data.head()"
   ]
  },
  {
   "cell_type": "code",
   "execution_count": 7,
   "metadata": {},
   "outputs": [],
   "source": [
    "STATION_LOOKUP = {\n",
    "    i: name for i, name in enumerate(move_data['Start station'].unique())\n",
    "}"
   ]
  },
  {
   "cell_type": "code",
   "execution_count": 11,
   "metadata": {},
   "outputs": [
    {
     "data": {
      "text/plain": [
       "{'Aldgate',\n",
       " 'Bank',\n",
       " 'Barbican',\n",
       " 'Blackfriars',\n",
       " 'Cannon Street',\n",
       " 'Chancery Lane',\n",
       " 'City Thameslink',\n",
       " 'Fenchurch St NR',\n",
       " 'Liverpool Street',\n",
       " 'Mansion House',\n",
       " 'Monument',\n",
       " 'Moorgate',\n",
       " 'St Pauls',\n",
       " 'Tower Gateway'}"
      ]
     },
     "execution_count": 11,
     "metadata": {},
     "output_type": "execute_result"
    }
   ],
   "source": [
    "station_names=set(STATION_LOOKUP[i] for i in group_1.index.get_level_values('Init_station'))\n",
    "station_names"
   ]
  },
  {
   "cell_type": "markdown",
   "metadata": {},
   "source": [
    "## Hypothesis: initial pop related to peak"
   ]
  },
  {
   "cell_type": "code",
   "execution_count": 27,
   "metadata": {},
   "outputs": [
    {
     "data": {
      "text/html": [
       "<div>\n",
       "<style scoped>\n",
       "    .dataframe tbody tr th:only-of-type {\n",
       "        vertical-align: middle;\n",
       "    }\n",
       "\n",
       "    .dataframe tbody tr th {\n",
       "        vertical-align: top;\n",
       "    }\n",
       "\n",
       "    .dataframe thead th {\n",
       "        text-align: right;\n",
       "    }\n",
       "</style>\n",
       "<table border=\"1\" class=\"dataframe\">\n",
       "  <thead>\n",
       "    <tr style=\"text-align: right;\">\n",
       "      <th></th>\n",
       "      <th>Local authority</th>\n",
       "      <th>Population</th>\n",
       "      <th>Station count</th>\n",
       "      <th>Station population</th>\n",
       "    </tr>\n",
       "    <tr>\n",
       "      <th>Station</th>\n",
       "      <th></th>\n",
       "      <th></th>\n",
       "      <th></th>\n",
       "      <th></th>\n",
       "    </tr>\n",
       "  </thead>\n",
       "  <tbody>\n",
       "    <tr>\n",
       "      <th>Acton Central</th>\n",
       "      <td>Ealing</td>\n",
       "      <td>329966</td>\n",
       "      <td>26</td>\n",
       "      <td>12691.000000</td>\n",
       "    </tr>\n",
       "    <tr>\n",
       "      <th>Acton Main Line</th>\n",
       "      <td>Ealing</td>\n",
       "      <td>329966</td>\n",
       "      <td>26</td>\n",
       "      <td>12691.000000</td>\n",
       "    </tr>\n",
       "    <tr>\n",
       "      <th>Acton Town</th>\n",
       "      <td>Ealing</td>\n",
       "      <td>329966</td>\n",
       "      <td>26</td>\n",
       "      <td>12691.000000</td>\n",
       "    </tr>\n",
       "    <tr>\n",
       "      <th>Aldgate</th>\n",
       "      <td>City of London</td>\n",
       "      <td>7472</td>\n",
       "      <td>14</td>\n",
       "      <td>533.714286</td>\n",
       "    </tr>\n",
       "    <tr>\n",
       "      <th>Aldgate East</th>\n",
       "      <td>Tower Hamlets</td>\n",
       "      <td>240495</td>\n",
       "      <td>28</td>\n",
       "      <td>8589.107143</td>\n",
       "    </tr>\n",
       "  </tbody>\n",
       "</table>\n",
       "</div>"
      ],
      "text/plain": [
       "                Local authority  Population  Station count  Station population\n",
       "Station                                                                       \n",
       "Acton Central            Ealing      329966             26        12691.000000\n",
       "Acton Main Line          Ealing      329966             26        12691.000000\n",
       "Acton Town               Ealing      329966             26        12691.000000\n",
       "Aldgate          City of London        7472             14          533.714286\n",
       "Aldgate East      Tower Hamlets      240495             28         8589.107143"
      ]
     },
     "execution_count": 27,
     "metadata": {},
     "output_type": "execute_result"
    }
   ],
   "source": [
    "from simulate import get_pop_data\n",
    "pop_data = get_pop_data()[0]\n",
    "pop_data.set_index('Station', inplace=True)\n",
    "pop_data.head()"
   ]
  },
  {
   "cell_type": "code",
   "execution_count": 33,
   "metadata": {},
   "outputs": [
    {
     "data": {
      "text/plain": [
       "533.7142857142857"
      ]
     },
     "execution_count": 33,
     "metadata": {},
     "output_type": "execute_result"
    }
   ],
   "source": [
    "pop_data.loc['Aldgate']['Station population']"
   ]
  },
  {
   "cell_type": "code",
   "execution_count": 43,
   "metadata": {},
   "outputs": [
    {
     "data": {
      "text/html": [
       "<div>\n",
       "<style scoped>\n",
       "    .dataframe tbody tr th:only-of-type {\n",
       "        vertical-align: middle;\n",
       "    }\n",
       "\n",
       "    .dataframe tbody tr th {\n",
       "        vertical-align: top;\n",
       "    }\n",
       "\n",
       "    .dataframe thead th {\n",
       "        text-align: right;\n",
       "    }\n",
       "</style>\n",
       "<table border=\"1\" class=\"dataframe\">\n",
       "  <thead>\n",
       "    <tr style=\"text-align: right;\">\n",
       "      <th></th>\n",
       "      <th></th>\n",
       "      <th></th>\n",
       "      <th>Time</th>\n",
       "      <th>Value</th>\n",
       "      <th>Total</th>\n",
       "      <th>Station_name</th>\n",
       "      <th>Station_pop</th>\n",
       "    </tr>\n",
       "    <tr>\n",
       "      <th>Init_station</th>\n",
       "      <th>Init_time</th>\n",
       "      <th>Init_count</th>\n",
       "      <th></th>\n",
       "      <th></th>\n",
       "      <th></th>\n",
       "      <th></th>\n",
       "      <th></th>\n",
       "    </tr>\n",
       "  </thead>\n",
       "  <tbody>\n",
       "    <tr>\n",
       "      <th rowspan=\"5\" valign=\"top\">0</th>\n",
       "      <th>3</th>\n",
       "      <th>1</th>\n",
       "      <td>96.916667</td>\n",
       "      <td>354889.284154</td>\n",
       "      <td>354889.284154</td>\n",
       "      <td>Acton Central</td>\n",
       "      <td>12691.0</td>\n",
       "    </tr>\n",
       "    <tr>\n",
       "      <th>60</th>\n",
       "      <th>1</th>\n",
       "      <td>49.708333</td>\n",
       "      <td>802.024580</td>\n",
       "      <td>802.024580</td>\n",
       "      <td>Acton Central</td>\n",
       "      <td>12691.0</td>\n",
       "    </tr>\n",
       "    <tr>\n",
       "      <th>99</th>\n",
       "      <th>1</th>\n",
       "      <td>49.708333</td>\n",
       "      <td>802.024580</td>\n",
       "      <td>802.024580</td>\n",
       "      <td>Acton Central</td>\n",
       "      <td>12691.0</td>\n",
       "    </tr>\n",
       "    <tr>\n",
       "      <th>108</th>\n",
       "      <th>1</th>\n",
       "      <td>49.708333</td>\n",
       "      <td>802.024580</td>\n",
       "      <td>802.024580</td>\n",
       "      <td>Acton Central</td>\n",
       "      <td>12691.0</td>\n",
       "    </tr>\n",
       "    <tr>\n",
       "      <th>123</th>\n",
       "      <th>1</th>\n",
       "      <td>49.708333</td>\n",
       "      <td>802.024580</td>\n",
       "      <td>802.024580</td>\n",
       "      <td>Acton Central</td>\n",
       "      <td>12691.0</td>\n",
       "    </tr>\n",
       "  </tbody>\n",
       "</table>\n",
       "</div>"
      ],
      "text/plain": [
       "                                        Time          Value          Total  \\\n",
       "Init_station Init_time Init_count                                            \n",
       "0            3         1           96.916667  354889.284154  354889.284154   \n",
       "             60        1           49.708333     802.024580     802.024580   \n",
       "             99        1           49.708333     802.024580     802.024580   \n",
       "             108       1           49.708333     802.024580     802.024580   \n",
       "             123       1           49.708333     802.024580     802.024580   \n",
       "\n",
       "                                    Station_name  Station_pop  \n",
       "Init_station Init_time Init_count                              \n",
       "0            3         1           Acton Central      12691.0  \n",
       "             60        1           Acton Central      12691.0  \n",
       "             99        1           Acton Central      12691.0  \n",
       "             108       1           Acton Central      12691.0  \n",
       "             123       1           Acton Central      12691.0  "
      ]
     },
     "execution_count": 43,
     "metadata": {},
     "output_type": "execute_result"
    }
   ],
   "source": [
    "all_peaks['Station_name'] = [STATION_LOOKUP[s] for s in all_peaks.reset_index()['Init_station']]\n",
    "all_peaks['Station_pop'] = all_peaks['Station_name'].apply(lambda s: pop_data.loc[s]['Station population'])\n",
    "all_peaks.head()"
   ]
  },
  {
   "cell_type": "code",
   "execution_count": 46,
   "metadata": {},
   "outputs": [
    {
     "data": {
      "text/plain": [
       "<matplotlib.axes._subplots.AxesSubplot at 0x7f4f0934d3c8>"
      ]
     },
     "execution_count": 46,
     "metadata": {},
     "output_type": "execute_result"
    },
    {
     "data": {
      "image/png": "[encoded data removed]",
      "text/plain": [
       "<Figure size 432x288 with 1 Axes>"
      ]
     },
     "metadata": {
      "needs_background": "light"
     },
     "output_type": "display_data"
    }
   ],
   "source": [
    "all_peaks[all_peaks['Value'] < 3e5].plot.scatter('Station_pop', 'Value')"
   ]
  }
 ],
 "metadata": {
  "kernelspec": {
   "display_name": "proj_data",
   "language": "python",
   "name": "proj_data"
  },
  "language_info": {
   "codemirror_mode": {
    "name": "ipython",
    "version": 3
   },
   "file_extension": ".py",
   "mimetype": "text/x-python",
   "name": "python",
   "nbconvert_exporter": "python",
   "pygments_lexer": "ipython3",
   "version": "3.4.3"
  }
 },
 "nbformat": 4,
 "nbformat_minor": 2
}
